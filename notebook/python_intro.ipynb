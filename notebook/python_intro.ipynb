{
 "cells": [
  {
   "cell_type": "markdown",
   "metadata": {},
   "source": [
    "# Python基础"
   ]
  },
  {
   "cell_type": "markdown",
   "metadata": {},
   "source": [
    "# 1. Python 常用数据结构\n",
    "### 1.1 数字"
   ]
  },
  {
   "cell_type": "code",
   "execution_count": 1,
   "metadata": {
    "pycharm": {
     "name": "#%%\n"
    }
   },
   "outputs": [
    {
     "data": {
      "text/plain": [
       "1"
      ]
     },
     "execution_count": 1,
     "metadata": {},
     "output_type": "execute_result"
    }
   ],
   "source": [
    "a = 1\n",
    "a"
   ]
  },
  {
   "cell_type": "code",
   "execution_count": 2,
   "metadata": {
    "pycharm": {
     "name": "#%%\n"
    }
   },
   "outputs": [
    {
     "data": {
      "text/plain": [
       "0.02"
      ]
     },
     "execution_count": 2,
     "metadata": {},
     "output_type": "execute_result"
    }
   ],
   "source": [
    "b = 0.02\n",
    "b"
   ]
  },
  {
   "cell_type": "markdown",
   "metadata": {},
   "source": [
    "### 1.2 字符串"
   ]
  },
  {
   "cell_type": "code",
   "execution_count": 3,
   "metadata": {
    "pycharm": {
     "name": "#%%\n"
    }
   },
   "outputs": [
    {
     "data": {
      "text/plain": [
       "'hello world'"
      ]
     },
     "execution_count": 3,
     "metadata": {},
     "output_type": "execute_result"
    }
   ],
   "source": [
    "s = 'hello world'\n",
    "s"
   ]
  },
  {
   "cell_type": "code",
   "execution_count": 4,
   "metadata": {
    "pycharm": {
     "name": "#%%\n"
    }
   },
   "outputs": [
    {
     "data": {
      "text/plain": [
       "'hello world'"
      ]
     },
     "execution_count": 4,
     "metadata": {},
     "output_type": "execute_result"
    }
   ],
   "source": [
    "s = \"hello world\"\n",
    "s"
   ]
  },
  {
   "cell_type": "code",
   "execution_count": 5,
   "metadata": {
    "pycharm": {
     "name": "#%%\n"
    }
   },
   "outputs": [
    {
     "data": {
      "text/plain": [
       "'hello world'"
      ]
     },
     "execution_count": 5,
     "metadata": {},
     "output_type": "execute_result"
    }
   ],
   "source": [
    "s = 'hello' + ' world'\n",
    "s"
   ]
  },
  {
   "cell_type": "markdown",
   "metadata": {},
   "source": [
    "字符串索引:"
   ]
  },
  {
   "cell_type": "code",
   "execution_count": 6,
   "metadata": {
    "pycharm": {
     "name": "#%%\n"
    }
   },
   "outputs": [
    {
     "data": {
      "text/plain": [
       "'h'"
      ]
     },
     "execution_count": 6,
     "metadata": {},
     "output_type": "execute_result"
    }
   ],
   "source": [
    "s[0]"
   ]
  },
  {
   "cell_type": "code",
   "execution_count": 7,
   "metadata": {
    "pycharm": {
     "name": "#%%\n"
    }
   },
   "outputs": [
    {
     "data": {
      "text/plain": [
       "'d'"
      ]
     },
     "execution_count": 7,
     "metadata": {},
     "output_type": "execute_result"
    }
   ],
   "source": [
    "s[-1]"
   ]
  },
  {
   "cell_type": "code",
   "execution_count": 8,
   "metadata": {
    "pycharm": {
     "name": "#%%\n"
    }
   },
   "outputs": [
    {
     "data": {
      "text/plain": [
       "'hello'"
      ]
     },
     "execution_count": 8,
     "metadata": {},
     "output_type": "execute_result"
    }
   ],
   "source": [
    "s[0:5]"
   ]
  },
  {
   "cell_type": "markdown",
   "metadata": {},
   "source": [
    "### 1.3 列表 List"
   ]
  },
  {
   "cell_type": "code",
   "execution_count": 9,
   "metadata": {
    "pycharm": {
     "name": "#%%\n"
    }
   },
   "outputs": [
    {
     "data": {
      "text/plain": [
       "[1, 2.0, 'hello', 6.0]"
      ]
     },
     "execution_count": 9,
     "metadata": {},
     "output_type": "execute_result"
    }
   ],
   "source": [
    "a = [1, 2.0, 'hello', 5 + 1.0]\n",
    "a"
   ]
  },
  {
   "cell_type": "code",
   "execution_count": 10,
   "metadata": {
    "pycharm": {
     "name": "#%%\n"
    }
   },
   "outputs": [
    {
     "data": {
      "text/plain": [
       "[1, 2.0, 'hello', 6.0, 1, 2.0, 'hello', 6.0]"
      ]
     },
     "execution_count": 10,
     "metadata": {},
     "output_type": "execute_result"
    }
   ],
   "source": [
    "a + a"
   ]
  },
  {
   "cell_type": "code",
   "execution_count": 11,
   "metadata": {
    "pycharm": {
     "name": "#%%\n"
    }
   },
   "outputs": [
    {
     "data": {
      "text/plain": [
       "2.0"
      ]
     },
     "execution_count": 11,
     "metadata": {},
     "output_type": "execute_result"
    }
   ],
   "source": [
    "a[1]"
   ]
  },
  {
   "cell_type": "code",
   "execution_count": 12,
   "metadata": {
    "pycharm": {
     "name": "#%%\n"
    }
   },
   "outputs": [
    {
     "data": {
      "text/plain": [
       "4"
      ]
     },
     "execution_count": 12,
     "metadata": {},
     "output_type": "execute_result"
    }
   ],
   "source": [
    "len(a)"
   ]
  },
  {
   "cell_type": "code",
   "execution_count": 13,
   "metadata": {
    "pycharm": {
     "name": "#%%\n"
    }
   },
   "outputs": [
    {
     "data": {
      "text/plain": [
       "[1, 2.0, 'hello', 6.0, 'world']"
      ]
     },
     "execution_count": 13,
     "metadata": {},
     "output_type": "execute_result"
    }
   ],
   "source": [
    "a.append('world')\n",
    "a"
   ]
  },
  {
   "cell_type": "markdown",
   "metadata": {},
   "source": [
    "### 1.4 集合 Set"
   ]
  },
  {
   "cell_type": "code",
   "execution_count": 14,
   "metadata": {
    "pycharm": {
     "name": "#%%\n"
    }
   },
   "outputs": [
    {
     "data": {
      "text/plain": [
       "{2, 3, 4}"
      ]
     },
     "execution_count": 14,
     "metadata": {},
     "output_type": "execute_result"
    }
   ],
   "source": [
    "s = {2, 3, 4, 2}\n",
    "s"
   ]
  },
  {
   "cell_type": "code",
   "execution_count": 15,
   "metadata": {
    "pycharm": {
     "name": "#%%\n"
    }
   },
   "outputs": [
    {
     "data": {
      "text/plain": [
       "{2, 3, 4}"
      ]
     },
     "execution_count": 15,
     "metadata": {},
     "output_type": "execute_result"
    }
   ],
   "source": [
    "a = {1, 2, 3, 4}\n",
    "b = {2, 3, 4, 5}\n",
    "a & b"
   ]
  },
  {
   "cell_type": "code",
   "execution_count": 16,
   "metadata": {
    "pycharm": {
     "name": "#%%\n"
    }
   },
   "outputs": [
    {
     "data": {
      "text/plain": [
       "{1, 2, 3, 4, 5}"
      ]
     },
     "execution_count": 16,
     "metadata": {},
     "output_type": "execute_result"
    }
   ],
   "source": [
    "a | b"
   ]
  },
  {
   "cell_type": "code",
   "execution_count": 17,
   "metadata": {
    "pycharm": {
     "name": "#%%\n"
    }
   },
   "outputs": [
    {
     "data": {
      "text/plain": [
       "{1}"
      ]
     },
     "execution_count": 17,
     "metadata": {},
     "output_type": "execute_result"
    }
   ],
   "source": [
    "a - b"
   ]
  },
  {
   "cell_type": "code",
   "execution_count": 18,
   "metadata": {
    "pycharm": {
     "name": "#%%\n"
    }
   },
   "outputs": [
    {
     "data": {
      "text/plain": [
       "{1, 5}"
      ]
     },
     "execution_count": 18,
     "metadata": {},
     "output_type": "execute_result"
    }
   ],
   "source": [
    "a ^ b"
   ]
  },
  {
   "cell_type": "markdown",
   "metadata": {},
   "source": [
    "### 1.5 字典 Dictionary "
   ]
  },
  {
   "cell_type": "code",
   "execution_count": 19,
   "metadata": {
    "pycharm": {
     "name": "#%%\n"
    }
   },
   "outputs": [
    {
     "data": {
      "text/plain": [
       "{'dogs': 5, 'cats': 4}"
      ]
     },
     "execution_count": 19,
     "metadata": {},
     "output_type": "execute_result"
    }
   ],
   "source": [
    "d = {'dogs':5, 'cats':4}\n",
    "d"
   ]
  },
  {
   "cell_type": "code",
   "execution_count": 20,
   "metadata": {
    "pycharm": {
     "name": "#%%\n"
    }
   },
   "outputs": [
    {
     "data": {
      "text/plain": [
       "5"
      ]
     },
     "execution_count": 20,
     "metadata": {},
     "output_type": "execute_result"
    }
   ],
   "source": [
    "d[\"dogs\"]"
   ]
  },
  {
   "cell_type": "code",
   "execution_count": 21,
   "metadata": {
    "pycharm": {
     "name": "#%%\n"
    }
   },
   "outputs": [
    {
     "data": {
      "text/plain": [
       "{'dogs': 2, 'cats': 4}"
      ]
     },
     "execution_count": 21,
     "metadata": {},
     "output_type": "execute_result"
    }
   ],
   "source": [
    "d[\"dogs\"] = 2\n",
    "d"
   ]
  },
  {
   "cell_type": "code",
   "execution_count": 22,
   "metadata": {
    "pycharm": {
     "name": "#%%\n"
    }
   },
   "outputs": [
    {
     "data": {
      "text/plain": [
       "{'dogs': 2, 'cats': 4, 'pigs': 7}"
      ]
     },
     "execution_count": 22,
     "metadata": {},
     "output_type": "execute_result"
    }
   ],
   "source": [
    "d[\"pigs\"] = 7\n",
    "d"
   ]
  },
  {
   "cell_type": "code",
   "execution_count": 23,
   "metadata": {
    "pycharm": {
     "name": "#%%\n"
    }
   },
   "outputs": [
    {
     "data": {
      "text/plain": [
       "dict_keys(['dogs', 'cats', 'pigs'])"
      ]
     },
     "execution_count": 23,
     "metadata": {},
     "output_type": "execute_result"
    }
   ],
   "source": [
    "d.keys()"
   ]
  },
  {
   "cell_type": "code",
   "execution_count": 24,
   "metadata": {
    "pycharm": {
     "name": "#%%\n"
    }
   },
   "outputs": [
    {
     "data": {
      "text/plain": [
       "dict_values([2, 4, 7])"
      ]
     },
     "execution_count": 24,
     "metadata": {},
     "output_type": "execute_result"
    }
   ],
   "source": [
    "d.values()"
   ]
  },
  {
   "cell_type": "code",
   "execution_count": 25,
   "metadata": {
    "pycharm": {
     "name": "#%%\n"
    }
   },
   "outputs": [
    {
     "data": {
      "text/plain": [
       "dict_items([('dogs', 2), ('cats', 4), ('pigs', 7)])"
      ]
     },
     "execution_count": 25,
     "metadata": {},
     "output_type": "execute_result"
    }
   ],
   "source": [
    "d.items()"
   ]
  },
  {
   "cell_type": "markdown",
   "metadata": {},
   "source": [
    "### 1.6 数组 Numpy Arrays"
   ]
  },
  {
   "cell_type": "markdown",
   "metadata": {},
   "source": [
    "Numpy数组可以进行很多列表不能进行的运算"
   ]
  },
  {
   "cell_type": "code",
   "execution_count": 26,
   "metadata": {
    "pycharm": {
     "name": "#%%\n"
    }
   },
   "outputs": [
    {
     "data": {
      "text/plain": [
       "array([1, 2, 3, 4])"
      ]
     },
     "execution_count": 26,
     "metadata": {},
     "output_type": "execute_result"
    }
   ],
   "source": [
    "from numpy import array\n",
    "a = array([1, 2, 3, 4])\n",
    "a"
   ]
  },
  {
   "cell_type": "code",
   "execution_count": 27,
   "metadata": {
    "pycharm": {
     "name": "#%%\n"
    }
   },
   "outputs": [
    {
     "data": {
      "text/plain": [
       "array([3, 4, 5, 6])"
      ]
     },
     "execution_count": 27,
     "metadata": {},
     "output_type": "execute_result"
    }
   ],
   "source": [
    "a + 2"
   ]
  },
  {
   "cell_type": "code",
   "execution_count": 28,
   "metadata": {
    "pycharm": {
     "name": "#%%\n"
    }
   },
   "outputs": [
    {
     "data": {
      "text/plain": [
       "array([2, 4, 6, 8])"
      ]
     },
     "execution_count": 28,
     "metadata": {},
     "output_type": "execute_result"
    }
   ],
   "source": [
    "a + a"
   ]
  },
  {
   "cell_type": "code",
   "execution_count": 29,
   "metadata": {
    "pycharm": {
     "name": "#%%\n"
    }
   },
   "outputs": [
    {
     "data": {
      "text/plain": [
       "array([ 1,  4,  9, 16])"
      ]
     },
     "execution_count": 29,
     "metadata": {},
     "output_type": "execute_result"
    }
   ],
   "source": [
    "a * a"
   ]
  },
  {
   "cell_type": "code",
   "execution_count": 30,
   "metadata": {
    "pycharm": {
     "name": "#%%\n"
    }
   },
   "outputs": [
    {
     "data": {
      "text/plain": [
       "array([  1,   4,  27, 256], dtype=int32)"
      ]
     },
     "execution_count": 30,
     "metadata": {},
     "output_type": "execute_result"
    }
   ],
   "source": [
    "a ** a"
   ]
  },
  {
   "cell_type": "code",
   "execution_count": 31,
   "metadata": {
    "pycharm": {
     "name": "#%%\n"
    }
   },
   "outputs": [
    {
     "data": {
      "text/plain": [
       "array([4, 6])"
      ]
     },
     "execution_count": 31,
     "metadata": {},
     "output_type": "execute_result"
    }
   ],
   "source": [
    "a[:2] + a[-2:]"
   ]
  },
  {
   "cell_type": "code",
   "execution_count": 32,
   "metadata": {
    "pycharm": {
     "name": "#%%\n"
    }
   },
   "outputs": [
    {
     "data": {
      "text/plain": [
       "(4,)"
      ]
     },
     "execution_count": 32,
     "metadata": {},
     "output_type": "execute_result"
    }
   ],
   "source": [
    "a.shape"
   ]
  },
  {
   "cell_type": "code",
   "execution_count": 33,
   "metadata": {
    "pycharm": {
     "name": "#%%\n"
    }
   },
   "outputs": [
    {
     "data": {
      "text/plain": [
       "array([[1, 2],\n",
       "       [3, 4]])"
      ]
     },
     "execution_count": 33,
     "metadata": {},
     "output_type": "execute_result"
    }
   ],
   "source": [
    "a.shape = 2,2\n",
    "a"
   ]
  },
  {
   "cell_type": "code",
   "execution_count": 34,
   "metadata": {
    "pycharm": {
     "name": "#%%\n"
    }
   },
   "outputs": [
    {
     "data": {
      "text/plain": [
       "2"
      ]
     },
     "execution_count": 34,
     "metadata": {},
     "output_type": "execute_result"
    }
   ],
   "source": [
    "a.ndim"
   ]
  },
  {
   "cell_type": "markdown",
   "metadata": {},
   "source": [
    "### 1.7 Pandas一维数据结构：Series"
   ]
  },
  {
   "cell_type": "code",
   "execution_count": 35,
   "metadata": {
    "pycharm": {
     "name": "#%%\n"
    }
   },
   "outputs": [],
   "source": [
    "import numpy as np\n",
    "import pandas as pd"
   ]
  },
  {
   "cell_type": "markdown",
   "metadata": {},
   "source": [
    "`Series` 是一维带标记的数组结构，可以存储任意类型的数据（整数，浮点数，字符串，`Python` 对象等等）。\n",
    "\n",
    "作为一维结构，它的索引叫做 `index`，基本调用方法为\n",
    "\n",
    "    s = pd.Series(data, index=index)\n",
    "    \n",
    "其中，`data` 可以是以下结构：\n",
    "\n",
    "- 字典\n",
    "- `ndarray`\n",
    "- 标量，例如 `5`\n",
    "\n",
    "`index` 是一维坐标轴的索引列表。"
   ]
  },
  {
   "cell_type": "markdown",
   "metadata": {},
   "source": [
    "如果 `data` 是个 `ndarray`，那么 `index` 的长度必须跟 `data` 一致："
   ]
  },
  {
   "cell_type": "code",
   "execution_count": 36,
   "metadata": {
    "pycharm": {
     "name": "#%%\n"
    }
   },
   "outputs": [
    {
     "data": {
      "text/plain": [
       "a   -0.391071\n",
       "b   -0.297148\n",
       "c    0.891443\n",
       "d    0.131647\n",
       "e   -2.088058\n",
       "dtype: float64"
      ]
     },
     "execution_count": 36,
     "metadata": {},
     "output_type": "execute_result"
    }
   ],
   "source": [
    "s = pd.Series(np.random.randn(5), index=[\"a\", \"b\", \"c\", \"d\", \"e\"])\n",
    "\n",
    "s"
   ]
  },
  {
   "cell_type": "code",
   "execution_count": 37,
   "metadata": {
    "pycharm": {
     "name": "#%%\n"
    }
   },
   "outputs": [
    {
     "data": {
      "text/plain": [
       "0   -0.699289\n",
       "1    0.129665\n",
       "2    1.024578\n",
       "3    0.020544\n",
       "4   -0.579999\n",
       "dtype: float64"
      ]
     },
     "execution_count": 37,
     "metadata": {},
     "output_type": "execute_result"
    }
   ],
   "source": [
    "pd.Series(np.random.randn(5))"
   ]
  },
  {
   "cell_type": "markdown",
   "metadata": {},
   "source": [
    "#### 向量化操作"
   ]
  },
  {
   "cell_type": "markdown",
   "metadata": {},
   "source": [
    "简单的向量操作与 `ndarray` 的表现一致："
   ]
  },
  {
   "cell_type": "code",
   "execution_count": 38,
   "metadata": {
    "pycharm": {
     "name": "#%%\n"
    }
   },
   "outputs": [
    {
     "data": {
      "text/plain": [
       "a   -0.782142\n",
       "b   -0.594295\n",
       "c    1.782887\n",
       "d    0.263294\n",
       "e   -4.176116\n",
       "dtype: float64"
      ]
     },
     "execution_count": 38,
     "metadata": {},
     "output_type": "execute_result"
    }
   ],
   "source": [
    "s + s"
   ]
  },
  {
   "cell_type": "code",
   "execution_count": 39,
   "metadata": {
    "pycharm": {
     "name": "#%%\n"
    }
   },
   "outputs": [
    {
     "data": {
      "text/plain": [
       "a   -0.782142\n",
       "b   -0.594295\n",
       "c    1.782887\n",
       "d    0.263294\n",
       "e   -4.176116\n",
       "dtype: float64"
      ]
     },
     "execution_count": 39,
     "metadata": {},
     "output_type": "execute_result"
    }
   ],
   "source": [
    "s * 2"
   ]
  },
  {
   "cell_type": "markdown",
   "metadata": {},
   "source": [
    "但 `Series` 和 `ndarray` 不同的地方在于，`Series` 的操作默认是使用 `index` 的值进行对齐的，而不是相对位置："
   ]
  },
  {
   "cell_type": "code",
   "execution_count": 40,
   "metadata": {
    "pycharm": {
     "name": "#%%\n"
    }
   },
   "outputs": [
    {
     "data": {
      "text/plain": [
       "a         NaN\n",
       "b   -0.594295\n",
       "c    1.782887\n",
       "d    0.263294\n",
       "e         NaN\n",
       "dtype: float64"
      ]
     },
     "execution_count": 40,
     "metadata": {},
     "output_type": "execute_result"
    }
   ],
   "source": [
    "s[1:] + s[:-1]"
   ]
  },
  {
   "cell_type": "markdown",
   "metadata": {},
   "source": [
    "对于上面两个不能完全对齐的 `Series`，结果的 `index` 是两者 `index` 的并集，同时不能对齐的部分当作缺失值处理。"
   ]
  },
  {
   "cell_type": "markdown",
   "metadata": {},
   "source": [
    "### 1.8 Pandas二维数据结构：DataFrame"
   ]
  },
  {
   "cell_type": "markdown",
   "metadata": {},
   "source": [
    "`DataFrame` 是 `pandas` 中的二维数据结构，可以看成一个 `Excel` 中的工作表，或者一个 `SQL` 表，或者一个存储 `Series` 对象的字典。\n",
    "\n",
    "`DataFrame(data, index, columns)` 中的 `data` 可以接受很多数据类型：\n",
    "\n",
    "- 一个存储一维数组，字典，列表或者 `Series` 的字典\n",
    "- 2-D 数组\n",
    "- 结构或者记录数组\n",
    "- 一个 `Series`\n",
    "- 另一个 `DataFrame`\n",
    "\n",
    "`index` 用于指定行的 `label`，`columns` 用于指定列的 `label`，如果参数不传入，那么会按照传入的内容进行设定。"
   ]
  },
  {
   "cell_type": "markdown",
   "metadata": {},
   "source": [
    "#### 从 Series 字典中构造"
   ]
  },
  {
   "cell_type": "code",
   "execution_count": 41,
   "metadata": {
    "pycharm": {
     "name": "#%%\n"
    }
   },
   "outputs": [],
   "source": [
    "d = {'one' : pd.Series([1., 2., 3.], index=['a', 'b', 'c']),\n",
    "     'two' : pd.Series([1., 2., 3., 4.], index=['a', 'b', 'c', 'd'])}"
   ]
  },
  {
   "cell_type": "markdown",
   "metadata": {},
   "source": [
    "如果没有传入 `columns` 的值，那么 `columns` 的值默认为字典 `key`，`index` 默认为所有 `value` 中 `index` 的并集。"
   ]
  },
  {
   "cell_type": "code",
   "execution_count": 42,
   "metadata": {
    "pycharm": {
     "name": "#%%\n"
    }
   },
   "outputs": [
    {
     "data": {
      "text/html": [
       "<div>\n",
       "<style scoped>\n",
       "    .dataframe tbody tr th:only-of-type {\n",
       "        vertical-align: middle;\n",
       "    }\n",
       "\n",
       "    .dataframe tbody tr th {\n",
       "        vertical-align: top;\n",
       "    }\n",
       "\n",
       "    .dataframe thead th {\n",
       "        text-align: right;\n",
       "    }\n",
       "</style>\n",
       "<table border=\"1\" class=\"dataframe\">\n",
       "  <thead>\n",
       "    <tr style=\"text-align: right;\">\n",
       "      <th></th>\n",
       "      <th>one</th>\n",
       "      <th>two</th>\n",
       "    </tr>\n",
       "  </thead>\n",
       "  <tbody>\n",
       "    <tr>\n",
       "      <th>a</th>\n",
       "      <td>1.0</td>\n",
       "      <td>1.0</td>\n",
       "    </tr>\n",
       "    <tr>\n",
       "      <th>b</th>\n",
       "      <td>2.0</td>\n",
       "      <td>2.0</td>\n",
       "    </tr>\n",
       "    <tr>\n",
       "      <th>c</th>\n",
       "      <td>3.0</td>\n",
       "      <td>3.0</td>\n",
       "    </tr>\n",
       "    <tr>\n",
       "      <th>d</th>\n",
       "      <td>NaN</td>\n",
       "      <td>4.0</td>\n",
       "    </tr>\n",
       "  </tbody>\n",
       "</table>\n",
       "</div>"
      ],
      "text/plain": [
       "   one  two\n",
       "a  1.0  1.0\n",
       "b  2.0  2.0\n",
       "c  3.0  3.0\n",
       "d  NaN  4.0"
      ]
     },
     "execution_count": 42,
     "metadata": {},
     "output_type": "execute_result"
    }
   ],
   "source": [
    "df = pd.DataFrame(d)\n",
    "\n",
    "df"
   ]
  },
  {
   "cell_type": "markdown",
   "metadata": {},
   "source": [
    "如果指定了 `index` 值，`index` 为指定的 `index` 值："
   ]
  },
  {
   "cell_type": "code",
   "execution_count": 43,
   "metadata": {
    "pycharm": {
     "name": "#%%\n"
    }
   },
   "outputs": [
    {
     "data": {
      "text/html": [
       "<div>\n",
       "<style scoped>\n",
       "    .dataframe tbody tr th:only-of-type {\n",
       "        vertical-align: middle;\n",
       "    }\n",
       "\n",
       "    .dataframe tbody tr th {\n",
       "        vertical-align: top;\n",
       "    }\n",
       "\n",
       "    .dataframe thead th {\n",
       "        text-align: right;\n",
       "    }\n",
       "</style>\n",
       "<table border=\"1\" class=\"dataframe\">\n",
       "  <thead>\n",
       "    <tr style=\"text-align: right;\">\n",
       "      <th></th>\n",
       "      <th>one</th>\n",
       "      <th>two</th>\n",
       "    </tr>\n",
       "  </thead>\n",
       "  <tbody>\n",
       "    <tr>\n",
       "      <th>d</th>\n",
       "      <td>NaN</td>\n",
       "      <td>4.0</td>\n",
       "    </tr>\n",
       "    <tr>\n",
       "      <th>b</th>\n",
       "      <td>2.0</td>\n",
       "      <td>2.0</td>\n",
       "    </tr>\n",
       "    <tr>\n",
       "      <th>a</th>\n",
       "      <td>1.0</td>\n",
       "      <td>1.0</td>\n",
       "    </tr>\n",
       "  </tbody>\n",
       "</table>\n",
       "</div>"
      ],
      "text/plain": [
       "   one  two\n",
       "d  NaN  4.0\n",
       "b  2.0  2.0\n",
       "a  1.0  1.0"
      ]
     },
     "execution_count": 43,
     "metadata": {},
     "output_type": "execute_result"
    }
   ],
   "source": [
    "pd.DataFrame(d, index=['d', 'b', 'a'])"
   ]
  },
  {
   "cell_type": "markdown",
   "metadata": {},
   "source": [
    "如果指定了 `columns` 值，会去字典中寻找，找不到的值为 `NaN`："
   ]
  },
  {
   "cell_type": "code",
   "execution_count": 44,
   "metadata": {
    "pycharm": {
     "name": "#%%\n"
    }
   },
   "outputs": [
    {
     "data": {
      "text/html": [
       "<div>\n",
       "<style scoped>\n",
       "    .dataframe tbody tr th:only-of-type {\n",
       "        vertical-align: middle;\n",
       "    }\n",
       "\n",
       "    .dataframe tbody tr th {\n",
       "        vertical-align: top;\n",
       "    }\n",
       "\n",
       "    .dataframe thead th {\n",
       "        text-align: right;\n",
       "    }\n",
       "</style>\n",
       "<table border=\"1\" class=\"dataframe\">\n",
       "  <thead>\n",
       "    <tr style=\"text-align: right;\">\n",
       "      <th></th>\n",
       "      <th>two</th>\n",
       "      <th>three</th>\n",
       "    </tr>\n",
       "  </thead>\n",
       "  <tbody>\n",
       "    <tr>\n",
       "      <th>d</th>\n",
       "      <td>4.0</td>\n",
       "      <td>NaN</td>\n",
       "    </tr>\n",
       "    <tr>\n",
       "      <th>b</th>\n",
       "      <td>2.0</td>\n",
       "      <td>NaN</td>\n",
       "    </tr>\n",
       "    <tr>\n",
       "      <th>a</th>\n",
       "      <td>1.0</td>\n",
       "      <td>NaN</td>\n",
       "    </tr>\n",
       "  </tbody>\n",
       "</table>\n",
       "</div>"
      ],
      "text/plain": [
       "   two three\n",
       "d  4.0   NaN\n",
       "b  2.0   NaN\n",
       "a  1.0   NaN"
      ]
     },
     "execution_count": 44,
     "metadata": {},
     "output_type": "execute_result"
    }
   ],
   "source": [
    "pd.DataFrame(d, index=['d', 'b', 'a'], columns=['two', 'three'])"
   ]
  },
  {
   "cell_type": "code",
   "execution_count": 45,
   "metadata": {
    "pycharm": {
     "name": "#%%\n"
    }
   },
   "outputs": [
    {
     "data": {
      "text/plain": [
       "Index(['a', 'b', 'c', 'd'], dtype='object')"
      ]
     },
     "execution_count": 45,
     "metadata": {},
     "output_type": "execute_result"
    }
   ],
   "source": [
    "df.index"
   ]
  },
  {
   "cell_type": "code",
   "execution_count": 46,
   "metadata": {
    "pycharm": {
     "name": "#%%\n"
    }
   },
   "outputs": [
    {
     "data": {
      "text/plain": [
       "Index(['one', 'two'], dtype='object')"
      ]
     },
     "execution_count": 46,
     "metadata": {},
     "output_type": "execute_result"
    }
   ],
   "source": [
    "df.columns"
   ]
  },
  {
   "cell_type": "markdown",
   "metadata": {},
   "source": [
    "#### 列操作"
   ]
  },
  {
   "cell_type": "markdown",
   "metadata": {},
   "source": [
    "`DataFrame` 可以类似于字典一样对列进行操作："
   ]
  },
  {
   "cell_type": "code",
   "execution_count": 47,
   "metadata": {
    "pycharm": {
     "name": "#%%\n"
    }
   },
   "outputs": [
    {
     "data": {
      "text/plain": [
       "a    1.0\n",
       "b    2.0\n",
       "c    3.0\n",
       "d    NaN\n",
       "Name: one, dtype: float64"
      ]
     },
     "execution_count": 47,
     "metadata": {},
     "output_type": "execute_result"
    }
   ],
   "source": [
    "df[\"one\"]"
   ]
  },
  {
   "cell_type": "code",
   "execution_count": 48,
   "metadata": {
    "pycharm": {
     "name": "#%%\n"
    }
   },
   "outputs": [
    {
     "data": {
      "text/html": [
       "<div>\n",
       "<style scoped>\n",
       "    .dataframe tbody tr th:only-of-type {\n",
       "        vertical-align: middle;\n",
       "    }\n",
       "\n",
       "    .dataframe tbody tr th {\n",
       "        vertical-align: top;\n",
       "    }\n",
       "\n",
       "    .dataframe thead th {\n",
       "        text-align: right;\n",
       "    }\n",
       "</style>\n",
       "<table border=\"1\" class=\"dataframe\">\n",
       "  <thead>\n",
       "    <tr style=\"text-align: right;\">\n",
       "      <th></th>\n",
       "      <th>one</th>\n",
       "      <th>two</th>\n",
       "      <th>three</th>\n",
       "      <th>flag</th>\n",
       "    </tr>\n",
       "  </thead>\n",
       "  <tbody>\n",
       "    <tr>\n",
       "      <th>a</th>\n",
       "      <td>1.0</td>\n",
       "      <td>1.0</td>\n",
       "      <td>1.0</td>\n",
       "      <td>False</td>\n",
       "    </tr>\n",
       "    <tr>\n",
       "      <th>b</th>\n",
       "      <td>2.0</td>\n",
       "      <td>2.0</td>\n",
       "      <td>4.0</td>\n",
       "      <td>False</td>\n",
       "    </tr>\n",
       "    <tr>\n",
       "      <th>c</th>\n",
       "      <td>3.0</td>\n",
       "      <td>3.0</td>\n",
       "      <td>9.0</td>\n",
       "      <td>True</td>\n",
       "    </tr>\n",
       "    <tr>\n",
       "      <th>d</th>\n",
       "      <td>NaN</td>\n",
       "      <td>4.0</td>\n",
       "      <td>NaN</td>\n",
       "      <td>False</td>\n",
       "    </tr>\n",
       "  </tbody>\n",
       "</table>\n",
       "</div>"
      ],
      "text/plain": [
       "   one  two  three   flag\n",
       "a  1.0  1.0    1.0  False\n",
       "b  2.0  2.0    4.0  False\n",
       "c  3.0  3.0    9.0   True\n",
       "d  NaN  4.0    NaN  False"
      ]
     },
     "execution_count": 48,
     "metadata": {},
     "output_type": "execute_result"
    }
   ],
   "source": [
    "df['three'] = df['one'] * df['two']\n",
    "\n",
    "df['flag'] = df['one'] > 2\n",
    "\n",
    "df"
   ]
  },
  {
   "cell_type": "markdown",
   "metadata": {},
   "source": [
    "#### 索引和选择"
   ]
  },
  {
   "cell_type": "markdown",
   "metadata": {},
   "source": [
    "基本操作：\n",
    "\n",
    "| Operation\t| Syntax | Result |\n",
    "| ---- | ----- | ---- |\n",
    "| Select column\t| df[col] | Series |\n",
    "| Select row by label | df.loc[label] | Series |\n",
    "| Select row by integer location | df.iloc[loc] | Series |\n",
    "| Slice rows | df[5:10]\t| DataFrame |\n",
    "| Select rows by boolean vector\t| df[bool_vec] | DataFrame |"
   ]
  },
  {
   "cell_type": "markdown",
   "metadata": {},
   "source": [
    "# 2. Pandas 10分钟介绍"
   ]
  },
  {
   "cell_type": "code",
   "execution_count": 50,
   "metadata": {
    "pycharm": {
     "name": "#%%\n"
    }
   },
   "outputs": [],
   "source": [
    "%matplotlib inline\n",
    "\n",
    "import pandas as pd\n",
    "import numpy as np\n",
    "import matplotlib.pyplot as plt"
   ]
  },
  {
   "cell_type": "markdown",
   "metadata": {},
   "source": [
    "### 2.1 产生Pandas对象"
   ]
  },
  {
   "cell_type": "markdown",
   "metadata": {},
   "source": [
    "`pandas` 中有三种基本结构：\n",
    "\n",
    "- `Series`\n",
    "    - 1D labeled homogeneously-typed array\n",
    "- `DataFrame`\n",
    "    - General 2D labeled, size-mutable tabular structure with potentially heterogeneously-typed columns\n",
    "- `Panel`\n",
    "    - General 3D labeled, also size-mutable array"
   ]
  },
  {
   "cell_type": "markdown",
   "metadata": {},
   "source": [
    "### Series"
   ]
  },
  {
   "cell_type": "markdown",
   "metadata": {},
   "source": [
    "一维 `Series` 可以用一维列表初始化："
   ]
  },
  {
   "cell_type": "code",
   "execution_count": 51,
   "metadata": {
    "pycharm": {
     "name": "#%%\n"
    }
   },
   "outputs": [
    {
     "name": "stdout",
     "output_type": "stream",
     "text": [
      "0    1.0\n",
      "1    3.0\n",
      "2    5.0\n",
      "3    NaN\n",
      "4    6.0\n",
      "5    8.0\n",
      "dtype: float64\n"
     ]
    }
   ],
   "source": [
    "s = pd.Series([1,3,5,np.nan,6,8])\n",
    "\n",
    "print(s)"
   ]
  },
  {
   "cell_type": "markdown",
   "metadata": {},
   "source": [
    "默认情况下，`Series` 的下标都是数字（可以使用额外参数指定），类型是统一的。\n",
    "\n",
    "### DataFrame\n",
    "\n",
    "`DataFrame` 则是个二维结构，这里首先构造一组时间序列，作为我们第一维的下标："
   ]
  },
  {
   "cell_type": "code",
   "execution_count": 52,
   "metadata": {
    "pycharm": {
     "name": "#%%\n"
    }
   },
   "outputs": [
    {
     "name": "stdout",
     "output_type": "stream",
     "text": [
      "DatetimeIndex(['2013-01-01', '2013-01-02', '2013-01-03', '2013-01-04',\n",
      "               '2013-01-05', '2013-01-06'],\n",
      "              dtype='datetime64[ns]', freq='D')\n"
     ]
    }
   ],
   "source": [
    "dates = pd.date_range('20130101', periods=6)\n",
    "\n",
    "print(dates)"
   ]
  },
  {
   "cell_type": "markdown",
   "metadata": {},
   "source": [
    "然后创建一个 `DataFrame` 结构："
   ]
  },
  {
   "cell_type": "code",
   "execution_count": 54,
   "metadata": {
    "pycharm": {
     "name": "#%%\n"
    }
   },
   "outputs": [
    {
     "data": {
      "text/html": [
       "<div>\n",
       "<style scoped>\n",
       "    .dataframe tbody tr th:only-of-type {\n",
       "        vertical-align: middle;\n",
       "    }\n",
       "\n",
       "    .dataframe tbody tr th {\n",
       "        vertical-align: top;\n",
       "    }\n",
       "\n",
       "    .dataframe thead th {\n",
       "        text-align: right;\n",
       "    }\n",
       "</style>\n",
       "<table border=\"1\" class=\"dataframe\">\n",
       "  <thead>\n",
       "    <tr style=\"text-align: right;\">\n",
       "      <th></th>\n",
       "      <th>A</th>\n",
       "      <th>B</th>\n",
       "      <th>C</th>\n",
       "      <th>D</th>\n",
       "    </tr>\n",
       "  </thead>\n",
       "  <tbody>\n",
       "    <tr>\n",
       "      <th>2013-01-01</th>\n",
       "      <td>0.930832</td>\n",
       "      <td>1.388172</td>\n",
       "      <td>0.526073</td>\n",
       "      <td>-0.929865</td>\n",
       "    </tr>\n",
       "    <tr>\n",
       "      <th>2013-01-02</th>\n",
       "      <td>-1.083502</td>\n",
       "      <td>1.236036</td>\n",
       "      <td>0.244012</td>\n",
       "      <td>1.787705</td>\n",
       "    </tr>\n",
       "    <tr>\n",
       "      <th>2013-01-03</th>\n",
       "      <td>-0.686629</td>\n",
       "      <td>0.279735</td>\n",
       "      <td>0.258969</td>\n",
       "      <td>-0.957478</td>\n",
       "    </tr>\n",
       "    <tr>\n",
       "      <th>2013-01-04</th>\n",
       "      <td>0.270126</td>\n",
       "      <td>1.097276</td>\n",
       "      <td>0.812661</td>\n",
       "      <td>1.042361</td>\n",
       "    </tr>\n",
       "    <tr>\n",
       "      <th>2013-01-05</th>\n",
       "      <td>-1.438070</td>\n",
       "      <td>0.199388</td>\n",
       "      <td>-0.972152</td>\n",
       "      <td>1.014465</td>\n",
       "    </tr>\n",
       "    <tr>\n",
       "      <th>2013-01-06</th>\n",
       "      <td>0.142988</td>\n",
       "      <td>-0.495279</td>\n",
       "      <td>1.187349</td>\n",
       "      <td>1.539723</td>\n",
       "    </tr>\n",
       "  </tbody>\n",
       "</table>\n",
       "</div>"
      ],
      "text/plain": [
       "                   A         B         C         D\n",
       "2013-01-01  0.930832  1.388172  0.526073 -0.929865\n",
       "2013-01-02 -1.083502  1.236036  0.244012  1.787705\n",
       "2013-01-03 -0.686629  0.279735  0.258969 -0.957478\n",
       "2013-01-04  0.270126  1.097276  0.812661  1.042361\n",
       "2013-01-05 -1.438070  0.199388 -0.972152  1.014465\n",
       "2013-01-06  0.142988 -0.495279  1.187349  1.539723"
      ]
     },
     "execution_count": 54,
     "metadata": {},
     "output_type": "execute_result"
    }
   ],
   "source": [
    "df = pd.DataFrame(np.random.randn(6,4), index=dates, columns=list('ABCD'))\n",
    "\n",
    "df"
   ]
  },
  {
   "cell_type": "markdown",
   "metadata": {},
   "source": [
    "默认情况下，如果不指定 `index` 参数和 `columns`，那么他们的值将用从 `0` 开始的数字替代。\n",
    "\n",
    "除了向 `DataFrame` 中传入二维数组，我们也可以使用字典传入数据："
   ]
  },
  {
   "cell_type": "code",
   "execution_count": 55,
   "metadata": {
    "pycharm": {
     "name": "#%%\n"
    }
   },
   "outputs": [
    {
     "data": {
      "text/html": [
       "<div>\n",
       "<style scoped>\n",
       "    .dataframe tbody tr th:only-of-type {\n",
       "        vertical-align: middle;\n",
       "    }\n",
       "\n",
       "    .dataframe tbody tr th {\n",
       "        vertical-align: top;\n",
       "    }\n",
       "\n",
       "    .dataframe thead th {\n",
       "        text-align: right;\n",
       "    }\n",
       "</style>\n",
       "<table border=\"1\" class=\"dataframe\">\n",
       "  <thead>\n",
       "    <tr style=\"text-align: right;\">\n",
       "      <th></th>\n",
       "      <th>A</th>\n",
       "      <th>B</th>\n",
       "      <th>C</th>\n",
       "      <th>D</th>\n",
       "      <th>E</th>\n",
       "      <th>F</th>\n",
       "    </tr>\n",
       "  </thead>\n",
       "  <tbody>\n",
       "    <tr>\n",
       "      <th>0</th>\n",
       "      <td>1.0</td>\n",
       "      <td>2013-01-02</td>\n",
       "      <td>1.0</td>\n",
       "      <td>3</td>\n",
       "      <td>test</td>\n",
       "      <td>foo</td>\n",
       "    </tr>\n",
       "    <tr>\n",
       "      <th>1</th>\n",
       "      <td>1.0</td>\n",
       "      <td>2013-01-02</td>\n",
       "      <td>1.0</td>\n",
       "      <td>3</td>\n",
       "      <td>train</td>\n",
       "      <td>foo</td>\n",
       "    </tr>\n",
       "    <tr>\n",
       "      <th>2</th>\n",
       "      <td>1.0</td>\n",
       "      <td>2013-01-02</td>\n",
       "      <td>1.0</td>\n",
       "      <td>3</td>\n",
       "      <td>test</td>\n",
       "      <td>foo</td>\n",
       "    </tr>\n",
       "    <tr>\n",
       "      <th>3</th>\n",
       "      <td>1.0</td>\n",
       "      <td>2013-01-02</td>\n",
       "      <td>1.0</td>\n",
       "      <td>3</td>\n",
       "      <td>train</td>\n",
       "      <td>foo</td>\n",
       "    </tr>\n",
       "  </tbody>\n",
       "</table>\n",
       "</div>"
      ],
      "text/plain": [
       "     A          B    C  D      E    F\n",
       "0  1.0 2013-01-02  1.0  3   test  foo\n",
       "1  1.0 2013-01-02  1.0  3  train  foo\n",
       "2  1.0 2013-01-02  1.0  3   test  foo\n",
       "3  1.0 2013-01-02  1.0  3  train  foo"
      ]
     },
     "execution_count": 55,
     "metadata": {},
     "output_type": "execute_result"
    }
   ],
   "source": [
    "df2 = pd.DataFrame({'A' : 1.,\n",
    "                    'B' : pd.Timestamp('20130102'),\n",
    "                    'C' : pd.Series(1,index=list(range(4)),dtype='float32'),\n",
    "                    'D' : np.array([3] * 4,dtype='int32'),\n",
    "                    'E' : pd.Categorical([\"test\",\"train\",\"test\",\"train\"]),\n",
    "                    'F' : 'foo' })\n",
    "\n",
    "df2"
   ]
  },
  {
   "cell_type": "markdown",
   "metadata": {},
   "source": [
    "字典的每个 `key` 代表一列，其 `value` 可以是各种能够转化为 `Series` 的对象。\n",
    "\n",
    "与 `Series` 要求所有的类型都一致不同，`DataFrame` 值要求每一列数据的格式相同："
   ]
  },
  {
   "cell_type": "code",
   "execution_count": 56,
   "metadata": {
    "pycharm": {
     "name": "#%%\n"
    }
   },
   "outputs": [
    {
     "data": {
      "text/plain": [
       "A           float64\n",
       "B    datetime64[ns]\n",
       "C           float32\n",
       "D             int32\n",
       "E          category\n",
       "F            object\n",
       "dtype: object"
      ]
     },
     "execution_count": 56,
     "metadata": {},
     "output_type": "execute_result"
    }
   ],
   "source": [
    "df2.dtypes"
   ]
  },
  {
   "cell_type": "markdown",
   "metadata": {},
   "source": [
    "## 查看数据"
   ]
  },
  {
   "cell_type": "markdown",
   "metadata": {},
   "source": [
    "### 头尾数据"
   ]
  },
  {
   "cell_type": "markdown",
   "metadata": {},
   "source": [
    "`head` 和 `tail` 方法可以分别查看最前面几行和最后面几行的数据（默认为 5）："
   ]
  },
  {
   "cell_type": "code",
   "execution_count": 57,
   "metadata": {
    "pycharm": {
     "name": "#%%\n"
    }
   },
   "outputs": [
    {
     "data": {
      "text/html": [
       "<div>\n",
       "<style scoped>\n",
       "    .dataframe tbody tr th:only-of-type {\n",
       "        vertical-align: middle;\n",
       "    }\n",
       "\n",
       "    .dataframe tbody tr th {\n",
       "        vertical-align: top;\n",
       "    }\n",
       "\n",
       "    .dataframe thead th {\n",
       "        text-align: right;\n",
       "    }\n",
       "</style>\n",
       "<table border=\"1\" class=\"dataframe\">\n",
       "  <thead>\n",
       "    <tr style=\"text-align: right;\">\n",
       "      <th></th>\n",
       "      <th>A</th>\n",
       "      <th>B</th>\n",
       "      <th>C</th>\n",
       "      <th>D</th>\n",
       "    </tr>\n",
       "  </thead>\n",
       "  <tbody>\n",
       "    <tr>\n",
       "      <th>2013-01-01</th>\n",
       "      <td>0.930832</td>\n",
       "      <td>1.388172</td>\n",
       "      <td>0.526073</td>\n",
       "      <td>-0.929865</td>\n",
       "    </tr>\n",
       "    <tr>\n",
       "      <th>2013-01-02</th>\n",
       "      <td>-1.083502</td>\n",
       "      <td>1.236036</td>\n",
       "      <td>0.244012</td>\n",
       "      <td>1.787705</td>\n",
       "    </tr>\n",
       "    <tr>\n",
       "      <th>2013-01-03</th>\n",
       "      <td>-0.686629</td>\n",
       "      <td>0.279735</td>\n",
       "      <td>0.258969</td>\n",
       "      <td>-0.957478</td>\n",
       "    </tr>\n",
       "    <tr>\n",
       "      <th>2013-01-04</th>\n",
       "      <td>0.270126</td>\n",
       "      <td>1.097276</td>\n",
       "      <td>0.812661</td>\n",
       "      <td>1.042361</td>\n",
       "    </tr>\n",
       "    <tr>\n",
       "      <th>2013-01-05</th>\n",
       "      <td>-1.438070</td>\n",
       "      <td>0.199388</td>\n",
       "      <td>-0.972152</td>\n",
       "      <td>1.014465</td>\n",
       "    </tr>\n",
       "  </tbody>\n",
       "</table>\n",
       "</div>"
      ],
      "text/plain": [
       "                   A         B         C         D\n",
       "2013-01-01  0.930832  1.388172  0.526073 -0.929865\n",
       "2013-01-02 -1.083502  1.236036  0.244012  1.787705\n",
       "2013-01-03 -0.686629  0.279735  0.258969 -0.957478\n",
       "2013-01-04  0.270126  1.097276  0.812661  1.042361\n",
       "2013-01-05 -1.438070  0.199388 -0.972152  1.014465"
      ]
     },
     "execution_count": 57,
     "metadata": {},
     "output_type": "execute_result"
    }
   ],
   "source": [
    "df.head()"
   ]
  },
  {
   "cell_type": "markdown",
   "metadata": {},
   "source": [
    "最后 3 行："
   ]
  },
  {
   "cell_type": "code",
   "execution_count": 58,
   "metadata": {
    "pycharm": {
     "name": "#%%\n"
    }
   },
   "outputs": [
    {
     "data": {
      "text/html": [
       "<div>\n",
       "<style scoped>\n",
       "    .dataframe tbody tr th:only-of-type {\n",
       "        vertical-align: middle;\n",
       "    }\n",
       "\n",
       "    .dataframe tbody tr th {\n",
       "        vertical-align: top;\n",
       "    }\n",
       "\n",
       "    .dataframe thead th {\n",
       "        text-align: right;\n",
       "    }\n",
       "</style>\n",
       "<table border=\"1\" class=\"dataframe\">\n",
       "  <thead>\n",
       "    <tr style=\"text-align: right;\">\n",
       "      <th></th>\n",
       "      <th>A</th>\n",
       "      <th>B</th>\n",
       "      <th>C</th>\n",
       "      <th>D</th>\n",
       "    </tr>\n",
       "  </thead>\n",
       "  <tbody>\n",
       "    <tr>\n",
       "      <th>2013-01-04</th>\n",
       "      <td>0.270126</td>\n",
       "      <td>1.097276</td>\n",
       "      <td>0.812661</td>\n",
       "      <td>1.042361</td>\n",
       "    </tr>\n",
       "    <tr>\n",
       "      <th>2013-01-05</th>\n",
       "      <td>-1.438070</td>\n",
       "      <td>0.199388</td>\n",
       "      <td>-0.972152</td>\n",
       "      <td>1.014465</td>\n",
       "    </tr>\n",
       "    <tr>\n",
       "      <th>2013-01-06</th>\n",
       "      <td>0.142988</td>\n",
       "      <td>-0.495279</td>\n",
       "      <td>1.187349</td>\n",
       "      <td>1.539723</td>\n",
       "    </tr>\n",
       "  </tbody>\n",
       "</table>\n",
       "</div>"
      ],
      "text/plain": [
       "                   A         B         C         D\n",
       "2013-01-04  0.270126  1.097276  0.812661  1.042361\n",
       "2013-01-05 -1.438070  0.199388 -0.972152  1.014465\n",
       "2013-01-06  0.142988 -0.495279  1.187349  1.539723"
      ]
     },
     "execution_count": 58,
     "metadata": {},
     "output_type": "execute_result"
    }
   ],
   "source": [
    "df.tail(3)"
   ]
  },
  {
   "cell_type": "markdown",
   "metadata": {},
   "source": [
    "### 下标，列标，数据"
   ]
  },
  {
   "cell_type": "markdown",
   "metadata": {},
   "source": [
    "下标使用 `index` 属性查看："
   ]
  },
  {
   "cell_type": "code",
   "execution_count": 59,
   "metadata": {
    "pycharm": {
     "name": "#%%\n"
    }
   },
   "outputs": [
    {
     "data": {
      "text/plain": [
       "DatetimeIndex(['2013-01-01', '2013-01-02', '2013-01-03', '2013-01-04',\n",
       "               '2013-01-05', '2013-01-06'],\n",
       "              dtype='datetime64[ns]', freq='D')"
      ]
     },
     "execution_count": 59,
     "metadata": {},
     "output_type": "execute_result"
    }
   ],
   "source": [
    "df.index"
   ]
  },
  {
   "cell_type": "markdown",
   "metadata": {},
   "source": [
    "列标使用 `columns` 属性查看："
   ]
  },
  {
   "cell_type": "code",
   "execution_count": 60,
   "metadata": {
    "pycharm": {
     "name": "#%%\n"
    }
   },
   "outputs": [
    {
     "data": {
      "text/plain": [
       "Index(['A', 'B', 'C', 'D'], dtype='object')"
      ]
     },
     "execution_count": 60,
     "metadata": {},
     "output_type": "execute_result"
    }
   ],
   "source": [
    "df.columns"
   ]
  },
  {
   "cell_type": "markdown",
   "metadata": {},
   "source": [
    "数据值使用 `values` 查看："
   ]
  },
  {
   "cell_type": "code",
   "execution_count": 61,
   "metadata": {
    "pycharm": {
     "name": "#%%\n"
    }
   },
   "outputs": [
    {
     "data": {
      "text/plain": [
       "array([[ 0.93083159,  1.38817188,  0.52607303, -0.92986546],\n",
       "       [-1.08350164,  1.23603628,  0.24401215,  1.78770527],\n",
       "       [-0.68662927,  0.27973477,  0.25896899, -0.95747843],\n",
       "       [ 0.27012633,  1.09727645,  0.81266068,  1.04236076],\n",
       "       [-1.43806987,  0.19938819, -0.97215209,  1.01446525],\n",
       "       [ 0.14298801, -0.49527868,  1.18734858,  1.5397225 ]])"
      ]
     },
     "execution_count": 61,
     "metadata": {},
     "output_type": "execute_result"
    }
   ],
   "source": [
    "df.values"
   ]
  },
  {
   "cell_type": "markdown",
   "metadata": {},
   "source": [
    "### 统计数据"
   ]
  },
  {
   "cell_type": "markdown",
   "metadata": {},
   "source": [
    "查看简单的统计数据："
   ]
  },
  {
   "cell_type": "code",
   "execution_count": 62,
   "metadata": {
    "pycharm": {
     "name": "#%%\n"
    }
   },
   "outputs": [
    {
     "data": {
      "text/html": [
       "<div>\n",
       "<style scoped>\n",
       "    .dataframe tbody tr th:only-of-type {\n",
       "        vertical-align: middle;\n",
       "    }\n",
       "\n",
       "    .dataframe tbody tr th {\n",
       "        vertical-align: top;\n",
       "    }\n",
       "\n",
       "    .dataframe thead th {\n",
       "        text-align: right;\n",
       "    }\n",
       "</style>\n",
       "<table border=\"1\" class=\"dataframe\">\n",
       "  <thead>\n",
       "    <tr style=\"text-align: right;\">\n",
       "      <th></th>\n",
       "      <th>A</th>\n",
       "      <th>B</th>\n",
       "      <th>C</th>\n",
       "      <th>D</th>\n",
       "    </tr>\n",
       "  </thead>\n",
       "  <tbody>\n",
       "    <tr>\n",
       "      <th>count</th>\n",
       "      <td>6.000000</td>\n",
       "      <td>6.000000</td>\n",
       "      <td>6.000000</td>\n",
       "      <td>6.000000</td>\n",
       "    </tr>\n",
       "    <tr>\n",
       "      <th>mean</th>\n",
       "      <td>-0.310709</td>\n",
       "      <td>0.617555</td>\n",
       "      <td>0.342819</td>\n",
       "      <td>0.582818</td>\n",
       "    </tr>\n",
       "    <tr>\n",
       "      <th>std</th>\n",
       "      <td>0.904887</td>\n",
       "      <td>0.739444</td>\n",
       "      <td>0.736683</td>\n",
       "      <td>1.218659</td>\n",
       "    </tr>\n",
       "    <tr>\n",
       "      <th>min</th>\n",
       "      <td>-1.438070</td>\n",
       "      <td>-0.495279</td>\n",
       "      <td>-0.972152</td>\n",
       "      <td>-0.957478</td>\n",
       "    </tr>\n",
       "    <tr>\n",
       "      <th>25%</th>\n",
       "      <td>-0.984284</td>\n",
       "      <td>0.219475</td>\n",
       "      <td>0.247751</td>\n",
       "      <td>-0.443783</td>\n",
       "    </tr>\n",
       "    <tr>\n",
       "      <th>50%</th>\n",
       "      <td>-0.271821</td>\n",
       "      <td>0.688506</td>\n",
       "      <td>0.392521</td>\n",
       "      <td>1.028413</td>\n",
       "    </tr>\n",
       "    <tr>\n",
       "      <th>75%</th>\n",
       "      <td>0.238342</td>\n",
       "      <td>1.201346</td>\n",
       "      <td>0.741014</td>\n",
       "      <td>1.415382</td>\n",
       "    </tr>\n",
       "    <tr>\n",
       "      <th>max</th>\n",
       "      <td>0.930832</td>\n",
       "      <td>1.388172</td>\n",
       "      <td>1.187349</td>\n",
       "      <td>1.787705</td>\n",
       "    </tr>\n",
       "  </tbody>\n",
       "</table>\n",
       "</div>"
      ],
      "text/plain": [
       "              A         B         C         D\n",
       "count  6.000000  6.000000  6.000000  6.000000\n",
       "mean  -0.310709  0.617555  0.342819  0.582818\n",
       "std    0.904887  0.739444  0.736683  1.218659\n",
       "min   -1.438070 -0.495279 -0.972152 -0.957478\n",
       "25%   -0.984284  0.219475  0.247751 -0.443783\n",
       "50%   -0.271821  0.688506  0.392521  1.028413\n",
       "75%    0.238342  1.201346  0.741014  1.415382\n",
       "max    0.930832  1.388172  1.187349  1.787705"
      ]
     },
     "execution_count": 62,
     "metadata": {},
     "output_type": "execute_result"
    }
   ],
   "source": [
    "df.describe()"
   ]
  },
  {
   "cell_type": "markdown",
   "metadata": {},
   "source": [
    "### 转置"
   ]
  },
  {
   "cell_type": "code",
   "execution_count": 64,
   "metadata": {
    "pycharm": {
     "name": "#%%\n"
    }
   },
   "outputs": [
    {
     "data": {
      "text/html": [
       "<div>\n",
       "<style scoped>\n",
       "    .dataframe tbody tr th:only-of-type {\n",
       "        vertical-align: middle;\n",
       "    }\n",
       "\n",
       "    .dataframe tbody tr th {\n",
       "        vertical-align: top;\n",
       "    }\n",
       "\n",
       "    .dataframe thead th {\n",
       "        text-align: right;\n",
       "    }\n",
       "</style>\n",
       "<table border=\"1\" class=\"dataframe\">\n",
       "  <thead>\n",
       "    <tr style=\"text-align: right;\">\n",
       "      <th></th>\n",
       "      <th>2013-01-01 00:00:00</th>\n",
       "      <th>2013-01-02 00:00:00</th>\n",
       "      <th>2013-01-03 00:00:00</th>\n",
       "      <th>2013-01-04 00:00:00</th>\n",
       "      <th>2013-01-05 00:00:00</th>\n",
       "      <th>2013-01-06 00:00:00</th>\n",
       "    </tr>\n",
       "  </thead>\n",
       "  <tbody>\n",
       "    <tr>\n",
       "      <th>A</th>\n",
       "      <td>0.930832</td>\n",
       "      <td>-1.083502</td>\n",
       "      <td>-0.686629</td>\n",
       "      <td>0.270126</td>\n",
       "      <td>-1.438070</td>\n",
       "      <td>0.142988</td>\n",
       "    </tr>\n",
       "    <tr>\n",
       "      <th>B</th>\n",
       "      <td>1.388172</td>\n",
       "      <td>1.236036</td>\n",
       "      <td>0.279735</td>\n",
       "      <td>1.097276</td>\n",
       "      <td>0.199388</td>\n",
       "      <td>-0.495279</td>\n",
       "    </tr>\n",
       "    <tr>\n",
       "      <th>C</th>\n",
       "      <td>0.526073</td>\n",
       "      <td>0.244012</td>\n",
       "      <td>0.258969</td>\n",
       "      <td>0.812661</td>\n",
       "      <td>-0.972152</td>\n",
       "      <td>1.187349</td>\n",
       "    </tr>\n",
       "    <tr>\n",
       "      <th>D</th>\n",
       "      <td>-0.929865</td>\n",
       "      <td>1.787705</td>\n",
       "      <td>-0.957478</td>\n",
       "      <td>1.042361</td>\n",
       "      <td>1.014465</td>\n",
       "      <td>1.539723</td>\n",
       "    </tr>\n",
       "  </tbody>\n",
       "</table>\n",
       "</div>"
      ],
      "text/plain": [
       "   2013-01-01  2013-01-02  2013-01-03  2013-01-04  2013-01-05  2013-01-06\n",
       "A    0.930832   -1.083502   -0.686629    0.270126   -1.438070    0.142988\n",
       "B    1.388172    1.236036    0.279735    1.097276    0.199388   -0.495279\n",
       "C    0.526073    0.244012    0.258969    0.812661   -0.972152    1.187349\n",
       "D   -0.929865    1.787705   -0.957478    1.042361    1.014465    1.539723"
      ]
     },
     "execution_count": 64,
     "metadata": {},
     "output_type": "execute_result"
    }
   ],
   "source": [
    "df.T"
   ]
  },
  {
   "cell_type": "markdown",
   "metadata": {},
   "source": [
    "## 排序"
   ]
  },
  {
   "cell_type": "markdown",
   "metadata": {},
   "source": [
    "`sort_index(axis=0, ascending=True)` 方法按照下标大小进行排序，`axis=0` 表示按第 0 维进行排序。"
   ]
  },
  {
   "cell_type": "code",
   "execution_count": 66,
   "metadata": {
    "pycharm": {
     "name": "#%%\n"
    }
   },
   "outputs": [
    {
     "data": {
      "text/html": [
       "<div>\n",
       "<style scoped>\n",
       "    .dataframe tbody tr th:only-of-type {\n",
       "        vertical-align: middle;\n",
       "    }\n",
       "\n",
       "    .dataframe tbody tr th {\n",
       "        vertical-align: top;\n",
       "    }\n",
       "\n",
       "    .dataframe thead th {\n",
       "        text-align: right;\n",
       "    }\n",
       "</style>\n",
       "<table border=\"1\" class=\"dataframe\">\n",
       "  <thead>\n",
       "    <tr style=\"text-align: right;\">\n",
       "      <th></th>\n",
       "      <th>A</th>\n",
       "      <th>B</th>\n",
       "      <th>C</th>\n",
       "      <th>D</th>\n",
       "    </tr>\n",
       "  </thead>\n",
       "  <tbody>\n",
       "    <tr>\n",
       "      <th>2013-01-06</th>\n",
       "      <td>0.142988</td>\n",
       "      <td>-0.495279</td>\n",
       "      <td>1.187349</td>\n",
       "      <td>1.539723</td>\n",
       "    </tr>\n",
       "    <tr>\n",
       "      <th>2013-01-05</th>\n",
       "      <td>-1.438070</td>\n",
       "      <td>0.199388</td>\n",
       "      <td>-0.972152</td>\n",
       "      <td>1.014465</td>\n",
       "    </tr>\n",
       "    <tr>\n",
       "      <th>2013-01-04</th>\n",
       "      <td>0.270126</td>\n",
       "      <td>1.097276</td>\n",
       "      <td>0.812661</td>\n",
       "      <td>1.042361</td>\n",
       "    </tr>\n",
       "    <tr>\n",
       "      <th>2013-01-03</th>\n",
       "      <td>-0.686629</td>\n",
       "      <td>0.279735</td>\n",
       "      <td>0.258969</td>\n",
       "      <td>-0.957478</td>\n",
       "    </tr>\n",
       "    <tr>\n",
       "      <th>2013-01-02</th>\n",
       "      <td>-1.083502</td>\n",
       "      <td>1.236036</td>\n",
       "      <td>0.244012</td>\n",
       "      <td>1.787705</td>\n",
       "    </tr>\n",
       "    <tr>\n",
       "      <th>2013-01-01</th>\n",
       "      <td>0.930832</td>\n",
       "      <td>1.388172</td>\n",
       "      <td>0.526073</td>\n",
       "      <td>-0.929865</td>\n",
       "    </tr>\n",
       "  </tbody>\n",
       "</table>\n",
       "</div>"
      ],
      "text/plain": [
       "                   A         B         C         D\n",
       "2013-01-06  0.142988 -0.495279  1.187349  1.539723\n",
       "2013-01-05 -1.438070  0.199388 -0.972152  1.014465\n",
       "2013-01-04  0.270126  1.097276  0.812661  1.042361\n",
       "2013-01-03 -0.686629  0.279735  0.258969 -0.957478\n",
       "2013-01-02 -1.083502  1.236036  0.244012  1.787705\n",
       "2013-01-01  0.930832  1.388172  0.526073 -0.929865"
      ]
     },
     "execution_count": 66,
     "metadata": {},
     "output_type": "execute_result"
    }
   ],
   "source": [
    "df.sort_index(ascending=False)"
   ]
  },
  {
   "cell_type": "code",
   "execution_count": 68,
   "metadata": {
    "pycharm": {
     "name": "#%%\n"
    }
   },
   "outputs": [
    {
     "data": {
      "text/html": [
       "<div>\n",
       "<style scoped>\n",
       "    .dataframe tbody tr th:only-of-type {\n",
       "        vertical-align: middle;\n",
       "    }\n",
       "\n",
       "    .dataframe tbody tr th {\n",
       "        vertical-align: top;\n",
       "    }\n",
       "\n",
       "    .dataframe thead th {\n",
       "        text-align: right;\n",
       "    }\n",
       "</style>\n",
       "<table border=\"1\" class=\"dataframe\">\n",
       "  <thead>\n",
       "    <tr style=\"text-align: right;\">\n",
       "      <th></th>\n",
       "      <th>D</th>\n",
       "      <th>C</th>\n",
       "      <th>B</th>\n",
       "      <th>A</th>\n",
       "    </tr>\n",
       "  </thead>\n",
       "  <tbody>\n",
       "    <tr>\n",
       "      <th>2013-01-01</th>\n",
       "      <td>-0.929865</td>\n",
       "      <td>0.526073</td>\n",
       "      <td>1.388172</td>\n",
       "      <td>0.930832</td>\n",
       "    </tr>\n",
       "    <tr>\n",
       "      <th>2013-01-02</th>\n",
       "      <td>1.787705</td>\n",
       "      <td>0.244012</td>\n",
       "      <td>1.236036</td>\n",
       "      <td>-1.083502</td>\n",
       "    </tr>\n",
       "    <tr>\n",
       "      <th>2013-01-03</th>\n",
       "      <td>-0.957478</td>\n",
       "      <td>0.258969</td>\n",
       "      <td>0.279735</td>\n",
       "      <td>-0.686629</td>\n",
       "    </tr>\n",
       "    <tr>\n",
       "      <th>2013-01-04</th>\n",
       "      <td>1.042361</td>\n",
       "      <td>0.812661</td>\n",
       "      <td>1.097276</td>\n",
       "      <td>0.270126</td>\n",
       "    </tr>\n",
       "    <tr>\n",
       "      <th>2013-01-05</th>\n",
       "      <td>1.014465</td>\n",
       "      <td>-0.972152</td>\n",
       "      <td>0.199388</td>\n",
       "      <td>-1.438070</td>\n",
       "    </tr>\n",
       "    <tr>\n",
       "      <th>2013-01-06</th>\n",
       "      <td>1.539723</td>\n",
       "      <td>1.187349</td>\n",
       "      <td>-0.495279</td>\n",
       "      <td>0.142988</td>\n",
       "    </tr>\n",
       "  </tbody>\n",
       "</table>\n",
       "</div>"
      ],
      "text/plain": [
       "                   D         C         B         A\n",
       "2013-01-01 -0.929865  0.526073  1.388172  0.930832\n",
       "2013-01-02  1.787705  0.244012  1.236036 -1.083502\n",
       "2013-01-03 -0.957478  0.258969  0.279735 -0.686629\n",
       "2013-01-04  1.042361  0.812661  1.097276  0.270126\n",
       "2013-01-05  1.014465 -0.972152  0.199388 -1.438070\n",
       "2013-01-06  1.539723  1.187349 -0.495279  0.142988"
      ]
     },
     "execution_count": 68,
     "metadata": {},
     "output_type": "execute_result"
    }
   ],
   "source": [
    "df.sort_index(axis=1, ascending=False)"
   ]
  },
  {
   "cell_type": "markdown",
   "metadata": {},
   "source": [
    "`sort_values(by, axis=0, ascending=True)` 方法按照 `by` 的值的大小进行排序，例如按照 `B` 列的大小："
   ]
  },
  {
   "cell_type": "code",
   "execution_count": 70,
   "metadata": {
    "pycharm": {
     "name": "#%%\n"
    }
   },
   "outputs": [
    {
     "data": {
      "text/html": [
       "<div>\n",
       "<style scoped>\n",
       "    .dataframe tbody tr th:only-of-type {\n",
       "        vertical-align: middle;\n",
       "    }\n",
       "\n",
       "    .dataframe tbody tr th {\n",
       "        vertical-align: top;\n",
       "    }\n",
       "\n",
       "    .dataframe thead th {\n",
       "        text-align: right;\n",
       "    }\n",
       "</style>\n",
       "<table border=\"1\" class=\"dataframe\">\n",
       "  <thead>\n",
       "    <tr style=\"text-align: right;\">\n",
       "      <th></th>\n",
       "      <th>A</th>\n",
       "      <th>B</th>\n",
       "      <th>C</th>\n",
       "      <th>D</th>\n",
       "    </tr>\n",
       "  </thead>\n",
       "  <tbody>\n",
       "    <tr>\n",
       "      <th>2013-01-06</th>\n",
       "      <td>0.142988</td>\n",
       "      <td>-0.495279</td>\n",
       "      <td>1.187349</td>\n",
       "      <td>1.539723</td>\n",
       "    </tr>\n",
       "    <tr>\n",
       "      <th>2013-01-05</th>\n",
       "      <td>-1.438070</td>\n",
       "      <td>0.199388</td>\n",
       "      <td>-0.972152</td>\n",
       "      <td>1.014465</td>\n",
       "    </tr>\n",
       "    <tr>\n",
       "      <th>2013-01-03</th>\n",
       "      <td>-0.686629</td>\n",
       "      <td>0.279735</td>\n",
       "      <td>0.258969</td>\n",
       "      <td>-0.957478</td>\n",
       "    </tr>\n",
       "    <tr>\n",
       "      <th>2013-01-04</th>\n",
       "      <td>0.270126</td>\n",
       "      <td>1.097276</td>\n",
       "      <td>0.812661</td>\n",
       "      <td>1.042361</td>\n",
       "    </tr>\n",
       "    <tr>\n",
       "      <th>2013-01-02</th>\n",
       "      <td>-1.083502</td>\n",
       "      <td>1.236036</td>\n",
       "      <td>0.244012</td>\n",
       "      <td>1.787705</td>\n",
       "    </tr>\n",
       "    <tr>\n",
       "      <th>2013-01-01</th>\n",
       "      <td>0.930832</td>\n",
       "      <td>1.388172</td>\n",
       "      <td>0.526073</td>\n",
       "      <td>-0.929865</td>\n",
       "    </tr>\n",
       "  </tbody>\n",
       "</table>\n",
       "</div>"
      ],
      "text/plain": [
       "                   A         B         C         D\n",
       "2013-01-06  0.142988 -0.495279  1.187349  1.539723\n",
       "2013-01-05 -1.438070  0.199388 -0.972152  1.014465\n",
       "2013-01-03 -0.686629  0.279735  0.258969 -0.957478\n",
       "2013-01-04  0.270126  1.097276  0.812661  1.042361\n",
       "2013-01-02 -1.083502  1.236036  0.244012  1.787705\n",
       "2013-01-01  0.930832  1.388172  0.526073 -0.929865"
      ]
     },
     "execution_count": 70,
     "metadata": {},
     "output_type": "execute_result"
    }
   ],
   "source": [
    "df.sort_values(by=\"B\")"
   ]
  },
  {
   "cell_type": "markdown",
   "metadata": {},
   "source": [
    "## 索引"
   ]
  },
  {
   "cell_type": "markdown",
   "metadata": {},
   "source": [
    "虽然 `DataFrame` 支持 `Python/Numpy` 的索引语法，但是推荐使用 `.at, .iat, .loc, .iloc 和 .ix` 方法进行索引。"
   ]
  },
  {
   "cell_type": "markdown",
   "metadata": {},
   "source": [
    "### 读取数据"
   ]
  },
  {
   "cell_type": "markdown",
   "metadata": {},
   "source": [
    "选择单列数据："
   ]
  },
  {
   "cell_type": "code",
   "execution_count": 72,
   "metadata": {
    "pycharm": {
     "name": "#%%\n"
    }
   },
   "outputs": [
    {
     "data": {
      "text/plain": [
       "2013-01-01    0.930832\n",
       "2013-01-02   -1.083502\n",
       "2013-01-03   -0.686629\n",
       "2013-01-04    0.270126\n",
       "2013-01-05   -1.438070\n",
       "2013-01-06    0.142988\n",
       "Freq: D, Name: A, dtype: float64"
      ]
     },
     "execution_count": 72,
     "metadata": {},
     "output_type": "execute_result"
    }
   ],
   "source": [
    "df[\"A\"]"
   ]
  },
  {
   "cell_type": "markdown",
   "metadata": {},
   "source": [
    "也可以用 `df.A`："
   ]
  },
  {
   "cell_type": "code",
   "execution_count": 73,
   "metadata": {
    "pycharm": {
     "name": "#%%\n"
    }
   },
   "outputs": [
    {
     "data": {
      "text/plain": [
       "2013-01-01    0.930832\n",
       "2013-01-02   -1.083502\n",
       "2013-01-03   -0.686629\n",
       "2013-01-04    0.270126\n",
       "2013-01-05   -1.438070\n",
       "2013-01-06    0.142988\n",
       "Freq: D, Name: A, dtype: float64"
      ]
     },
     "execution_count": 73,
     "metadata": {},
     "output_type": "execute_result"
    }
   ],
   "source": [
    "df.A"
   ]
  },
  {
   "cell_type": "markdown",
   "metadata": {},
   "source": [
    "使用切片读取多行："
   ]
  },
  {
   "cell_type": "code",
   "execution_count": 74,
   "metadata": {
    "pycharm": {
     "name": "#%%\n"
    }
   },
   "outputs": [
    {
     "data": {
      "text/html": [
       "<div>\n",
       "<style scoped>\n",
       "    .dataframe tbody tr th:only-of-type {\n",
       "        vertical-align: middle;\n",
       "    }\n",
       "\n",
       "    .dataframe tbody tr th {\n",
       "        vertical-align: top;\n",
       "    }\n",
       "\n",
       "    .dataframe thead th {\n",
       "        text-align: right;\n",
       "    }\n",
       "</style>\n",
       "<table border=\"1\" class=\"dataframe\">\n",
       "  <thead>\n",
       "    <tr style=\"text-align: right;\">\n",
       "      <th></th>\n",
       "      <th>A</th>\n",
       "      <th>B</th>\n",
       "      <th>C</th>\n",
       "      <th>D</th>\n",
       "    </tr>\n",
       "  </thead>\n",
       "  <tbody>\n",
       "    <tr>\n",
       "      <th>2013-01-01</th>\n",
       "      <td>0.930832</td>\n",
       "      <td>1.388172</td>\n",
       "      <td>0.526073</td>\n",
       "      <td>-0.929865</td>\n",
       "    </tr>\n",
       "    <tr>\n",
       "      <th>2013-01-02</th>\n",
       "      <td>-1.083502</td>\n",
       "      <td>1.236036</td>\n",
       "      <td>0.244012</td>\n",
       "      <td>1.787705</td>\n",
       "    </tr>\n",
       "    <tr>\n",
       "      <th>2013-01-03</th>\n",
       "      <td>-0.686629</td>\n",
       "      <td>0.279735</td>\n",
       "      <td>0.258969</td>\n",
       "      <td>-0.957478</td>\n",
       "    </tr>\n",
       "  </tbody>\n",
       "</table>\n",
       "</div>"
      ],
      "text/plain": [
       "                   A         B         C         D\n",
       "2013-01-01  0.930832  1.388172  0.526073 -0.929865\n",
       "2013-01-02 -1.083502  1.236036  0.244012  1.787705\n",
       "2013-01-03 -0.686629  0.279735  0.258969 -0.957478"
      ]
     },
     "execution_count": 74,
     "metadata": {},
     "output_type": "execute_result"
    }
   ],
   "source": [
    "df[0:3]"
   ]
  },
  {
   "cell_type": "markdown",
   "metadata": {},
   "source": [
    "`index` 名字也可以进行切片："
   ]
  },
  {
   "cell_type": "code",
   "execution_count": 75,
   "metadata": {
    "pycharm": {
     "name": "#%%\n"
    }
   },
   "outputs": [
    {
     "data": {
      "text/html": [
       "<div>\n",
       "<style scoped>\n",
       "    .dataframe tbody tr th:only-of-type {\n",
       "        vertical-align: middle;\n",
       "    }\n",
       "\n",
       "    .dataframe tbody tr th {\n",
       "        vertical-align: top;\n",
       "    }\n",
       "\n",
       "    .dataframe thead th {\n",
       "        text-align: right;\n",
       "    }\n",
       "</style>\n",
       "<table border=\"1\" class=\"dataframe\">\n",
       "  <thead>\n",
       "    <tr style=\"text-align: right;\">\n",
       "      <th></th>\n",
       "      <th>A</th>\n",
       "      <th>B</th>\n",
       "      <th>C</th>\n",
       "      <th>D</th>\n",
       "    </tr>\n",
       "  </thead>\n",
       "  <tbody>\n",
       "    <tr>\n",
       "      <th>2013-01-01</th>\n",
       "      <td>0.930832</td>\n",
       "      <td>1.388172</td>\n",
       "      <td>0.526073</td>\n",
       "      <td>-0.929865</td>\n",
       "    </tr>\n",
       "    <tr>\n",
       "      <th>2013-01-02</th>\n",
       "      <td>-1.083502</td>\n",
       "      <td>1.236036</td>\n",
       "      <td>0.244012</td>\n",
       "      <td>1.787705</td>\n",
       "    </tr>\n",
       "    <tr>\n",
       "      <th>2013-01-03</th>\n",
       "      <td>-0.686629</td>\n",
       "      <td>0.279735</td>\n",
       "      <td>0.258969</td>\n",
       "      <td>-0.957478</td>\n",
       "    </tr>\n",
       "  </tbody>\n",
       "</table>\n",
       "</div>"
      ],
      "text/plain": [
       "                   A         B         C         D\n",
       "2013-01-01  0.930832  1.388172  0.526073 -0.929865\n",
       "2013-01-02 -1.083502  1.236036  0.244012  1.787705\n",
       "2013-01-03 -0.686629  0.279735  0.258969 -0.957478"
      ]
     },
     "execution_count": 75,
     "metadata": {},
     "output_type": "execute_result"
    }
   ],
   "source": [
    "df[\"20130101\":\"20130103\"]"
   ]
  },
  {
   "cell_type": "markdown",
   "metadata": {},
   "source": [
    "### 使用 `label` 索引"
   ]
  },
  {
   "cell_type": "markdown",
   "metadata": {},
   "source": [
    "`loc` 可以方便的使用 `label` 进行索引："
   ]
  },
  {
   "cell_type": "code",
   "execution_count": 76,
   "metadata": {
    "pycharm": {
     "name": "#%%\n"
    }
   },
   "outputs": [
    {
     "data": {
      "text/plain": [
       "A    0.930832\n",
       "B    1.388172\n",
       "C    0.526073\n",
       "D   -0.929865\n",
       "Name: 2013-01-01 00:00:00, dtype: float64"
      ]
     },
     "execution_count": 76,
     "metadata": {},
     "output_type": "execute_result"
    }
   ],
   "source": [
    "df.loc[dates[0]]"
   ]
  },
  {
   "cell_type": "markdown",
   "metadata": {},
   "source": [
    "多列数据："
   ]
  },
  {
   "cell_type": "code",
   "execution_count": 77,
   "metadata": {
    "pycharm": {
     "name": "#%%\n"
    }
   },
   "outputs": [
    {
     "data": {
      "text/html": [
       "<div>\n",
       "<style scoped>\n",
       "    .dataframe tbody tr th:only-of-type {\n",
       "        vertical-align: middle;\n",
       "    }\n",
       "\n",
       "    .dataframe tbody tr th {\n",
       "        vertical-align: top;\n",
       "    }\n",
       "\n",
       "    .dataframe thead th {\n",
       "        text-align: right;\n",
       "    }\n",
       "</style>\n",
       "<table border=\"1\" class=\"dataframe\">\n",
       "  <thead>\n",
       "    <tr style=\"text-align: right;\">\n",
       "      <th></th>\n",
       "      <th>A</th>\n",
       "      <th>B</th>\n",
       "    </tr>\n",
       "  </thead>\n",
       "  <tbody>\n",
       "    <tr>\n",
       "      <th>2013-01-01</th>\n",
       "      <td>0.930832</td>\n",
       "      <td>1.388172</td>\n",
       "    </tr>\n",
       "    <tr>\n",
       "      <th>2013-01-02</th>\n",
       "      <td>-1.083502</td>\n",
       "      <td>1.236036</td>\n",
       "    </tr>\n",
       "    <tr>\n",
       "      <th>2013-01-03</th>\n",
       "      <td>-0.686629</td>\n",
       "      <td>0.279735</td>\n",
       "    </tr>\n",
       "    <tr>\n",
       "      <th>2013-01-04</th>\n",
       "      <td>0.270126</td>\n",
       "      <td>1.097276</td>\n",
       "    </tr>\n",
       "    <tr>\n",
       "      <th>2013-01-05</th>\n",
       "      <td>-1.438070</td>\n",
       "      <td>0.199388</td>\n",
       "    </tr>\n",
       "    <tr>\n",
       "      <th>2013-01-06</th>\n",
       "      <td>0.142988</td>\n",
       "      <td>-0.495279</td>\n",
       "    </tr>\n",
       "  </tbody>\n",
       "</table>\n",
       "</div>"
      ],
      "text/plain": [
       "                   A         B\n",
       "2013-01-01  0.930832  1.388172\n",
       "2013-01-02 -1.083502  1.236036\n",
       "2013-01-03 -0.686629  0.279735\n",
       "2013-01-04  0.270126  1.097276\n",
       "2013-01-05 -1.438070  0.199388\n",
       "2013-01-06  0.142988 -0.495279"
      ]
     },
     "execution_count": 77,
     "metadata": {},
     "output_type": "execute_result"
    }
   ],
   "source": [
    "df.loc[:,['A','B']]"
   ]
  },
  {
   "cell_type": "markdown",
   "metadata": {},
   "source": [
    "选择多行多列："
   ]
  },
  {
   "cell_type": "code",
   "execution_count": 78,
   "metadata": {
    "pycharm": {
     "name": "#%%\n"
    }
   },
   "outputs": [
    {
     "data": {
      "text/html": [
       "<div>\n",
       "<style scoped>\n",
       "    .dataframe tbody tr th:only-of-type {\n",
       "        vertical-align: middle;\n",
       "    }\n",
       "\n",
       "    .dataframe tbody tr th {\n",
       "        vertical-align: top;\n",
       "    }\n",
       "\n",
       "    .dataframe thead th {\n",
       "        text-align: right;\n",
       "    }\n",
       "</style>\n",
       "<table border=\"1\" class=\"dataframe\">\n",
       "  <thead>\n",
       "    <tr style=\"text-align: right;\">\n",
       "      <th></th>\n",
       "      <th>A</th>\n",
       "      <th>B</th>\n",
       "    </tr>\n",
       "  </thead>\n",
       "  <tbody>\n",
       "    <tr>\n",
       "      <th>2013-01-02</th>\n",
       "      <td>-1.083502</td>\n",
       "      <td>1.236036</td>\n",
       "    </tr>\n",
       "    <tr>\n",
       "      <th>2013-01-03</th>\n",
       "      <td>-0.686629</td>\n",
       "      <td>0.279735</td>\n",
       "    </tr>\n",
       "    <tr>\n",
       "      <th>2013-01-04</th>\n",
       "      <td>0.270126</td>\n",
       "      <td>1.097276</td>\n",
       "    </tr>\n",
       "  </tbody>\n",
       "</table>\n",
       "</div>"
      ],
      "text/plain": [
       "                   A         B\n",
       "2013-01-02 -1.083502  1.236036\n",
       "2013-01-03 -0.686629  0.279735\n",
       "2013-01-04  0.270126  1.097276"
      ]
     },
     "execution_count": 78,
     "metadata": {},
     "output_type": "execute_result"
    }
   ],
   "source": [
    "df.loc['20130102':'20130104',['A','B']]"
   ]
  },
  {
   "cell_type": "markdown",
   "metadata": {},
   "source": [
    "数据降维："
   ]
  },
  {
   "cell_type": "code",
   "execution_count": 79,
   "metadata": {
    "pycharm": {
     "name": "#%%\n"
    }
   },
   "outputs": [
    {
     "data": {
      "text/plain": [
       "A   -1.083502\n",
       "B    1.236036\n",
       "Name: 2013-01-02 00:00:00, dtype: float64"
      ]
     },
     "execution_count": 79,
     "metadata": {},
     "output_type": "execute_result"
    }
   ],
   "source": [
    "df.loc['20130102',['A','B']]"
   ]
  },
  {
   "cell_type": "markdown",
   "metadata": {},
   "source": [
    "得到标量值："
   ]
  },
  {
   "cell_type": "code",
   "execution_count": 80,
   "metadata": {
    "pycharm": {
     "name": "#%%\n"
    }
   },
   "outputs": [
    {
     "data": {
      "text/plain": [
       "1.3881718842189799"
      ]
     },
     "execution_count": 80,
     "metadata": {},
     "output_type": "execute_result"
    }
   ],
   "source": [
    "df.loc[dates[0],'B']"
   ]
  },
  {
   "cell_type": "markdown",
   "metadata": {},
   "source": [
    "不过得到标量值可以用 `at`，速度更快："
   ]
  },
  {
   "cell_type": "code",
   "execution_count": 81,
   "metadata": {
    "pycharm": {
     "name": "#%%\n"
    }
   },
   "outputs": [
    {
     "name": "stdout",
     "output_type": "stream",
     "text": [
      "12.1 µs ± 1.22 µs per loop (mean ± std. dev. of 7 runs, 100 loops each)\n",
      "8.97 µs ± 464 ns per loop (mean ± std. dev. of 7 runs, 100 loops each)\n",
      "1.3881718842189799\n"
     ]
    }
   ],
   "source": [
    "%timeit -n100 df.loc[dates[0],'B']\n",
    "%timeit -n100 df.at[dates[0],'B']\n",
    "\n",
    "print(df.at[dates[0],'B'])"
   ]
  },
  {
   "cell_type": "markdown",
   "metadata": {},
   "source": [
    "### 使用位置索引"
   ]
  },
  {
   "cell_type": "markdown",
   "metadata": {},
   "source": [
    "`iloc` 使用位置进行索引："
   ]
  },
  {
   "cell_type": "code",
   "execution_count": 82,
   "metadata": {
    "pycharm": {
     "name": "#%%\n"
    }
   },
   "outputs": [
    {
     "data": {
      "text/plain": [
       "A    0.270126\n",
       "B    1.097276\n",
       "C    0.812661\n",
       "D    1.042361\n",
       "Name: 2013-01-04 00:00:00, dtype: float64"
      ]
     },
     "execution_count": 82,
     "metadata": {},
     "output_type": "execute_result"
    }
   ],
   "source": [
    "df.iloc[3]"
   ]
  },
  {
   "cell_type": "markdown",
   "metadata": {},
   "source": [
    "连续切片："
   ]
  },
  {
   "cell_type": "code",
   "execution_count": 83,
   "metadata": {
    "pycharm": {
     "name": "#%%\n"
    }
   },
   "outputs": [
    {
     "data": {
      "text/html": [
       "<div>\n",
       "<style scoped>\n",
       "    .dataframe tbody tr th:only-of-type {\n",
       "        vertical-align: middle;\n",
       "    }\n",
       "\n",
       "    .dataframe tbody tr th {\n",
       "        vertical-align: top;\n",
       "    }\n",
       "\n",
       "    .dataframe thead th {\n",
       "        text-align: right;\n",
       "    }\n",
       "</style>\n",
       "<table border=\"1\" class=\"dataframe\">\n",
       "  <thead>\n",
       "    <tr style=\"text-align: right;\">\n",
       "      <th></th>\n",
       "      <th>A</th>\n",
       "      <th>B</th>\n",
       "    </tr>\n",
       "  </thead>\n",
       "  <tbody>\n",
       "    <tr>\n",
       "      <th>2013-01-04</th>\n",
       "      <td>0.270126</td>\n",
       "      <td>1.097276</td>\n",
       "    </tr>\n",
       "    <tr>\n",
       "      <th>2013-01-05</th>\n",
       "      <td>-1.438070</td>\n",
       "      <td>0.199388</td>\n",
       "    </tr>\n",
       "  </tbody>\n",
       "</table>\n",
       "</div>"
      ],
      "text/plain": [
       "                   A         B\n",
       "2013-01-04  0.270126  1.097276\n",
       "2013-01-05 -1.438070  0.199388"
      ]
     },
     "execution_count": 83,
     "metadata": {},
     "output_type": "execute_result"
    }
   ],
   "source": [
    "df.iloc[3:5,0:2]"
   ]
  },
  {
   "cell_type": "markdown",
   "metadata": {},
   "source": [
    "索引不连续的部分："
   ]
  },
  {
   "cell_type": "code",
   "execution_count": 84,
   "metadata": {
    "pycharm": {
     "name": "#%%\n"
    }
   },
   "outputs": [
    {
     "data": {
      "text/html": [
       "<div>\n",
       "<style scoped>\n",
       "    .dataframe tbody tr th:only-of-type {\n",
       "        vertical-align: middle;\n",
       "    }\n",
       "\n",
       "    .dataframe tbody tr th {\n",
       "        vertical-align: top;\n",
       "    }\n",
       "\n",
       "    .dataframe thead th {\n",
       "        text-align: right;\n",
       "    }\n",
       "</style>\n",
       "<table border=\"1\" class=\"dataframe\">\n",
       "  <thead>\n",
       "    <tr style=\"text-align: right;\">\n",
       "      <th></th>\n",
       "      <th>A</th>\n",
       "      <th>C</th>\n",
       "    </tr>\n",
       "  </thead>\n",
       "  <tbody>\n",
       "    <tr>\n",
       "      <th>2013-01-02</th>\n",
       "      <td>-1.083502</td>\n",
       "      <td>0.244012</td>\n",
       "    </tr>\n",
       "    <tr>\n",
       "      <th>2013-01-03</th>\n",
       "      <td>-0.686629</td>\n",
       "      <td>0.258969</td>\n",
       "    </tr>\n",
       "    <tr>\n",
       "      <th>2013-01-05</th>\n",
       "      <td>-1.438070</td>\n",
       "      <td>-0.972152</td>\n",
       "    </tr>\n",
       "  </tbody>\n",
       "</table>\n",
       "</div>"
      ],
      "text/plain": [
       "                   A         C\n",
       "2013-01-02 -1.083502  0.244012\n",
       "2013-01-03 -0.686629  0.258969\n",
       "2013-01-05 -1.438070 -0.972152"
      ]
     },
     "execution_count": 84,
     "metadata": {},
     "output_type": "execute_result"
    }
   ],
   "source": [
    "df.iloc[[1,2,4],[0,2]]"
   ]
  },
  {
   "cell_type": "markdown",
   "metadata": {},
   "source": [
    "索引整行："
   ]
  },
  {
   "cell_type": "code",
   "execution_count": 85,
   "metadata": {
    "pycharm": {
     "name": "#%%\n"
    }
   },
   "outputs": [
    {
     "data": {
      "text/html": [
       "<div>\n",
       "<style scoped>\n",
       "    .dataframe tbody tr th:only-of-type {\n",
       "        vertical-align: middle;\n",
       "    }\n",
       "\n",
       "    .dataframe tbody tr th {\n",
       "        vertical-align: top;\n",
       "    }\n",
       "\n",
       "    .dataframe thead th {\n",
       "        text-align: right;\n",
       "    }\n",
       "</style>\n",
       "<table border=\"1\" class=\"dataframe\">\n",
       "  <thead>\n",
       "    <tr style=\"text-align: right;\">\n",
       "      <th></th>\n",
       "      <th>A</th>\n",
       "      <th>B</th>\n",
       "      <th>C</th>\n",
       "      <th>D</th>\n",
       "    </tr>\n",
       "  </thead>\n",
       "  <tbody>\n",
       "    <tr>\n",
       "      <th>2013-01-02</th>\n",
       "      <td>-1.083502</td>\n",
       "      <td>1.236036</td>\n",
       "      <td>0.244012</td>\n",
       "      <td>1.787705</td>\n",
       "    </tr>\n",
       "    <tr>\n",
       "      <th>2013-01-03</th>\n",
       "      <td>-0.686629</td>\n",
       "      <td>0.279735</td>\n",
       "      <td>0.258969</td>\n",
       "      <td>-0.957478</td>\n",
       "    </tr>\n",
       "  </tbody>\n",
       "</table>\n",
       "</div>"
      ],
      "text/plain": [
       "                   A         B         C         D\n",
       "2013-01-02 -1.083502  1.236036  0.244012  1.787705\n",
       "2013-01-03 -0.686629  0.279735  0.258969 -0.957478"
      ]
     },
     "execution_count": 85,
     "metadata": {},
     "output_type": "execute_result"
    }
   ],
   "source": [
    "df.iloc[1:3,:]"
   ]
  },
  {
   "cell_type": "markdown",
   "metadata": {},
   "source": [
    "整列："
   ]
  },
  {
   "cell_type": "code",
   "execution_count": 86,
   "metadata": {
    "pycharm": {
     "name": "#%%\n"
    }
   },
   "outputs": [
    {
     "data": {
      "text/html": [
       "<div>\n",
       "<style scoped>\n",
       "    .dataframe tbody tr th:only-of-type {\n",
       "        vertical-align: middle;\n",
       "    }\n",
       "\n",
       "    .dataframe tbody tr th {\n",
       "        vertical-align: top;\n",
       "    }\n",
       "\n",
       "    .dataframe thead th {\n",
       "        text-align: right;\n",
       "    }\n",
       "</style>\n",
       "<table border=\"1\" class=\"dataframe\">\n",
       "  <thead>\n",
       "    <tr style=\"text-align: right;\">\n",
       "      <th></th>\n",
       "      <th>B</th>\n",
       "      <th>C</th>\n",
       "    </tr>\n",
       "  </thead>\n",
       "  <tbody>\n",
       "    <tr>\n",
       "      <th>2013-01-01</th>\n",
       "      <td>1.388172</td>\n",
       "      <td>0.526073</td>\n",
       "    </tr>\n",
       "    <tr>\n",
       "      <th>2013-01-02</th>\n",
       "      <td>1.236036</td>\n",
       "      <td>0.244012</td>\n",
       "    </tr>\n",
       "    <tr>\n",
       "      <th>2013-01-03</th>\n",
       "      <td>0.279735</td>\n",
       "      <td>0.258969</td>\n",
       "    </tr>\n",
       "    <tr>\n",
       "      <th>2013-01-04</th>\n",
       "      <td>1.097276</td>\n",
       "      <td>0.812661</td>\n",
       "    </tr>\n",
       "    <tr>\n",
       "      <th>2013-01-05</th>\n",
       "      <td>0.199388</td>\n",
       "      <td>-0.972152</td>\n",
       "    </tr>\n",
       "    <tr>\n",
       "      <th>2013-01-06</th>\n",
       "      <td>-0.495279</td>\n",
       "      <td>1.187349</td>\n",
       "    </tr>\n",
       "  </tbody>\n",
       "</table>\n",
       "</div>"
      ],
      "text/plain": [
       "                   B         C\n",
       "2013-01-01  1.388172  0.526073\n",
       "2013-01-02  1.236036  0.244012\n",
       "2013-01-03  0.279735  0.258969\n",
       "2013-01-04  1.097276  0.812661\n",
       "2013-01-05  0.199388 -0.972152\n",
       "2013-01-06 -0.495279  1.187349"
      ]
     },
     "execution_count": 86,
     "metadata": {},
     "output_type": "execute_result"
    }
   ],
   "source": [
    "df.iloc[:, 1:3]"
   ]
  },
  {
   "cell_type": "markdown",
   "metadata": {},
   "source": [
    "标量值："
   ]
  },
  {
   "cell_type": "code",
   "execution_count": 87,
   "metadata": {
    "pycharm": {
     "name": "#%%\n"
    }
   },
   "outputs": [
    {
     "data": {
      "text/plain": [
       "1.236036280497105"
      ]
     },
     "execution_count": 87,
     "metadata": {},
     "output_type": "execute_result"
    }
   ],
   "source": [
    "df.iloc[1,1]"
   ]
  },
  {
   "cell_type": "markdown",
   "metadata": {},
   "source": [
    "当然，使用 `iat` 索引标量值更快："
   ]
  },
  {
   "cell_type": "code",
   "execution_count": 89,
   "metadata": {
    "pycharm": {
     "name": "#%%\n"
    }
   },
   "outputs": [
    {
     "name": "stdout",
     "output_type": "stream",
     "text": [
      "6.68 µs ± 428 ns per loop (mean ± std. dev. of 7 runs, 100 loops each)\n",
      "3.87 µs ± 244 ns per loop (mean ± std. dev. of 7 runs, 100 loops each)\n"
     ]
    },
    {
     "data": {
      "text/plain": [
       "1.236036280497105"
      ]
     },
     "execution_count": 89,
     "metadata": {},
     "output_type": "execute_result"
    }
   ],
   "source": [
    "%timeit -n100 df.iloc[1,1]\n",
    "%timeit -n100 df.iat[1,1]\n",
    "\n",
    "df.iat[1,1]"
   ]
  },
  {
   "cell_type": "markdown",
   "metadata": {},
   "source": [
    "### 布尔型索引"
   ]
  },
  {
   "cell_type": "markdown",
   "metadata": {},
   "source": [
    "所有 `A` 列大于 0 的行："
   ]
  },
  {
   "cell_type": "code",
   "execution_count": 90,
   "metadata": {
    "pycharm": {
     "name": "#%%\n"
    }
   },
   "outputs": [
    {
     "data": {
      "text/html": [
       "<div>\n",
       "<style scoped>\n",
       "    .dataframe tbody tr th:only-of-type {\n",
       "        vertical-align: middle;\n",
       "    }\n",
       "\n",
       "    .dataframe tbody tr th {\n",
       "        vertical-align: top;\n",
       "    }\n",
       "\n",
       "    .dataframe thead th {\n",
       "        text-align: right;\n",
       "    }\n",
       "</style>\n",
       "<table border=\"1\" class=\"dataframe\">\n",
       "  <thead>\n",
       "    <tr style=\"text-align: right;\">\n",
       "      <th></th>\n",
       "      <th>A</th>\n",
       "      <th>B</th>\n",
       "      <th>C</th>\n",
       "      <th>D</th>\n",
       "    </tr>\n",
       "  </thead>\n",
       "  <tbody>\n",
       "    <tr>\n",
       "      <th>2013-01-01</th>\n",
       "      <td>0.930832</td>\n",
       "      <td>1.388172</td>\n",
       "      <td>0.526073</td>\n",
       "      <td>-0.929865</td>\n",
       "    </tr>\n",
       "    <tr>\n",
       "      <th>2013-01-04</th>\n",
       "      <td>0.270126</td>\n",
       "      <td>1.097276</td>\n",
       "      <td>0.812661</td>\n",
       "      <td>1.042361</td>\n",
       "    </tr>\n",
       "    <tr>\n",
       "      <th>2013-01-06</th>\n",
       "      <td>0.142988</td>\n",
       "      <td>-0.495279</td>\n",
       "      <td>1.187349</td>\n",
       "      <td>1.539723</td>\n",
       "    </tr>\n",
       "  </tbody>\n",
       "</table>\n",
       "</div>"
      ],
      "text/plain": [
       "                   A         B         C         D\n",
       "2013-01-01  0.930832  1.388172  0.526073 -0.929865\n",
       "2013-01-04  0.270126  1.097276  0.812661  1.042361\n",
       "2013-01-06  0.142988 -0.495279  1.187349  1.539723"
      ]
     },
     "execution_count": 90,
     "metadata": {},
     "output_type": "execute_result"
    }
   ],
   "source": [
    "df[df.A > 0]"
   ]
  },
  {
   "cell_type": "markdown",
   "metadata": {},
   "source": [
    "只留下所有大于 0 的数值："
   ]
  },
  {
   "cell_type": "code",
   "execution_count": 91,
   "metadata": {
    "pycharm": {
     "name": "#%%\n"
    }
   },
   "outputs": [
    {
     "data": {
      "text/html": [
       "<div>\n",
       "<style scoped>\n",
       "    .dataframe tbody tr th:only-of-type {\n",
       "        vertical-align: middle;\n",
       "    }\n",
       "\n",
       "    .dataframe tbody tr th {\n",
       "        vertical-align: top;\n",
       "    }\n",
       "\n",
       "    .dataframe thead th {\n",
       "        text-align: right;\n",
       "    }\n",
       "</style>\n",
       "<table border=\"1\" class=\"dataframe\">\n",
       "  <thead>\n",
       "    <tr style=\"text-align: right;\">\n",
       "      <th></th>\n",
       "      <th>A</th>\n",
       "      <th>B</th>\n",
       "      <th>C</th>\n",
       "      <th>D</th>\n",
       "    </tr>\n",
       "  </thead>\n",
       "  <tbody>\n",
       "    <tr>\n",
       "      <th>2013-01-01</th>\n",
       "      <td>0.930832</td>\n",
       "      <td>1.388172</td>\n",
       "      <td>0.526073</td>\n",
       "      <td>NaN</td>\n",
       "    </tr>\n",
       "    <tr>\n",
       "      <th>2013-01-02</th>\n",
       "      <td>NaN</td>\n",
       "      <td>1.236036</td>\n",
       "      <td>0.244012</td>\n",
       "      <td>1.787705</td>\n",
       "    </tr>\n",
       "    <tr>\n",
       "      <th>2013-01-03</th>\n",
       "      <td>NaN</td>\n",
       "      <td>0.279735</td>\n",
       "      <td>0.258969</td>\n",
       "      <td>NaN</td>\n",
       "    </tr>\n",
       "    <tr>\n",
       "      <th>2013-01-04</th>\n",
       "      <td>0.270126</td>\n",
       "      <td>1.097276</td>\n",
       "      <td>0.812661</td>\n",
       "      <td>1.042361</td>\n",
       "    </tr>\n",
       "    <tr>\n",
       "      <th>2013-01-05</th>\n",
       "      <td>NaN</td>\n",
       "      <td>0.199388</td>\n",
       "      <td>NaN</td>\n",
       "      <td>1.014465</td>\n",
       "    </tr>\n",
       "    <tr>\n",
       "      <th>2013-01-06</th>\n",
       "      <td>0.142988</td>\n",
       "      <td>NaN</td>\n",
       "      <td>1.187349</td>\n",
       "      <td>1.539723</td>\n",
       "    </tr>\n",
       "  </tbody>\n",
       "</table>\n",
       "</div>"
      ],
      "text/plain": [
       "                   A         B         C         D\n",
       "2013-01-01  0.930832  1.388172  0.526073       NaN\n",
       "2013-01-02       NaN  1.236036  0.244012  1.787705\n",
       "2013-01-03       NaN  0.279735  0.258969       NaN\n",
       "2013-01-04  0.270126  1.097276  0.812661  1.042361\n",
       "2013-01-05       NaN  0.199388       NaN  1.014465\n",
       "2013-01-06  0.142988       NaN  1.187349  1.539723"
      ]
     },
     "execution_count": 91,
     "metadata": {},
     "output_type": "execute_result"
    }
   ],
   "source": [
    "df[df > 0]"
   ]
  },
  {
   "cell_type": "markdown",
   "metadata": {},
   "source": [
    "使用 `isin` 方法做 `filter` 过滤："
   ]
  },
  {
   "cell_type": "code",
   "execution_count": 92,
   "metadata": {
    "pycharm": {
     "name": "#%%\n"
    }
   },
   "outputs": [
    {
     "data": {
      "text/html": [
       "<div>\n",
       "<style scoped>\n",
       "    .dataframe tbody tr th:only-of-type {\n",
       "        vertical-align: middle;\n",
       "    }\n",
       "\n",
       "    .dataframe tbody tr th {\n",
       "        vertical-align: top;\n",
       "    }\n",
       "\n",
       "    .dataframe thead th {\n",
       "        text-align: right;\n",
       "    }\n",
       "</style>\n",
       "<table border=\"1\" class=\"dataframe\">\n",
       "  <thead>\n",
       "    <tr style=\"text-align: right;\">\n",
       "      <th></th>\n",
       "      <th>A</th>\n",
       "      <th>B</th>\n",
       "      <th>C</th>\n",
       "      <th>D</th>\n",
       "      <th>E</th>\n",
       "    </tr>\n",
       "  </thead>\n",
       "  <tbody>\n",
       "    <tr>\n",
       "      <th>2013-01-01</th>\n",
       "      <td>0.930832</td>\n",
       "      <td>1.388172</td>\n",
       "      <td>0.526073</td>\n",
       "      <td>-0.929865</td>\n",
       "      <td>one</td>\n",
       "    </tr>\n",
       "    <tr>\n",
       "      <th>2013-01-02</th>\n",
       "      <td>-1.083502</td>\n",
       "      <td>1.236036</td>\n",
       "      <td>0.244012</td>\n",
       "      <td>1.787705</td>\n",
       "      <td>one</td>\n",
       "    </tr>\n",
       "    <tr>\n",
       "      <th>2013-01-03</th>\n",
       "      <td>-0.686629</td>\n",
       "      <td>0.279735</td>\n",
       "      <td>0.258969</td>\n",
       "      <td>-0.957478</td>\n",
       "      <td>two</td>\n",
       "    </tr>\n",
       "    <tr>\n",
       "      <th>2013-01-04</th>\n",
       "      <td>0.270126</td>\n",
       "      <td>1.097276</td>\n",
       "      <td>0.812661</td>\n",
       "      <td>1.042361</td>\n",
       "      <td>three</td>\n",
       "    </tr>\n",
       "    <tr>\n",
       "      <th>2013-01-05</th>\n",
       "      <td>-1.438070</td>\n",
       "      <td>0.199388</td>\n",
       "      <td>-0.972152</td>\n",
       "      <td>1.014465</td>\n",
       "      <td>four</td>\n",
       "    </tr>\n",
       "    <tr>\n",
       "      <th>2013-01-06</th>\n",
       "      <td>0.142988</td>\n",
       "      <td>-0.495279</td>\n",
       "      <td>1.187349</td>\n",
       "      <td>1.539723</td>\n",
       "      <td>three</td>\n",
       "    </tr>\n",
       "  </tbody>\n",
       "</table>\n",
       "</div>"
      ],
      "text/plain": [
       "                   A         B         C         D      E\n",
       "2013-01-01  0.930832  1.388172  0.526073 -0.929865    one\n",
       "2013-01-02 -1.083502  1.236036  0.244012  1.787705    one\n",
       "2013-01-03 -0.686629  0.279735  0.258969 -0.957478    two\n",
       "2013-01-04  0.270126  1.097276  0.812661  1.042361  three\n",
       "2013-01-05 -1.438070  0.199388 -0.972152  1.014465   four\n",
       "2013-01-06  0.142988 -0.495279  1.187349  1.539723  three"
      ]
     },
     "execution_count": 92,
     "metadata": {},
     "output_type": "execute_result"
    }
   ],
   "source": [
    "df2 = df.copy()\n",
    "df2['E'] = ['one', 'one','two','three','four','three']\n",
    "\n",
    "df2"
   ]
  },
  {
   "cell_type": "code",
   "execution_count": 93,
   "metadata": {
    "pycharm": {
     "name": "#%%\n"
    }
   },
   "outputs": [
    {
     "data": {
      "text/html": [
       "<div>\n",
       "<style scoped>\n",
       "    .dataframe tbody tr th:only-of-type {\n",
       "        vertical-align: middle;\n",
       "    }\n",
       "\n",
       "    .dataframe tbody tr th {\n",
       "        vertical-align: top;\n",
       "    }\n",
       "\n",
       "    .dataframe thead th {\n",
       "        text-align: right;\n",
       "    }\n",
       "</style>\n",
       "<table border=\"1\" class=\"dataframe\">\n",
       "  <thead>\n",
       "    <tr style=\"text-align: right;\">\n",
       "      <th></th>\n",
       "      <th>A</th>\n",
       "      <th>B</th>\n",
       "      <th>C</th>\n",
       "      <th>D</th>\n",
       "      <th>E</th>\n",
       "    </tr>\n",
       "  </thead>\n",
       "  <tbody>\n",
       "    <tr>\n",
       "      <th>2013-01-03</th>\n",
       "      <td>-0.686629</td>\n",
       "      <td>0.279735</td>\n",
       "      <td>0.258969</td>\n",
       "      <td>-0.957478</td>\n",
       "      <td>two</td>\n",
       "    </tr>\n",
       "    <tr>\n",
       "      <th>2013-01-05</th>\n",
       "      <td>-1.438070</td>\n",
       "      <td>0.199388</td>\n",
       "      <td>-0.972152</td>\n",
       "      <td>1.014465</td>\n",
       "      <td>four</td>\n",
       "    </tr>\n",
       "  </tbody>\n",
       "</table>\n",
       "</div>"
      ],
      "text/plain": [
       "                   A         B         C         D     E\n",
       "2013-01-03 -0.686629  0.279735  0.258969 -0.957478   two\n",
       "2013-01-05 -1.438070  0.199388 -0.972152  1.014465  four"
      ]
     },
     "execution_count": 93,
     "metadata": {},
     "output_type": "execute_result"
    }
   ],
   "source": [
    "df2[df2['E'].isin(['two','four'])]"
   ]
  },
  {
   "cell_type": "markdown",
   "metadata": {},
   "source": [
    "### 设定数据的值"
   ]
  },
  {
   "cell_type": "code",
   "execution_count": 94,
   "metadata": {
    "pycharm": {
     "name": "#%%\n"
    }
   },
   "outputs": [
    {
     "data": {
      "text/plain": [
       "2013-01-02    1\n",
       "2013-01-03    2\n",
       "2013-01-04    3\n",
       "2013-01-05    4\n",
       "2013-01-06    5\n",
       "2013-01-07    6\n",
       "Freq: D, dtype: int64"
      ]
     },
     "execution_count": 94,
     "metadata": {},
     "output_type": "execute_result"
    }
   ],
   "source": [
    "s1 = pd.Series([1,2,3,4,5,6], index=pd.date_range('20130102', periods=6))\n",
    "\n",
    "s1"
   ]
  },
  {
   "cell_type": "markdown",
   "metadata": {},
   "source": [
    "像字典一样，直接指定 `F` 列的值为 `s1`，此时以 `df` 已有的 `index` 为标准将二者进行合并，`s1` 中没有的 `index` 项设为 `NaN`，多余的项舍去："
   ]
  },
  {
   "cell_type": "code",
   "execution_count": 95,
   "metadata": {
    "pycharm": {
     "name": "#%%\n"
    }
   },
   "outputs": [
    {
     "data": {
      "text/html": [
       "<div>\n",
       "<style scoped>\n",
       "    .dataframe tbody tr th:only-of-type {\n",
       "        vertical-align: middle;\n",
       "    }\n",
       "\n",
       "    .dataframe tbody tr th {\n",
       "        vertical-align: top;\n",
       "    }\n",
       "\n",
       "    .dataframe thead th {\n",
       "        text-align: right;\n",
       "    }\n",
       "</style>\n",
       "<table border=\"1\" class=\"dataframe\">\n",
       "  <thead>\n",
       "    <tr style=\"text-align: right;\">\n",
       "      <th></th>\n",
       "      <th>A</th>\n",
       "      <th>B</th>\n",
       "      <th>C</th>\n",
       "      <th>D</th>\n",
       "      <th>F</th>\n",
       "    </tr>\n",
       "  </thead>\n",
       "  <tbody>\n",
       "    <tr>\n",
       "      <th>2013-01-01</th>\n",
       "      <td>0.930832</td>\n",
       "      <td>1.388172</td>\n",
       "      <td>0.526073</td>\n",
       "      <td>-0.929865</td>\n",
       "      <td>NaN</td>\n",
       "    </tr>\n",
       "    <tr>\n",
       "      <th>2013-01-02</th>\n",
       "      <td>-1.083502</td>\n",
       "      <td>1.236036</td>\n",
       "      <td>0.244012</td>\n",
       "      <td>1.787705</td>\n",
       "      <td>1.0</td>\n",
       "    </tr>\n",
       "    <tr>\n",
       "      <th>2013-01-03</th>\n",
       "      <td>-0.686629</td>\n",
       "      <td>0.279735</td>\n",
       "      <td>0.258969</td>\n",
       "      <td>-0.957478</td>\n",
       "      <td>2.0</td>\n",
       "    </tr>\n",
       "    <tr>\n",
       "      <th>2013-01-04</th>\n",
       "      <td>0.270126</td>\n",
       "      <td>1.097276</td>\n",
       "      <td>0.812661</td>\n",
       "      <td>1.042361</td>\n",
       "      <td>3.0</td>\n",
       "    </tr>\n",
       "    <tr>\n",
       "      <th>2013-01-05</th>\n",
       "      <td>-1.438070</td>\n",
       "      <td>0.199388</td>\n",
       "      <td>-0.972152</td>\n",
       "      <td>1.014465</td>\n",
       "      <td>4.0</td>\n",
       "    </tr>\n",
       "    <tr>\n",
       "      <th>2013-01-06</th>\n",
       "      <td>0.142988</td>\n",
       "      <td>-0.495279</td>\n",
       "      <td>1.187349</td>\n",
       "      <td>1.539723</td>\n",
       "      <td>5.0</td>\n",
       "    </tr>\n",
       "  </tbody>\n",
       "</table>\n",
       "</div>"
      ],
      "text/plain": [
       "                   A         B         C         D    F\n",
       "2013-01-01  0.930832  1.388172  0.526073 -0.929865  NaN\n",
       "2013-01-02 -1.083502  1.236036  0.244012  1.787705  1.0\n",
       "2013-01-03 -0.686629  0.279735  0.258969 -0.957478  2.0\n",
       "2013-01-04  0.270126  1.097276  0.812661  1.042361  3.0\n",
       "2013-01-05 -1.438070  0.199388 -0.972152  1.014465  4.0\n",
       "2013-01-06  0.142988 -0.495279  1.187349  1.539723  5.0"
      ]
     },
     "execution_count": 95,
     "metadata": {},
     "output_type": "execute_result"
    }
   ],
   "source": [
    "df['F'] = s1\n",
    "\n",
    "df"
   ]
  },
  {
   "cell_type": "markdown",
   "metadata": {},
   "source": [
    "或者使用 `at` 或 `iat` 修改单个值："
   ]
  },
  {
   "cell_type": "code",
   "execution_count": 96,
   "metadata": {
    "pycharm": {
     "name": "#%%\n"
    }
   },
   "outputs": [
    {
     "data": {
      "text/html": [
       "<div>\n",
       "<style scoped>\n",
       "    .dataframe tbody tr th:only-of-type {\n",
       "        vertical-align: middle;\n",
       "    }\n",
       "\n",
       "    .dataframe tbody tr th {\n",
       "        vertical-align: top;\n",
       "    }\n",
       "\n",
       "    .dataframe thead th {\n",
       "        text-align: right;\n",
       "    }\n",
       "</style>\n",
       "<table border=\"1\" class=\"dataframe\">\n",
       "  <thead>\n",
       "    <tr style=\"text-align: right;\">\n",
       "      <th></th>\n",
       "      <th>A</th>\n",
       "      <th>B</th>\n",
       "      <th>C</th>\n",
       "      <th>D</th>\n",
       "      <th>F</th>\n",
       "    </tr>\n",
       "  </thead>\n",
       "  <tbody>\n",
       "    <tr>\n",
       "      <th>2013-01-01</th>\n",
       "      <td>0.000000</td>\n",
       "      <td>1.388172</td>\n",
       "      <td>0.526073</td>\n",
       "      <td>-0.929865</td>\n",
       "      <td>NaN</td>\n",
       "    </tr>\n",
       "    <tr>\n",
       "      <th>2013-01-02</th>\n",
       "      <td>-1.083502</td>\n",
       "      <td>1.236036</td>\n",
       "      <td>0.244012</td>\n",
       "      <td>1.787705</td>\n",
       "      <td>1.0</td>\n",
       "    </tr>\n",
       "    <tr>\n",
       "      <th>2013-01-03</th>\n",
       "      <td>-0.686629</td>\n",
       "      <td>0.279735</td>\n",
       "      <td>0.258969</td>\n",
       "      <td>-0.957478</td>\n",
       "      <td>2.0</td>\n",
       "    </tr>\n",
       "    <tr>\n",
       "      <th>2013-01-04</th>\n",
       "      <td>0.270126</td>\n",
       "      <td>1.097276</td>\n",
       "      <td>0.812661</td>\n",
       "      <td>1.042361</td>\n",
       "      <td>3.0</td>\n",
       "    </tr>\n",
       "    <tr>\n",
       "      <th>2013-01-05</th>\n",
       "      <td>-1.438070</td>\n",
       "      <td>0.199388</td>\n",
       "      <td>-0.972152</td>\n",
       "      <td>1.014465</td>\n",
       "      <td>4.0</td>\n",
       "    </tr>\n",
       "    <tr>\n",
       "      <th>2013-01-06</th>\n",
       "      <td>0.142988</td>\n",
       "      <td>-0.495279</td>\n",
       "      <td>1.187349</td>\n",
       "      <td>1.539723</td>\n",
       "      <td>5.0</td>\n",
       "    </tr>\n",
       "  </tbody>\n",
       "</table>\n",
       "</div>"
      ],
      "text/plain": [
       "                   A         B         C         D    F\n",
       "2013-01-01  0.000000  1.388172  0.526073 -0.929865  NaN\n",
       "2013-01-02 -1.083502  1.236036  0.244012  1.787705  1.0\n",
       "2013-01-03 -0.686629  0.279735  0.258969 -0.957478  2.0\n",
       "2013-01-04  0.270126  1.097276  0.812661  1.042361  3.0\n",
       "2013-01-05 -1.438070  0.199388 -0.972152  1.014465  4.0\n",
       "2013-01-06  0.142988 -0.495279  1.187349  1.539723  5.0"
      ]
     },
     "execution_count": 96,
     "metadata": {},
     "output_type": "execute_result"
    }
   ],
   "source": [
    "df.at[dates[0],'A'] = 0\n",
    "\n",
    "df"
   ]
  },
  {
   "cell_type": "code",
   "execution_count": 97,
   "metadata": {
    "pycharm": {
     "name": "#%%\n"
    }
   },
   "outputs": [
    {
     "data": {
      "text/html": [
       "<div>\n",
       "<style scoped>\n",
       "    .dataframe tbody tr th:only-of-type {\n",
       "        vertical-align: middle;\n",
       "    }\n",
       "\n",
       "    .dataframe tbody tr th {\n",
       "        vertical-align: top;\n",
       "    }\n",
       "\n",
       "    .dataframe thead th {\n",
       "        text-align: right;\n",
       "    }\n",
       "</style>\n",
       "<table border=\"1\" class=\"dataframe\">\n",
       "  <thead>\n",
       "    <tr style=\"text-align: right;\">\n",
       "      <th></th>\n",
       "      <th>A</th>\n",
       "      <th>B</th>\n",
       "      <th>C</th>\n",
       "      <th>D</th>\n",
       "      <th>F</th>\n",
       "    </tr>\n",
       "  </thead>\n",
       "  <tbody>\n",
       "    <tr>\n",
       "      <th>2013-01-01</th>\n",
       "      <td>0.000000</td>\n",
       "      <td>0.000000</td>\n",
       "      <td>0.526073</td>\n",
       "      <td>-0.929865</td>\n",
       "      <td>NaN</td>\n",
       "    </tr>\n",
       "    <tr>\n",
       "      <th>2013-01-02</th>\n",
       "      <td>-1.083502</td>\n",
       "      <td>1.236036</td>\n",
       "      <td>0.244012</td>\n",
       "      <td>1.787705</td>\n",
       "      <td>1.0</td>\n",
       "    </tr>\n",
       "    <tr>\n",
       "      <th>2013-01-03</th>\n",
       "      <td>-0.686629</td>\n",
       "      <td>0.279735</td>\n",
       "      <td>0.258969</td>\n",
       "      <td>-0.957478</td>\n",
       "      <td>2.0</td>\n",
       "    </tr>\n",
       "    <tr>\n",
       "      <th>2013-01-04</th>\n",
       "      <td>0.270126</td>\n",
       "      <td>1.097276</td>\n",
       "      <td>0.812661</td>\n",
       "      <td>1.042361</td>\n",
       "      <td>3.0</td>\n",
       "    </tr>\n",
       "    <tr>\n",
       "      <th>2013-01-05</th>\n",
       "      <td>-1.438070</td>\n",
       "      <td>0.199388</td>\n",
       "      <td>-0.972152</td>\n",
       "      <td>1.014465</td>\n",
       "      <td>4.0</td>\n",
       "    </tr>\n",
       "    <tr>\n",
       "      <th>2013-01-06</th>\n",
       "      <td>0.142988</td>\n",
       "      <td>-0.495279</td>\n",
       "      <td>1.187349</td>\n",
       "      <td>1.539723</td>\n",
       "      <td>5.0</td>\n",
       "    </tr>\n",
       "  </tbody>\n",
       "</table>\n",
       "</div>"
      ],
      "text/plain": [
       "                   A         B         C         D    F\n",
       "2013-01-01  0.000000  0.000000  0.526073 -0.929865  NaN\n",
       "2013-01-02 -1.083502  1.236036  0.244012  1.787705  1.0\n",
       "2013-01-03 -0.686629  0.279735  0.258969 -0.957478  2.0\n",
       "2013-01-04  0.270126  1.097276  0.812661  1.042361  3.0\n",
       "2013-01-05 -1.438070  0.199388 -0.972152  1.014465  4.0\n",
       "2013-01-06  0.142988 -0.495279  1.187349  1.539723  5.0"
      ]
     },
     "execution_count": 97,
     "metadata": {},
     "output_type": "execute_result"
    }
   ],
   "source": [
    "df.iat[0, 1] = 0\n",
    "\n",
    "df"
   ]
  },
  {
   "cell_type": "markdown",
   "metadata": {},
   "source": [
    "设定一整列："
   ]
  },
  {
   "cell_type": "code",
   "execution_count": 98,
   "metadata": {
    "pycharm": {
     "name": "#%%\n"
    }
   },
   "outputs": [
    {
     "data": {
      "text/html": [
       "<div>\n",
       "<style scoped>\n",
       "    .dataframe tbody tr th:only-of-type {\n",
       "        vertical-align: middle;\n",
       "    }\n",
       "\n",
       "    .dataframe tbody tr th {\n",
       "        vertical-align: top;\n",
       "    }\n",
       "\n",
       "    .dataframe thead th {\n",
       "        text-align: right;\n",
       "    }\n",
       "</style>\n",
       "<table border=\"1\" class=\"dataframe\">\n",
       "  <thead>\n",
       "    <tr style=\"text-align: right;\">\n",
       "      <th></th>\n",
       "      <th>A</th>\n",
       "      <th>B</th>\n",
       "      <th>C</th>\n",
       "      <th>D</th>\n",
       "      <th>F</th>\n",
       "    </tr>\n",
       "  </thead>\n",
       "  <tbody>\n",
       "    <tr>\n",
       "      <th>2013-01-01</th>\n",
       "      <td>0.000000</td>\n",
       "      <td>0.000000</td>\n",
       "      <td>0.526073</td>\n",
       "      <td>5</td>\n",
       "      <td>NaN</td>\n",
       "    </tr>\n",
       "    <tr>\n",
       "      <th>2013-01-02</th>\n",
       "      <td>-1.083502</td>\n",
       "      <td>1.236036</td>\n",
       "      <td>0.244012</td>\n",
       "      <td>5</td>\n",
       "      <td>1.0</td>\n",
       "    </tr>\n",
       "    <tr>\n",
       "      <th>2013-01-03</th>\n",
       "      <td>-0.686629</td>\n",
       "      <td>0.279735</td>\n",
       "      <td>0.258969</td>\n",
       "      <td>5</td>\n",
       "      <td>2.0</td>\n",
       "    </tr>\n",
       "    <tr>\n",
       "      <th>2013-01-04</th>\n",
       "      <td>0.270126</td>\n",
       "      <td>1.097276</td>\n",
       "      <td>0.812661</td>\n",
       "      <td>5</td>\n",
       "      <td>3.0</td>\n",
       "    </tr>\n",
       "    <tr>\n",
       "      <th>2013-01-05</th>\n",
       "      <td>-1.438070</td>\n",
       "      <td>0.199388</td>\n",
       "      <td>-0.972152</td>\n",
       "      <td>5</td>\n",
       "      <td>4.0</td>\n",
       "    </tr>\n",
       "    <tr>\n",
       "      <th>2013-01-06</th>\n",
       "      <td>0.142988</td>\n",
       "      <td>-0.495279</td>\n",
       "      <td>1.187349</td>\n",
       "      <td>5</td>\n",
       "      <td>5.0</td>\n",
       "    </tr>\n",
       "  </tbody>\n",
       "</table>\n",
       "</div>"
      ],
      "text/plain": [
       "                   A         B         C  D    F\n",
       "2013-01-01  0.000000  0.000000  0.526073  5  NaN\n",
       "2013-01-02 -1.083502  1.236036  0.244012  5  1.0\n",
       "2013-01-03 -0.686629  0.279735  0.258969  5  2.0\n",
       "2013-01-04  0.270126  1.097276  0.812661  5  3.0\n",
       "2013-01-05 -1.438070  0.199388 -0.972152  5  4.0\n",
       "2013-01-06  0.142988 -0.495279  1.187349  5  5.0"
      ]
     },
     "execution_count": 98,
     "metadata": {},
     "output_type": "execute_result"
    }
   ],
   "source": [
    "df.loc[:,'D'] = np.array([5] * len(df))\n",
    "\n",
    "df"
   ]
  },
  {
   "cell_type": "markdown",
   "metadata": {},
   "source": [
    "设定满足条件的数值："
   ]
  },
  {
   "cell_type": "code",
   "execution_count": 99,
   "metadata": {
    "pycharm": {
     "name": "#%%\n"
    }
   },
   "outputs": [
    {
     "data": {
      "text/html": [
       "<div>\n",
       "<style scoped>\n",
       "    .dataframe tbody tr th:only-of-type {\n",
       "        vertical-align: middle;\n",
       "    }\n",
       "\n",
       "    .dataframe tbody tr th {\n",
       "        vertical-align: top;\n",
       "    }\n",
       "\n",
       "    .dataframe thead th {\n",
       "        text-align: right;\n",
       "    }\n",
       "</style>\n",
       "<table border=\"1\" class=\"dataframe\">\n",
       "  <thead>\n",
       "    <tr style=\"text-align: right;\">\n",
       "      <th></th>\n",
       "      <th>A</th>\n",
       "      <th>B</th>\n",
       "      <th>C</th>\n",
       "      <th>D</th>\n",
       "      <th>F</th>\n",
       "    </tr>\n",
       "  </thead>\n",
       "  <tbody>\n",
       "    <tr>\n",
       "      <th>2013-01-01</th>\n",
       "      <td>0.000000</td>\n",
       "      <td>0.000000</td>\n",
       "      <td>-0.526073</td>\n",
       "      <td>-5</td>\n",
       "      <td>NaN</td>\n",
       "    </tr>\n",
       "    <tr>\n",
       "      <th>2013-01-02</th>\n",
       "      <td>-1.083502</td>\n",
       "      <td>-1.236036</td>\n",
       "      <td>-0.244012</td>\n",
       "      <td>-5</td>\n",
       "      <td>-1.0</td>\n",
       "    </tr>\n",
       "    <tr>\n",
       "      <th>2013-01-03</th>\n",
       "      <td>-0.686629</td>\n",
       "      <td>-0.279735</td>\n",
       "      <td>-0.258969</td>\n",
       "      <td>-5</td>\n",
       "      <td>-2.0</td>\n",
       "    </tr>\n",
       "    <tr>\n",
       "      <th>2013-01-04</th>\n",
       "      <td>-0.270126</td>\n",
       "      <td>-1.097276</td>\n",
       "      <td>-0.812661</td>\n",
       "      <td>-5</td>\n",
       "      <td>-3.0</td>\n",
       "    </tr>\n",
       "    <tr>\n",
       "      <th>2013-01-05</th>\n",
       "      <td>-1.438070</td>\n",
       "      <td>-0.199388</td>\n",
       "      <td>-0.972152</td>\n",
       "      <td>-5</td>\n",
       "      <td>-4.0</td>\n",
       "    </tr>\n",
       "    <tr>\n",
       "      <th>2013-01-06</th>\n",
       "      <td>-0.142988</td>\n",
       "      <td>-0.495279</td>\n",
       "      <td>-1.187349</td>\n",
       "      <td>-5</td>\n",
       "      <td>-5.0</td>\n",
       "    </tr>\n",
       "  </tbody>\n",
       "</table>\n",
       "</div>"
      ],
      "text/plain": [
       "                   A         B         C  D    F\n",
       "2013-01-01  0.000000  0.000000 -0.526073 -5  NaN\n",
       "2013-01-02 -1.083502 -1.236036 -0.244012 -5 -1.0\n",
       "2013-01-03 -0.686629 -0.279735 -0.258969 -5 -2.0\n",
       "2013-01-04 -0.270126 -1.097276 -0.812661 -5 -3.0\n",
       "2013-01-05 -1.438070 -0.199388 -0.972152 -5 -4.0\n",
       "2013-01-06 -0.142988 -0.495279 -1.187349 -5 -5.0"
      ]
     },
     "execution_count": 99,
     "metadata": {},
     "output_type": "execute_result"
    }
   ],
   "source": [
    "df2 = df.copy()\n",
    "\n",
    "df2[df2 > 0] = -df2\n",
    "\n",
    "df2"
   ]
  },
  {
   "cell_type": "markdown",
   "metadata": {},
   "source": [
    "## 缺失数据"
   ]
  },
  {
   "cell_type": "code",
   "execution_count": 100,
   "metadata": {
    "pycharm": {
     "name": "#%%\n"
    }
   },
   "outputs": [
    {
     "data": {
      "text/html": [
       "<div>\n",
       "<style scoped>\n",
       "    .dataframe tbody tr th:only-of-type {\n",
       "        vertical-align: middle;\n",
       "    }\n",
       "\n",
       "    .dataframe tbody tr th {\n",
       "        vertical-align: top;\n",
       "    }\n",
       "\n",
       "    .dataframe thead th {\n",
       "        text-align: right;\n",
       "    }\n",
       "</style>\n",
       "<table border=\"1\" class=\"dataframe\">\n",
       "  <thead>\n",
       "    <tr style=\"text-align: right;\">\n",
       "      <th></th>\n",
       "      <th>A</th>\n",
       "      <th>B</th>\n",
       "      <th>C</th>\n",
       "      <th>D</th>\n",
       "      <th>F</th>\n",
       "      <th>E</th>\n",
       "    </tr>\n",
       "  </thead>\n",
       "  <tbody>\n",
       "    <tr>\n",
       "      <th>2013-01-01</th>\n",
       "      <td>0.000000</td>\n",
       "      <td>0.000000</td>\n",
       "      <td>0.526073</td>\n",
       "      <td>5</td>\n",
       "      <td>NaN</td>\n",
       "      <td>1.0</td>\n",
       "    </tr>\n",
       "    <tr>\n",
       "      <th>2013-01-02</th>\n",
       "      <td>-1.083502</td>\n",
       "      <td>1.236036</td>\n",
       "      <td>0.244012</td>\n",
       "      <td>5</td>\n",
       "      <td>1.0</td>\n",
       "      <td>1.0</td>\n",
       "    </tr>\n",
       "    <tr>\n",
       "      <th>2013-01-03</th>\n",
       "      <td>-0.686629</td>\n",
       "      <td>0.279735</td>\n",
       "      <td>0.258969</td>\n",
       "      <td>5</td>\n",
       "      <td>2.0</td>\n",
       "      <td>NaN</td>\n",
       "    </tr>\n",
       "    <tr>\n",
       "      <th>2013-01-04</th>\n",
       "      <td>0.270126</td>\n",
       "      <td>1.097276</td>\n",
       "      <td>0.812661</td>\n",
       "      <td>5</td>\n",
       "      <td>3.0</td>\n",
       "      <td>NaN</td>\n",
       "    </tr>\n",
       "  </tbody>\n",
       "</table>\n",
       "</div>"
      ],
      "text/plain": [
       "                   A         B         C  D    F    E\n",
       "2013-01-01  0.000000  0.000000  0.526073  5  NaN  1.0\n",
       "2013-01-02 -1.083502  1.236036  0.244012  5  1.0  1.0\n",
       "2013-01-03 -0.686629  0.279735  0.258969  5  2.0  NaN\n",
       "2013-01-04  0.270126  1.097276  0.812661  5  3.0  NaN"
      ]
     },
     "execution_count": 100,
     "metadata": {},
     "output_type": "execute_result"
    }
   ],
   "source": [
    "df1 = df.reindex(index=dates[0:4], columns=list(df.columns) + ['E'])\n",
    "df1.loc[dates[0]:dates[1],'E'] = 1\n",
    "\n",
    "df1"
   ]
  },
  {
   "cell_type": "markdown",
   "metadata": {},
   "source": [
    "丢弃所有缺失数据的行得到的新数据："
   ]
  },
  {
   "cell_type": "code",
   "execution_count": 101,
   "metadata": {
    "pycharm": {
     "name": "#%%\n"
    }
   },
   "outputs": [
    {
     "data": {
      "text/html": [
       "<div>\n",
       "<style scoped>\n",
       "    .dataframe tbody tr th:only-of-type {\n",
       "        vertical-align: middle;\n",
       "    }\n",
       "\n",
       "    .dataframe tbody tr th {\n",
       "        vertical-align: top;\n",
       "    }\n",
       "\n",
       "    .dataframe thead th {\n",
       "        text-align: right;\n",
       "    }\n",
       "</style>\n",
       "<table border=\"1\" class=\"dataframe\">\n",
       "  <thead>\n",
       "    <tr style=\"text-align: right;\">\n",
       "      <th></th>\n",
       "      <th>A</th>\n",
       "      <th>B</th>\n",
       "      <th>C</th>\n",
       "      <th>D</th>\n",
       "      <th>F</th>\n",
       "      <th>E</th>\n",
       "    </tr>\n",
       "  </thead>\n",
       "  <tbody>\n",
       "    <tr>\n",
       "      <th>2013-01-02</th>\n",
       "      <td>-1.083502</td>\n",
       "      <td>1.236036</td>\n",
       "      <td>0.244012</td>\n",
       "      <td>5</td>\n",
       "      <td>1.0</td>\n",
       "      <td>1.0</td>\n",
       "    </tr>\n",
       "  </tbody>\n",
       "</table>\n",
       "</div>"
      ],
      "text/plain": [
       "                   A         B         C  D    F    E\n",
       "2013-01-02 -1.083502  1.236036  0.244012  5  1.0  1.0"
      ]
     },
     "execution_count": 101,
     "metadata": {},
     "output_type": "execute_result"
    }
   ],
   "source": [
    "df1.dropna(how='any')"
   ]
  },
  {
   "cell_type": "markdown",
   "metadata": {},
   "source": [
    "填充缺失数据："
   ]
  },
  {
   "cell_type": "code",
   "execution_count": 102,
   "metadata": {
    "pycharm": {
     "name": "#%%\n"
    }
   },
   "outputs": [
    {
     "data": {
      "text/html": [
       "<div>\n",
       "<style scoped>\n",
       "    .dataframe tbody tr th:only-of-type {\n",
       "        vertical-align: middle;\n",
       "    }\n",
       "\n",
       "    .dataframe tbody tr th {\n",
       "        vertical-align: top;\n",
       "    }\n",
       "\n",
       "    .dataframe thead th {\n",
       "        text-align: right;\n",
       "    }\n",
       "</style>\n",
       "<table border=\"1\" class=\"dataframe\">\n",
       "  <thead>\n",
       "    <tr style=\"text-align: right;\">\n",
       "      <th></th>\n",
       "      <th>A</th>\n",
       "      <th>B</th>\n",
       "      <th>C</th>\n",
       "      <th>D</th>\n",
       "      <th>F</th>\n",
       "      <th>E</th>\n",
       "    </tr>\n",
       "  </thead>\n",
       "  <tbody>\n",
       "    <tr>\n",
       "      <th>2013-01-01</th>\n",
       "      <td>0.000000</td>\n",
       "      <td>0.000000</td>\n",
       "      <td>0.526073</td>\n",
       "      <td>5</td>\n",
       "      <td>5.0</td>\n",
       "      <td>1.0</td>\n",
       "    </tr>\n",
       "    <tr>\n",
       "      <th>2013-01-02</th>\n",
       "      <td>-1.083502</td>\n",
       "      <td>1.236036</td>\n",
       "      <td>0.244012</td>\n",
       "      <td>5</td>\n",
       "      <td>1.0</td>\n",
       "      <td>1.0</td>\n",
       "    </tr>\n",
       "    <tr>\n",
       "      <th>2013-01-03</th>\n",
       "      <td>-0.686629</td>\n",
       "      <td>0.279735</td>\n",
       "      <td>0.258969</td>\n",
       "      <td>5</td>\n",
       "      <td>2.0</td>\n",
       "      <td>5.0</td>\n",
       "    </tr>\n",
       "    <tr>\n",
       "      <th>2013-01-04</th>\n",
       "      <td>0.270126</td>\n",
       "      <td>1.097276</td>\n",
       "      <td>0.812661</td>\n",
       "      <td>5</td>\n",
       "      <td>3.0</td>\n",
       "      <td>5.0</td>\n",
       "    </tr>\n",
       "  </tbody>\n",
       "</table>\n",
       "</div>"
      ],
      "text/plain": [
       "                   A         B         C  D    F    E\n",
       "2013-01-01  0.000000  0.000000  0.526073  5  5.0  1.0\n",
       "2013-01-02 -1.083502  1.236036  0.244012  5  1.0  1.0\n",
       "2013-01-03 -0.686629  0.279735  0.258969  5  2.0  5.0\n",
       "2013-01-04  0.270126  1.097276  0.812661  5  3.0  5.0"
      ]
     },
     "execution_count": 102,
     "metadata": {},
     "output_type": "execute_result"
    }
   ],
   "source": [
    "df1.fillna(value=5)"
   ]
  },
  {
   "cell_type": "markdown",
   "metadata": {},
   "source": [
    "检查缺失数据的位置："
   ]
  },
  {
   "cell_type": "code",
   "execution_count": 103,
   "metadata": {
    "pycharm": {
     "name": "#%%\n"
    }
   },
   "outputs": [
    {
     "data": {
      "text/html": [
       "<div>\n",
       "<style scoped>\n",
       "    .dataframe tbody tr th:only-of-type {\n",
       "        vertical-align: middle;\n",
       "    }\n",
       "\n",
       "    .dataframe tbody tr th {\n",
       "        vertical-align: top;\n",
       "    }\n",
       "\n",
       "    .dataframe thead th {\n",
       "        text-align: right;\n",
       "    }\n",
       "</style>\n",
       "<table border=\"1\" class=\"dataframe\">\n",
       "  <thead>\n",
       "    <tr style=\"text-align: right;\">\n",
       "      <th></th>\n",
       "      <th>A</th>\n",
       "      <th>B</th>\n",
       "      <th>C</th>\n",
       "      <th>D</th>\n",
       "      <th>F</th>\n",
       "      <th>E</th>\n",
       "    </tr>\n",
       "  </thead>\n",
       "  <tbody>\n",
       "    <tr>\n",
       "      <th>2013-01-01</th>\n",
       "      <td>False</td>\n",
       "      <td>False</td>\n",
       "      <td>False</td>\n",
       "      <td>False</td>\n",
       "      <td>True</td>\n",
       "      <td>False</td>\n",
       "    </tr>\n",
       "    <tr>\n",
       "      <th>2013-01-02</th>\n",
       "      <td>False</td>\n",
       "      <td>False</td>\n",
       "      <td>False</td>\n",
       "      <td>False</td>\n",
       "      <td>False</td>\n",
       "      <td>False</td>\n",
       "    </tr>\n",
       "    <tr>\n",
       "      <th>2013-01-03</th>\n",
       "      <td>False</td>\n",
       "      <td>False</td>\n",
       "      <td>False</td>\n",
       "      <td>False</td>\n",
       "      <td>False</td>\n",
       "      <td>True</td>\n",
       "    </tr>\n",
       "    <tr>\n",
       "      <th>2013-01-04</th>\n",
       "      <td>False</td>\n",
       "      <td>False</td>\n",
       "      <td>False</td>\n",
       "      <td>False</td>\n",
       "      <td>False</td>\n",
       "      <td>True</td>\n",
       "    </tr>\n",
       "  </tbody>\n",
       "</table>\n",
       "</div>"
      ],
      "text/plain": [
       "                A      B      C      D      F      E\n",
       "2013-01-01  False  False  False  False   True  False\n",
       "2013-01-02  False  False  False  False  False  False\n",
       "2013-01-03  False  False  False  False  False   True\n",
       "2013-01-04  False  False  False  False  False   True"
      ]
     },
     "execution_count": 103,
     "metadata": {},
     "output_type": "execute_result"
    }
   ],
   "source": [
    "pd.isnull(df1)"
   ]
  },
  {
   "cell_type": "markdown",
   "metadata": {},
   "source": [
    "## 计算操作"
   ]
  },
  {
   "cell_type": "markdown",
   "metadata": {},
   "source": [
    "### 统计信息"
   ]
  },
  {
   "cell_type": "markdown",
   "metadata": {},
   "source": [
    "每一列的均值："
   ]
  },
  {
   "cell_type": "code",
   "execution_count": 104,
   "metadata": {
    "pycharm": {
     "name": "#%%\n"
    }
   },
   "outputs": [
    {
     "data": {
      "text/plain": [
       "A   -0.465848\n",
       "B    0.386193\n",
       "C    0.342819\n",
       "D    5.000000\n",
       "F    3.000000\n",
       "dtype: float64"
      ]
     },
     "execution_count": 104,
     "metadata": {},
     "output_type": "execute_result"
    }
   ],
   "source": [
    "df.mean()"
   ]
  },
  {
   "cell_type": "markdown",
   "metadata": {},
   "source": [
    "每一行的均值："
   ]
  },
  {
   "cell_type": "code",
   "execution_count": 105,
   "metadata": {
    "pycharm": {
     "name": "#%%\n"
    }
   },
   "outputs": [
    {
     "data": {
      "text/plain": [
       "2013-01-01    1.381518\n",
       "2013-01-02    1.279309\n",
       "2013-01-03    1.370415\n",
       "2013-01-04    2.036013\n",
       "2013-01-05    1.357833\n",
       "2013-01-06    2.167012\n",
       "Freq: D, dtype: float64"
      ]
     },
     "execution_count": 105,
     "metadata": {},
     "output_type": "execute_result"
    }
   ],
   "source": [
    "df.mean(1)"
   ]
  },
  {
   "cell_type": "markdown",
   "metadata": {},
   "source": [
    "多个对象之间的操作，如果维度不对，`pandas` 会自动调用 `broadcasting` 机制："
   ]
  },
  {
   "cell_type": "code",
   "execution_count": 106,
   "metadata": {
    "pycharm": {
     "name": "#%%\n"
    }
   },
   "outputs": [
    {
     "name": "stdout",
     "output_type": "stream",
     "text": [
      "2013-01-01    NaN\n",
      "2013-01-02    NaN\n",
      "2013-01-03    1.0\n",
      "2013-01-04    3.0\n",
      "2013-01-05    5.0\n",
      "2013-01-06    NaN\n",
      "Freq: D, dtype: float64\n"
     ]
    }
   ],
   "source": [
    "s = pd.Series([1,3,5,np.nan,6,8], index=dates).shift(2)\n",
    "\n",
    "print(s)"
   ]
  },
  {
   "cell_type": "markdown",
   "metadata": {},
   "source": [
    "相减 `df - s`："
   ]
  },
  {
   "cell_type": "code",
   "execution_count": 107,
   "metadata": {
    "pycharm": {
     "name": "#%%\n"
    }
   },
   "outputs": [
    {
     "data": {
      "text/html": [
       "<div>\n",
       "<style scoped>\n",
       "    .dataframe tbody tr th:only-of-type {\n",
       "        vertical-align: middle;\n",
       "    }\n",
       "\n",
       "    .dataframe tbody tr th {\n",
       "        vertical-align: top;\n",
       "    }\n",
       "\n",
       "    .dataframe thead th {\n",
       "        text-align: right;\n",
       "    }\n",
       "</style>\n",
       "<table border=\"1\" class=\"dataframe\">\n",
       "  <thead>\n",
       "    <tr style=\"text-align: right;\">\n",
       "      <th></th>\n",
       "      <th>A</th>\n",
       "      <th>B</th>\n",
       "      <th>C</th>\n",
       "      <th>D</th>\n",
       "      <th>F</th>\n",
       "    </tr>\n",
       "  </thead>\n",
       "  <tbody>\n",
       "    <tr>\n",
       "      <th>2013-01-01</th>\n",
       "      <td>NaN</td>\n",
       "      <td>NaN</td>\n",
       "      <td>NaN</td>\n",
       "      <td>NaN</td>\n",
       "      <td>NaN</td>\n",
       "    </tr>\n",
       "    <tr>\n",
       "      <th>2013-01-02</th>\n",
       "      <td>NaN</td>\n",
       "      <td>NaN</td>\n",
       "      <td>NaN</td>\n",
       "      <td>NaN</td>\n",
       "      <td>NaN</td>\n",
       "    </tr>\n",
       "    <tr>\n",
       "      <th>2013-01-03</th>\n",
       "      <td>-1.686629</td>\n",
       "      <td>-0.720265</td>\n",
       "      <td>-0.741031</td>\n",
       "      <td>4.0</td>\n",
       "      <td>1.0</td>\n",
       "    </tr>\n",
       "    <tr>\n",
       "      <th>2013-01-04</th>\n",
       "      <td>-2.729874</td>\n",
       "      <td>-1.902724</td>\n",
       "      <td>-2.187339</td>\n",
       "      <td>2.0</td>\n",
       "      <td>0.0</td>\n",
       "    </tr>\n",
       "    <tr>\n",
       "      <th>2013-01-05</th>\n",
       "      <td>-6.438070</td>\n",
       "      <td>-4.800612</td>\n",
       "      <td>-5.972152</td>\n",
       "      <td>0.0</td>\n",
       "      <td>-1.0</td>\n",
       "    </tr>\n",
       "    <tr>\n",
       "      <th>2013-01-06</th>\n",
       "      <td>NaN</td>\n",
       "      <td>NaN</td>\n",
       "      <td>NaN</td>\n",
       "      <td>NaN</td>\n",
       "      <td>NaN</td>\n",
       "    </tr>\n",
       "  </tbody>\n",
       "</table>\n",
       "</div>"
      ],
      "text/plain": [
       "                   A         B         C    D    F\n",
       "2013-01-01       NaN       NaN       NaN  NaN  NaN\n",
       "2013-01-02       NaN       NaN       NaN  NaN  NaN\n",
       "2013-01-03 -1.686629 -0.720265 -0.741031  4.0  1.0\n",
       "2013-01-04 -2.729874 -1.902724 -2.187339  2.0  0.0\n",
       "2013-01-05 -6.438070 -4.800612 -5.972152  0.0 -1.0\n",
       "2013-01-06       NaN       NaN       NaN  NaN  NaN"
      ]
     },
     "execution_count": 107,
     "metadata": {},
     "output_type": "execute_result"
    }
   ],
   "source": [
    "df.sub(s, axis='index')"
   ]
  },
  {
   "cell_type": "markdown",
   "metadata": {},
   "source": [
    "### apply 操作"
   ]
  },
  {
   "cell_type": "markdown",
   "metadata": {},
   "source": [
    "与 `R` 中的 `apply` 操作类似，接收一个函数，默认是对将函数作用到每一列上："
   ]
  },
  {
   "cell_type": "code",
   "execution_count": 108,
   "metadata": {
    "pycharm": {
     "name": "#%%\n"
    }
   },
   "outputs": [
    {
     "data": {
      "text/html": [
       "<div>\n",
       "<style scoped>\n",
       "    .dataframe tbody tr th:only-of-type {\n",
       "        vertical-align: middle;\n",
       "    }\n",
       "\n",
       "    .dataframe tbody tr th {\n",
       "        vertical-align: top;\n",
       "    }\n",
       "\n",
       "    .dataframe thead th {\n",
       "        text-align: right;\n",
       "    }\n",
       "</style>\n",
       "<table border=\"1\" class=\"dataframe\">\n",
       "  <thead>\n",
       "    <tr style=\"text-align: right;\">\n",
       "      <th></th>\n",
       "      <th>A</th>\n",
       "      <th>B</th>\n",
       "      <th>C</th>\n",
       "      <th>D</th>\n",
       "      <th>F</th>\n",
       "    </tr>\n",
       "  </thead>\n",
       "  <tbody>\n",
       "    <tr>\n",
       "      <th>2013-01-01</th>\n",
       "      <td>0.000000</td>\n",
       "      <td>0.000000</td>\n",
       "      <td>0.526073</td>\n",
       "      <td>5</td>\n",
       "      <td>NaN</td>\n",
       "    </tr>\n",
       "    <tr>\n",
       "      <th>2013-01-02</th>\n",
       "      <td>-1.083502</td>\n",
       "      <td>1.236036</td>\n",
       "      <td>0.770085</td>\n",
       "      <td>10</td>\n",
       "      <td>1.0</td>\n",
       "    </tr>\n",
       "    <tr>\n",
       "      <th>2013-01-03</th>\n",
       "      <td>-1.770131</td>\n",
       "      <td>1.515771</td>\n",
       "      <td>1.029054</td>\n",
       "      <td>15</td>\n",
       "      <td>3.0</td>\n",
       "    </tr>\n",
       "    <tr>\n",
       "      <th>2013-01-04</th>\n",
       "      <td>-1.500005</td>\n",
       "      <td>2.613047</td>\n",
       "      <td>1.841715</td>\n",
       "      <td>20</td>\n",
       "      <td>6.0</td>\n",
       "    </tr>\n",
       "    <tr>\n",
       "      <th>2013-01-05</th>\n",
       "      <td>-2.938074</td>\n",
       "      <td>2.812436</td>\n",
       "      <td>0.869563</td>\n",
       "      <td>25</td>\n",
       "      <td>10.0</td>\n",
       "    </tr>\n",
       "    <tr>\n",
       "      <th>2013-01-06</th>\n",
       "      <td>-2.795086</td>\n",
       "      <td>2.317157</td>\n",
       "      <td>2.056911</td>\n",
       "      <td>30</td>\n",
       "      <td>15.0</td>\n",
       "    </tr>\n",
       "  </tbody>\n",
       "</table>\n",
       "</div>"
      ],
      "text/plain": [
       "                   A         B         C   D     F\n",
       "2013-01-01  0.000000  0.000000  0.526073   5   NaN\n",
       "2013-01-02 -1.083502  1.236036  0.770085  10   1.0\n",
       "2013-01-03 -1.770131  1.515771  1.029054  15   3.0\n",
       "2013-01-04 -1.500005  2.613047  1.841715  20   6.0\n",
       "2013-01-05 -2.938074  2.812436  0.869563  25  10.0\n",
       "2013-01-06 -2.795086  2.317157  2.056911  30  15.0"
      ]
     },
     "execution_count": 108,
     "metadata": {},
     "output_type": "execute_result"
    }
   ],
   "source": [
    "df.apply(np.cumsum)"
   ]
  },
  {
   "cell_type": "markdown",
   "metadata": {},
   "source": [
    "求每列最大最小值之差："
   ]
  },
  {
   "cell_type": "code",
   "execution_count": 109,
   "metadata": {
    "pycharm": {
     "name": "#%%\n"
    }
   },
   "outputs": [
    {
     "data": {
      "text/plain": [
       "A    1.708196\n",
       "B    1.731315\n",
       "C    2.159501\n",
       "D    0.000000\n",
       "F    4.000000\n",
       "dtype: float64"
      ]
     },
     "execution_count": 109,
     "metadata": {},
     "output_type": "execute_result"
    }
   ],
   "source": [
    "df.apply(lambda x: x.max() - x.min())"
   ]
  },
  {
   "cell_type": "markdown",
   "metadata": {},
   "source": [
    "### 直方图"
   ]
  },
  {
   "cell_type": "code",
   "execution_count": 110,
   "metadata": {
    "pycharm": {
     "name": "#%%\n"
    }
   },
   "outputs": [
    {
     "name": "stdout",
     "output_type": "stream",
     "text": [
      "0    4\n",
      "1    6\n",
      "2    2\n",
      "3    2\n",
      "4    4\n",
      "5    3\n",
      "6    0\n",
      "7    0\n",
      "8    3\n",
      "9    1\n",
      "dtype: int32\n"
     ]
    }
   ],
   "source": [
    "s = pd.Series(np.random.randint(0, 7, size=10))\n",
    "print(s)"
   ]
  },
  {
   "cell_type": "markdown",
   "metadata": {},
   "source": [
    "直方图信息："
   ]
  },
  {
   "cell_type": "code",
   "execution_count": 111,
   "metadata": {
    "pycharm": {
     "name": "#%%\n"
    }
   },
   "outputs": [
    {
     "name": "stdout",
     "output_type": "stream",
     "text": [
      "4    2\n",
      "3    2\n",
      "2    2\n",
      "0    2\n",
      "6    1\n",
      "1    1\n",
      "dtype: int64\n"
     ]
    }
   ],
   "source": [
    "print(s.value_counts())"
   ]
  },
  {
   "cell_type": "markdown",
   "metadata": {},
   "source": [
    "绘制直方图信息："
   ]
  },
  {
   "cell_type": "code",
   "execution_count": 114,
   "metadata": {
    "pycharm": {
     "name": "#%%\n"
    }
   },
   "outputs": [
    {
     "data": {
      "image/png": "[encoded data removed]",
      "text/plain": [
       "<Figure size 432x288 with 1 Axes>"
      ]
     },
     "metadata": {
      "needs_background": "light"
     },
     "output_type": "display_data"
    }
   ],
   "source": [
    "h = s.hist()"
   ]
  },
  {
   "cell_type": "markdown",
   "metadata": {},
   "source": [
    "### 字符串方法"
   ]
  },
  {
   "cell_type": "markdown",
   "metadata": {},
   "source": [
    "当 `Series` 或者 `DataFrame` 的某一列是字符串时，我们可以用 `.str` 对这个字符串数组进行字符串的基本操作： "
   ]
  },
  {
   "cell_type": "code",
   "execution_count": 115,
   "metadata": {
    "pycharm": {
     "name": "#%%\n"
    }
   },
   "outputs": [
    {
     "name": "stdout",
     "output_type": "stream",
     "text": [
      "0       a\n",
      "1       b\n",
      "2       c\n",
      "3    aaba\n",
      "4    baca\n",
      "5     NaN\n",
      "6    caba\n",
      "7     dog\n",
      "8     cat\n",
      "dtype: object\n"
     ]
    }
   ],
   "source": [
    "s = pd.Series(['A', 'B', 'C', 'Aaba', 'Baca', np.nan, 'CABA', 'dog', 'cat'])\n",
    "\n",
    "print(s.str.lower())"
   ]
  },
  {
   "cell_type": "markdown",
   "metadata": {},
   "source": [
    "## 合并"
   ]
  },
  {
   "cell_type": "markdown",
   "metadata": {},
   "source": [
    "### 连接"
   ]
  },
  {
   "cell_type": "code",
   "execution_count": 116,
   "metadata": {
    "pycharm": {
     "name": "#%%\n"
    }
   },
   "outputs": [
    {
     "data": {
      "text/html": [
       "<div>\n",
       "<style scoped>\n",
       "    .dataframe tbody tr th:only-of-type {\n",
       "        vertical-align: middle;\n",
       "    }\n",
       "\n",
       "    .dataframe tbody tr th {\n",
       "        vertical-align: top;\n",
       "    }\n",
       "\n",
       "    .dataframe thead th {\n",
       "        text-align: right;\n",
       "    }\n",
       "</style>\n",
       "<table border=\"1\" class=\"dataframe\">\n",
       "  <thead>\n",
       "    <tr style=\"text-align: right;\">\n",
       "      <th></th>\n",
       "      <th>0</th>\n",
       "      <th>1</th>\n",
       "      <th>2</th>\n",
       "      <th>3</th>\n",
       "    </tr>\n",
       "  </thead>\n",
       "  <tbody>\n",
       "    <tr>\n",
       "      <th>0</th>\n",
       "      <td>1.389512</td>\n",
       "      <td>1.654250</td>\n",
       "      <td>-1.045115</td>\n",
       "      <td>1.307092</td>\n",
       "    </tr>\n",
       "    <tr>\n",
       "      <th>1</th>\n",
       "      <td>-1.257233</td>\n",
       "      <td>0.119677</td>\n",
       "      <td>-1.593614</td>\n",
       "      <td>0.247077</td>\n",
       "    </tr>\n",
       "    <tr>\n",
       "      <th>2</th>\n",
       "      <td>-0.150465</td>\n",
       "      <td>1.760264</td>\n",
       "      <td>-0.011067</td>\n",
       "      <td>-0.838017</td>\n",
       "    </tr>\n",
       "    <tr>\n",
       "      <th>3</th>\n",
       "      <td>-1.360947</td>\n",
       "      <td>0.849280</td>\n",
       "      <td>-1.138585</td>\n",
       "      <td>0.348607</td>\n",
       "    </tr>\n",
       "    <tr>\n",
       "      <th>4</th>\n",
       "      <td>-1.281877</td>\n",
       "      <td>1.012187</td>\n",
       "      <td>-0.873744</td>\n",
       "      <td>-1.664281</td>\n",
       "    </tr>\n",
       "    <tr>\n",
       "      <th>5</th>\n",
       "      <td>0.355814</td>\n",
       "      <td>0.773204</td>\n",
       "      <td>-1.316621</td>\n",
       "      <td>-0.222620</td>\n",
       "    </tr>\n",
       "    <tr>\n",
       "      <th>6</th>\n",
       "      <td>0.009654</td>\n",
       "      <td>0.617403</td>\n",
       "      <td>0.714654</td>\n",
       "      <td>-0.816418</td>\n",
       "    </tr>\n",
       "    <tr>\n",
       "      <th>7</th>\n",
       "      <td>-0.000414</td>\n",
       "      <td>0.700567</td>\n",
       "      <td>-0.071003</td>\n",
       "      <td>0.118879</td>\n",
       "    </tr>\n",
       "    <tr>\n",
       "      <th>8</th>\n",
       "      <td>0.326674</td>\n",
       "      <td>1.045098</td>\n",
       "      <td>-1.677747</td>\n",
       "      <td>-0.948250</td>\n",
       "    </tr>\n",
       "    <tr>\n",
       "      <th>9</th>\n",
       "      <td>-0.133706</td>\n",
       "      <td>0.557059</td>\n",
       "      <td>0.537434</td>\n",
       "      <td>0.329009</td>\n",
       "    </tr>\n",
       "  </tbody>\n",
       "</table>\n",
       "</div>"
      ],
      "text/plain": [
       "          0         1         2         3\n",
       "0  1.389512  1.654250 -1.045115  1.307092\n",
       "1 -1.257233  0.119677 -1.593614  0.247077\n",
       "2 -0.150465  1.760264 -0.011067 -0.838017\n",
       "3 -1.360947  0.849280 -1.138585  0.348607\n",
       "4 -1.281877  1.012187 -0.873744 -1.664281\n",
       "5  0.355814  0.773204 -1.316621 -0.222620\n",
       "6  0.009654  0.617403  0.714654 -0.816418\n",
       "7 -0.000414  0.700567 -0.071003  0.118879\n",
       "8  0.326674  1.045098 -1.677747 -0.948250\n",
       "9 -0.133706  0.557059  0.537434  0.329009"
      ]
     },
     "execution_count": 116,
     "metadata": {},
     "output_type": "execute_result"
    }
   ],
   "source": [
    "df = pd.DataFrame(np.random.randn(10, 4))\n",
    "\n",
    "df"
   ]
  },
  {
   "cell_type": "markdown",
   "metadata": {},
   "source": [
    "可以使用 `pd.concat` 函数将多个 `pandas` 对象进行连接："
   ]
  },
  {
   "cell_type": "code",
   "execution_count": 117,
   "metadata": {
    "pycharm": {
     "name": "#%%\n"
    }
   },
   "outputs": [
    {
     "data": {
      "text/html": [
       "<div>\n",
       "<style scoped>\n",
       "    .dataframe tbody tr th:only-of-type {\n",
       "        vertical-align: middle;\n",
       "    }\n",
       "\n",
       "    .dataframe tbody tr th {\n",
       "        vertical-align: top;\n",
       "    }\n",
       "\n",
       "    .dataframe thead th {\n",
       "        text-align: right;\n",
       "    }\n",
       "</style>\n",
       "<table border=\"1\" class=\"dataframe\">\n",
       "  <thead>\n",
       "    <tr style=\"text-align: right;\">\n",
       "      <th></th>\n",
       "      <th>0</th>\n",
       "      <th>1</th>\n",
       "      <th>2</th>\n",
       "      <th>3</th>\n",
       "    </tr>\n",
       "  </thead>\n",
       "  <tbody>\n",
       "    <tr>\n",
       "      <th>0</th>\n",
       "      <td>1.389512</td>\n",
       "      <td>1.654250</td>\n",
       "      <td>-1.045115</td>\n",
       "      <td>1.307092</td>\n",
       "    </tr>\n",
       "    <tr>\n",
       "      <th>1</th>\n",
       "      <td>-1.257233</td>\n",
       "      <td>0.119677</td>\n",
       "      <td>-1.593614</td>\n",
       "      <td>0.247077</td>\n",
       "    </tr>\n",
       "    <tr>\n",
       "      <th>4</th>\n",
       "      <td>-1.281877</td>\n",
       "      <td>1.012187</td>\n",
       "      <td>-0.873744</td>\n",
       "      <td>-1.664281</td>\n",
       "    </tr>\n",
       "    <tr>\n",
       "      <th>7</th>\n",
       "      <td>-0.000414</td>\n",
       "      <td>0.700567</td>\n",
       "      <td>-0.071003</td>\n",
       "      <td>0.118879</td>\n",
       "    </tr>\n",
       "    <tr>\n",
       "      <th>8</th>\n",
       "      <td>0.326674</td>\n",
       "      <td>1.045098</td>\n",
       "      <td>-1.677747</td>\n",
       "      <td>-0.948250</td>\n",
       "    </tr>\n",
       "    <tr>\n",
       "      <th>9</th>\n",
       "      <td>-0.133706</td>\n",
       "      <td>0.557059</td>\n",
       "      <td>0.537434</td>\n",
       "      <td>0.329009</td>\n",
       "    </tr>\n",
       "  </tbody>\n",
       "</table>\n",
       "</div>"
      ],
      "text/plain": [
       "          0         1         2         3\n",
       "0  1.389512  1.654250 -1.045115  1.307092\n",
       "1 -1.257233  0.119677 -1.593614  0.247077\n",
       "4 -1.281877  1.012187 -0.873744 -1.664281\n",
       "7 -0.000414  0.700567 -0.071003  0.118879\n",
       "8  0.326674  1.045098 -1.677747 -0.948250\n",
       "9 -0.133706  0.557059  0.537434  0.329009"
      ]
     },
     "execution_count": 117,
     "metadata": {},
     "output_type": "execute_result"
    }
   ],
   "source": [
    "pieces = [df[:2], df[4:5], df[7:]]\n",
    "\n",
    "pd.concat(pieces)"
   ]
  },
  {
   "cell_type": "markdown",
   "metadata": {},
   "source": [
    "### 数据库中的 Join"
   ]
  },
  {
   "cell_type": "markdown",
   "metadata": {},
   "source": [
    "`merge` 可以实现数据库中的 `join` 操作："
   ]
  },
  {
   "cell_type": "code",
   "execution_count": 122,
   "metadata": {
    "pycharm": {
     "name": "#%%\n"
    }
   },
   "outputs": [
    {
     "name": "stdout",
     "output_type": "stream",
     "text": [
      "   key  lval\n",
      "0  foo     1\n",
      "1  foo     2\n",
      "   key  rval\n",
      "0  foo     4\n",
      "1  foo     5\n"
     ]
    }
   ],
   "source": [
    "left = pd.DataFrame({'key': ['foo', 'foo'], 'lval': [1, 2]})\n",
    "right = pd.DataFrame({'key': ['foo', 'foo'], 'rval': [4, 5]})\n",
    "\n",
    "print(left)\n",
    "print(right)"
   ]
  },
  {
   "cell_type": "code",
   "execution_count": 123,
   "metadata": {
    "pycharm": {
     "name": "#%%\n"
    }
   },
   "outputs": [
    {
     "data": {
      "text/html": [
       "<div>\n",
       "<style scoped>\n",
       "    .dataframe tbody tr th:only-of-type {\n",
       "        vertical-align: middle;\n",
       "    }\n",
       "\n",
       "    .dataframe tbody tr th {\n",
       "        vertical-align: top;\n",
       "    }\n",
       "\n",
       "    .dataframe thead th {\n",
       "        text-align: right;\n",
       "    }\n",
       "</style>\n",
       "<table border=\"1\" class=\"dataframe\">\n",
       "  <thead>\n",
       "    <tr style=\"text-align: right;\">\n",
       "      <th></th>\n",
       "      <th>key</th>\n",
       "      <th>lval</th>\n",
       "      <th>rval</th>\n",
       "    </tr>\n",
       "  </thead>\n",
       "  <tbody>\n",
       "    <tr>\n",
       "      <th>0</th>\n",
       "      <td>foo</td>\n",
       "      <td>1</td>\n",
       "      <td>4</td>\n",
       "    </tr>\n",
       "    <tr>\n",
       "      <th>1</th>\n",
       "      <td>foo</td>\n",
       "      <td>1</td>\n",
       "      <td>5</td>\n",
       "    </tr>\n",
       "    <tr>\n",
       "      <th>2</th>\n",
       "      <td>foo</td>\n",
       "      <td>2</td>\n",
       "      <td>4</td>\n",
       "    </tr>\n",
       "    <tr>\n",
       "      <th>3</th>\n",
       "      <td>foo</td>\n",
       "      <td>2</td>\n",
       "      <td>5</td>\n",
       "    </tr>\n",
       "  </tbody>\n",
       "</table>\n",
       "</div>"
      ],
      "text/plain": [
       "   key  lval  rval\n",
       "0  foo     1     4\n",
       "1  foo     1     5\n",
       "2  foo     2     4\n",
       "3  foo     2     5"
      ]
     },
     "execution_count": 123,
     "metadata": {},
     "output_type": "execute_result"
    }
   ],
   "source": [
    "pd.merge(left, right, on='key')"
   ]
  },
  {
   "cell_type": "markdown",
   "metadata": {},
   "source": [
    "### append"
   ]
  },
  {
   "cell_type": "markdown",
   "metadata": {},
   "source": [
    "向 `DataFrame` 中添加行："
   ]
  },
  {
   "cell_type": "code",
   "execution_count": 124,
   "metadata": {
    "pycharm": {
     "name": "#%%\n"
    }
   },
   "outputs": [
    {
     "data": {
      "text/html": [
       "<div>\n",
       "<style scoped>\n",
       "    .dataframe tbody tr th:only-of-type {\n",
       "        vertical-align: middle;\n",
       "    }\n",
       "\n",
       "    .dataframe tbody tr th {\n",
       "        vertical-align: top;\n",
       "    }\n",
       "\n",
       "    .dataframe thead th {\n",
       "        text-align: right;\n",
       "    }\n",
       "</style>\n",
       "<table border=\"1\" class=\"dataframe\">\n",
       "  <thead>\n",
       "    <tr style=\"text-align: right;\">\n",
       "      <th></th>\n",
       "      <th>A</th>\n",
       "      <th>B</th>\n",
       "      <th>C</th>\n",
       "      <th>D</th>\n",
       "    </tr>\n",
       "  </thead>\n",
       "  <tbody>\n",
       "    <tr>\n",
       "      <th>0</th>\n",
       "      <td>0.937837</td>\n",
       "      <td>-1.614231</td>\n",
       "      <td>0.161506</td>\n",
       "      <td>1.388221</td>\n",
       "    </tr>\n",
       "    <tr>\n",
       "      <th>1</th>\n",
       "      <td>0.163856</td>\n",
       "      <td>-0.666541</td>\n",
       "      <td>-0.079230</td>\n",
       "      <td>2.207244</td>\n",
       "    </tr>\n",
       "    <tr>\n",
       "      <th>2</th>\n",
       "      <td>0.736106</td>\n",
       "      <td>0.412114</td>\n",
       "      <td>-0.223511</td>\n",
       "      <td>0.195125</td>\n",
       "    </tr>\n",
       "    <tr>\n",
       "      <th>3</th>\n",
       "      <td>1.680288</td>\n",
       "      <td>0.679103</td>\n",
       "      <td>1.912433</td>\n",
       "      <td>0.057921</td>\n",
       "    </tr>\n",
       "    <tr>\n",
       "      <th>4</th>\n",
       "      <td>0.199616</td>\n",
       "      <td>-0.040232</td>\n",
       "      <td>-1.308178</td>\n",
       "      <td>0.359331</td>\n",
       "    </tr>\n",
       "    <tr>\n",
       "      <th>5</th>\n",
       "      <td>-0.998282</td>\n",
       "      <td>0.181225</td>\n",
       "      <td>0.588982</td>\n",
       "      <td>-0.558540</td>\n",
       "    </tr>\n",
       "    <tr>\n",
       "      <th>6</th>\n",
       "      <td>0.567463</td>\n",
       "      <td>1.147116</td>\n",
       "      <td>0.444354</td>\n",
       "      <td>1.795370</td>\n",
       "    </tr>\n",
       "    <tr>\n",
       "      <th>7</th>\n",
       "      <td>-0.823486</td>\n",
       "      <td>0.608082</td>\n",
       "      <td>1.386478</td>\n",
       "      <td>0.502626</td>\n",
       "    </tr>\n",
       "  </tbody>\n",
       "</table>\n",
       "</div>"
      ],
      "text/plain": [
       "          A         B         C         D\n",
       "0  0.937837 -1.614231  0.161506  1.388221\n",
       "1  0.163856 -0.666541 -0.079230  2.207244\n",
       "2  0.736106  0.412114 -0.223511  0.195125\n",
       "3  1.680288  0.679103  1.912433  0.057921\n",
       "4  0.199616 -0.040232 -1.308178  0.359331\n",
       "5 -0.998282  0.181225  0.588982 -0.558540\n",
       "6  0.567463  1.147116  0.444354  1.795370\n",
       "7 -0.823486  0.608082  1.386478  0.502626"
      ]
     },
     "execution_count": 124,
     "metadata": {},
     "output_type": "execute_result"
    }
   ],
   "source": [
    "df = pd.DataFrame(np.random.randn(8, 4), columns=['A','B','C','D'])\n",
    "\n",
    "df"
   ]
  },
  {
   "cell_type": "markdown",
   "metadata": {},
   "source": [
    "将第三行的值添加到最后："
   ]
  },
  {
   "cell_type": "code",
   "execution_count": 125,
   "metadata": {
    "pycharm": {
     "name": "#%%\n"
    }
   },
   "outputs": [
    {
     "data": {
      "text/html": [
       "<div>\n",
       "<style scoped>\n",
       "    .dataframe tbody tr th:only-of-type {\n",
       "        vertical-align: middle;\n",
       "    }\n",
       "\n",
       "    .dataframe tbody tr th {\n",
       "        vertical-align: top;\n",
       "    }\n",
       "\n",
       "    .dataframe thead th {\n",
       "        text-align: right;\n",
       "    }\n",
       "</style>\n",
       "<table border=\"1\" class=\"dataframe\">\n",
       "  <thead>\n",
       "    <tr style=\"text-align: right;\">\n",
       "      <th></th>\n",
       "      <th>A</th>\n",
       "      <th>B</th>\n",
       "      <th>C</th>\n",
       "      <th>D</th>\n",
       "    </tr>\n",
       "  </thead>\n",
       "  <tbody>\n",
       "    <tr>\n",
       "      <th>0</th>\n",
       "      <td>0.937837</td>\n",
       "      <td>-1.614231</td>\n",
       "      <td>0.161506</td>\n",
       "      <td>1.388221</td>\n",
       "    </tr>\n",
       "    <tr>\n",
       "      <th>1</th>\n",
       "      <td>0.163856</td>\n",
       "      <td>-0.666541</td>\n",
       "      <td>-0.079230</td>\n",
       "      <td>2.207244</td>\n",
       "    </tr>\n",
       "    <tr>\n",
       "      <th>2</th>\n",
       "      <td>0.736106</td>\n",
       "      <td>0.412114</td>\n",
       "      <td>-0.223511</td>\n",
       "      <td>0.195125</td>\n",
       "    </tr>\n",
       "    <tr>\n",
       "      <th>3</th>\n",
       "      <td>1.680288</td>\n",
       "      <td>0.679103</td>\n",
       "      <td>1.912433</td>\n",
       "      <td>0.057921</td>\n",
       "    </tr>\n",
       "    <tr>\n",
       "      <th>4</th>\n",
       "      <td>0.199616</td>\n",
       "      <td>-0.040232</td>\n",
       "      <td>-1.308178</td>\n",
       "      <td>0.359331</td>\n",
       "    </tr>\n",
       "    <tr>\n",
       "      <th>5</th>\n",
       "      <td>-0.998282</td>\n",
       "      <td>0.181225</td>\n",
       "      <td>0.588982</td>\n",
       "      <td>-0.558540</td>\n",
       "    </tr>\n",
       "    <tr>\n",
       "      <th>6</th>\n",
       "      <td>0.567463</td>\n",
       "      <td>1.147116</td>\n",
       "      <td>0.444354</td>\n",
       "      <td>1.795370</td>\n",
       "    </tr>\n",
       "    <tr>\n",
       "      <th>7</th>\n",
       "      <td>-0.823486</td>\n",
       "      <td>0.608082</td>\n",
       "      <td>1.386478</td>\n",
       "      <td>0.502626</td>\n",
       "    </tr>\n",
       "    <tr>\n",
       "      <th>8</th>\n",
       "      <td>1.680288</td>\n",
       "      <td>0.679103</td>\n",
       "      <td>1.912433</td>\n",
       "      <td>0.057921</td>\n",
       "    </tr>\n",
       "  </tbody>\n",
       "</table>\n",
       "</div>"
      ],
      "text/plain": [
       "          A         B         C         D\n",
       "0  0.937837 -1.614231  0.161506  1.388221\n",
       "1  0.163856 -0.666541 -0.079230  2.207244\n",
       "2  0.736106  0.412114 -0.223511  0.195125\n",
       "3  1.680288  0.679103  1.912433  0.057921\n",
       "4  0.199616 -0.040232 -1.308178  0.359331\n",
       "5 -0.998282  0.181225  0.588982 -0.558540\n",
       "6  0.567463  1.147116  0.444354  1.795370\n",
       "7 -0.823486  0.608082  1.386478  0.502626\n",
       "8  1.680288  0.679103  1.912433  0.057921"
      ]
     },
     "execution_count": 125,
     "metadata": {},
     "output_type": "execute_result"
    }
   ],
   "source": [
    "s = df.iloc[3]\n",
    "\n",
    "df.append(s, ignore_index=True)"
   ]
  },
  {
   "cell_type": "markdown",
   "metadata": {},
   "source": [
    "### Grouping"
   ]
  },
  {
   "cell_type": "code",
   "execution_count": 128,
   "metadata": {
    "pycharm": {
     "name": "#%%\n"
    }
   },
   "outputs": [
    {
     "data": {
      "text/html": [
       "<div>\n",
       "<style scoped>\n",
       "    .dataframe tbody tr th:only-of-type {\n",
       "        vertical-align: middle;\n",
       "    }\n",
       "\n",
       "    .dataframe tbody tr th {\n",
       "        vertical-align: top;\n",
       "    }\n",
       "\n",
       "    .dataframe thead th {\n",
       "        text-align: right;\n",
       "    }\n",
       "</style>\n",
       "<table border=\"1\" class=\"dataframe\">\n",
       "  <thead>\n",
       "    <tr style=\"text-align: right;\">\n",
       "      <th></th>\n",
       "      <th>A</th>\n",
       "      <th>B</th>\n",
       "      <th>C</th>\n",
       "      <th>D</th>\n",
       "    </tr>\n",
       "  </thead>\n",
       "  <tbody>\n",
       "    <tr>\n",
       "      <th>0</th>\n",
       "      <td>foo</td>\n",
       "      <td>one</td>\n",
       "      <td>-0.958940</td>\n",
       "      <td>-0.005494</td>\n",
       "    </tr>\n",
       "    <tr>\n",
       "      <th>1</th>\n",
       "      <td>bar</td>\n",
       "      <td>one</td>\n",
       "      <td>-0.608926</td>\n",
       "      <td>-0.021452</td>\n",
       "    </tr>\n",
       "    <tr>\n",
       "      <th>2</th>\n",
       "      <td>foo</td>\n",
       "      <td>two</td>\n",
       "      <td>1.679024</td>\n",
       "      <td>-0.482465</td>\n",
       "    </tr>\n",
       "    <tr>\n",
       "      <th>3</th>\n",
       "      <td>bar</td>\n",
       "      <td>three</td>\n",
       "      <td>-0.056294</td>\n",
       "      <td>-0.362286</td>\n",
       "    </tr>\n",
       "    <tr>\n",
       "      <th>4</th>\n",
       "      <td>foo</td>\n",
       "      <td>two</td>\n",
       "      <td>1.555639</td>\n",
       "      <td>0.380361</td>\n",
       "    </tr>\n",
       "    <tr>\n",
       "      <th>5</th>\n",
       "      <td>bar</td>\n",
       "      <td>two</td>\n",
       "      <td>1.879979</td>\n",
       "      <td>-0.227308</td>\n",
       "    </tr>\n",
       "    <tr>\n",
       "      <th>6</th>\n",
       "      <td>foo</td>\n",
       "      <td>one</td>\n",
       "      <td>-1.761195</td>\n",
       "      <td>-0.531552</td>\n",
       "    </tr>\n",
       "    <tr>\n",
       "      <th>7</th>\n",
       "      <td>foo</td>\n",
       "      <td>three</td>\n",
       "      <td>2.249583</td>\n",
       "      <td>2.560065</td>\n",
       "    </tr>\n",
       "  </tbody>\n",
       "</table>\n",
       "</div>"
      ],
      "text/plain": [
       "     A      B         C         D\n",
       "0  foo    one -0.958940 -0.005494\n",
       "1  bar    one -0.608926 -0.021452\n",
       "2  foo    two  1.679024 -0.482465\n",
       "3  bar  three -0.056294 -0.362286\n",
       "4  foo    two  1.555639  0.380361\n",
       "5  bar    two  1.879979 -0.227308\n",
       "6  foo    one -1.761195 -0.531552\n",
       "7  foo  three  2.249583  2.560065"
      ]
     },
     "execution_count": 128,
     "metadata": {},
     "output_type": "execute_result"
    }
   ],
   "source": [
    "df = pd.DataFrame({'A' : ['foo', 'bar', 'foo', 'bar',\n",
    "                          'foo', 'bar', 'foo', 'foo'],\n",
    "                   'B' : ['one', 'one', 'two', 'three',\n",
    "                          'two', 'two', 'one', 'three'],\n",
    "                   'C' : np.random.randn(8),\n",
    "                   'D' : np.random.randn(8)})\n",
    "\n",
    "df"
   ]
  },
  {
   "cell_type": "markdown",
   "metadata": {},
   "source": [
    "按照 `A` 的值进行分类："
   ]
  },
  {
   "cell_type": "code",
   "execution_count": 129,
   "metadata": {
    "pycharm": {
     "name": "#%%\n"
    }
   },
   "outputs": [
    {
     "data": {
      "text/html": [
       "<div>\n",
       "<style scoped>\n",
       "    .dataframe tbody tr th:only-of-type {\n",
       "        vertical-align: middle;\n",
       "    }\n",
       "\n",
       "    .dataframe tbody tr th {\n",
       "        vertical-align: top;\n",
       "    }\n",
       "\n",
       "    .dataframe thead th {\n",
       "        text-align: right;\n",
       "    }\n",
       "</style>\n",
       "<table border=\"1\" class=\"dataframe\">\n",
       "  <thead>\n",
       "    <tr style=\"text-align: right;\">\n",
       "      <th></th>\n",
       "      <th>C</th>\n",
       "      <th>D</th>\n",
       "    </tr>\n",
       "    <tr>\n",
       "      <th>A</th>\n",
       "      <th></th>\n",
       "      <th></th>\n",
       "    </tr>\n",
       "  </thead>\n",
       "  <tbody>\n",
       "    <tr>\n",
       "      <th>bar</th>\n",
       "      <td>1.214759</td>\n",
       "      <td>-0.611045</td>\n",
       "    </tr>\n",
       "    <tr>\n",
       "      <th>foo</th>\n",
       "      <td>2.764111</td>\n",
       "      <td>1.920916</td>\n",
       "    </tr>\n",
       "  </tbody>\n",
       "</table>\n",
       "</div>"
      ],
      "text/plain": [
       "            C         D\n",
       "A                      \n",
       "bar  1.214759 -0.611045\n",
       "foo  2.764111  1.920916"
      ]
     },
     "execution_count": 129,
     "metadata": {},
     "output_type": "execute_result"
    }
   ],
   "source": [
    "df.groupby('A').sum()"
   ]
  },
  {
   "cell_type": "markdown",
   "metadata": {},
   "source": [
    "按照 `A, B` 的值进行分类："
   ]
  },
  {
   "cell_type": "code",
   "execution_count": 130,
   "metadata": {
    "pycharm": {
     "name": "#%%\n"
    }
   },
   "outputs": [
    {
     "data": {
      "text/html": [
       "<div>\n",
       "<style scoped>\n",
       "    .dataframe tbody tr th:only-of-type {\n",
       "        vertical-align: middle;\n",
       "    }\n",
       "\n",
       "    .dataframe tbody tr th {\n",
       "        vertical-align: top;\n",
       "    }\n",
       "\n",
       "    .dataframe thead th {\n",
       "        text-align: right;\n",
       "    }\n",
       "</style>\n",
       "<table border=\"1\" class=\"dataframe\">\n",
       "  <thead>\n",
       "    <tr style=\"text-align: right;\">\n",
       "      <th></th>\n",
       "      <th></th>\n",
       "      <th>C</th>\n",
       "      <th>D</th>\n",
       "    </tr>\n",
       "    <tr>\n",
       "      <th>A</th>\n",
       "      <th>B</th>\n",
       "      <th></th>\n",
       "      <th></th>\n",
       "    </tr>\n",
       "  </thead>\n",
       "  <tbody>\n",
       "    <tr>\n",
       "      <th rowspan=\"3\" valign=\"top\">bar</th>\n",
       "      <th>one</th>\n",
       "      <td>-0.608926</td>\n",
       "      <td>-0.021452</td>\n",
       "    </tr>\n",
       "    <tr>\n",
       "      <th>three</th>\n",
       "      <td>-0.056294</td>\n",
       "      <td>-0.362286</td>\n",
       "    </tr>\n",
       "    <tr>\n",
       "      <th>two</th>\n",
       "      <td>1.879979</td>\n",
       "      <td>-0.227308</td>\n",
       "    </tr>\n",
       "    <tr>\n",
       "      <th rowspan=\"3\" valign=\"top\">foo</th>\n",
       "      <th>one</th>\n",
       "      <td>-2.720135</td>\n",
       "      <td>-0.537045</td>\n",
       "    </tr>\n",
       "    <tr>\n",
       "      <th>three</th>\n",
       "      <td>2.249583</td>\n",
       "      <td>2.560065</td>\n",
       "    </tr>\n",
       "    <tr>\n",
       "      <th>two</th>\n",
       "      <td>3.234663</td>\n",
       "      <td>-0.102103</td>\n",
       "    </tr>\n",
       "  </tbody>\n",
       "</table>\n",
       "</div>"
      ],
      "text/plain": [
       "                  C         D\n",
       "A   B                        \n",
       "bar one   -0.608926 -0.021452\n",
       "    three -0.056294 -0.362286\n",
       "    two    1.879979 -0.227308\n",
       "foo one   -2.720135 -0.537045\n",
       "    three  2.249583  2.560065\n",
       "    two    3.234663 -0.102103"
      ]
     },
     "execution_count": 130,
     "metadata": {},
     "output_type": "execute_result"
    }
   ],
   "source": [
    "df.groupby(['A', 'B']).sum()"
   ]
  },
  {
   "cell_type": "markdown",
   "metadata": {},
   "source": [
    "## 改变形状"
   ]
  },
  {
   "cell_type": "markdown",
   "metadata": {},
   "source": [
    "### Stack"
   ]
  },
  {
   "cell_type": "markdown",
   "metadata": {},
   "source": [
    "产生一个多 `index` 的 `DataFrame`："
   ]
  },
  {
   "cell_type": "code",
   "execution_count": 131,
   "metadata": {
    "pycharm": {
     "name": "#%%\n"
    }
   },
   "outputs": [
    {
     "data": {
      "text/html": [
       "<div>\n",
       "<style scoped>\n",
       "    .dataframe tbody tr th:only-of-type {\n",
       "        vertical-align: middle;\n",
       "    }\n",
       "\n",
       "    .dataframe tbody tr th {\n",
       "        vertical-align: top;\n",
       "    }\n",
       "\n",
       "    .dataframe thead th {\n",
       "        text-align: right;\n",
       "    }\n",
       "</style>\n",
       "<table border=\"1\" class=\"dataframe\">\n",
       "  <thead>\n",
       "    <tr style=\"text-align: right;\">\n",
       "      <th></th>\n",
       "      <th></th>\n",
       "      <th>A</th>\n",
       "      <th>B</th>\n",
       "    </tr>\n",
       "    <tr>\n",
       "      <th>first</th>\n",
       "      <th>second</th>\n",
       "      <th></th>\n",
       "      <th></th>\n",
       "    </tr>\n",
       "  </thead>\n",
       "  <tbody>\n",
       "    <tr>\n",
       "      <th rowspan=\"2\" valign=\"top\">bar</th>\n",
       "      <th>one</th>\n",
       "      <td>0.774864</td>\n",
       "      <td>0.463285</td>\n",
       "    </tr>\n",
       "    <tr>\n",
       "      <th>two</th>\n",
       "      <td>-0.867995</td>\n",
       "      <td>1.321638</td>\n",
       "    </tr>\n",
       "    <tr>\n",
       "      <th rowspan=\"2\" valign=\"top\">baz</th>\n",
       "      <th>one</th>\n",
       "      <td>-0.148791</td>\n",
       "      <td>-1.053125</td>\n",
       "    </tr>\n",
       "    <tr>\n",
       "      <th>two</th>\n",
       "      <td>-0.243865</td>\n",
       "      <td>1.984993</td>\n",
       "    </tr>\n",
       "    <tr>\n",
       "      <th rowspan=\"2\" valign=\"top\">foo</th>\n",
       "      <th>one</th>\n",
       "      <td>0.531393</td>\n",
       "      <td>-0.420909</td>\n",
       "    </tr>\n",
       "    <tr>\n",
       "      <th>two</th>\n",
       "      <td>-0.087908</td>\n",
       "      <td>-0.144013</td>\n",
       "    </tr>\n",
       "    <tr>\n",
       "      <th rowspan=\"2\" valign=\"top\">qux</th>\n",
       "      <th>one</th>\n",
       "      <td>1.516681</td>\n",
       "      <td>0.557655</td>\n",
       "    </tr>\n",
       "    <tr>\n",
       "      <th>two</th>\n",
       "      <td>-0.544756</td>\n",
       "      <td>0.228163</td>\n",
       "    </tr>\n",
       "  </tbody>\n",
       "</table>\n",
       "</div>"
      ],
      "text/plain": [
       "                     A         B\n",
       "first second                    \n",
       "bar   one     0.774864  0.463285\n",
       "      two    -0.867995  1.321638\n",
       "baz   one    -0.148791 -1.053125\n",
       "      two    -0.243865  1.984993\n",
       "foo   one     0.531393 -0.420909\n",
       "      two    -0.087908 -0.144013\n",
       "qux   one     1.516681  0.557655\n",
       "      two    -0.544756  0.228163"
      ]
     },
     "execution_count": 131,
     "metadata": {},
     "output_type": "execute_result"
    }
   ],
   "source": [
    "tuples = list(zip(*[['bar', 'bar', 'baz', 'baz',\n",
    "                     'foo', 'foo', 'qux', 'qux'],\n",
    "                    ['one', 'two', 'one', 'two',\n",
    "                     'one', 'two', 'one', 'two']]))\n",
    "\n",
    "index = pd.MultiIndex.from_tuples(tuples, names=['first', 'second'])\n",
    "df = pd.DataFrame(np.random.randn(8, 2), index=index, columns=['A', 'B'])\n",
    "\n",
    "df"
   ]
  },
  {
   "cell_type": "markdown",
   "metadata": {},
   "source": [
    "`stack` 方法将 `columns` 变成一个新的 `index` 部分："
   ]
  },
  {
   "cell_type": "code",
   "execution_count": 132,
   "metadata": {
    "pycharm": {
     "name": "#%%\n"
    }
   },
   "outputs": [
    {
     "data": {
      "text/plain": [
       "first  second   \n",
       "bar    one     A    0.774864\n",
       "               B    0.463285\n",
       "       two     A   -0.867995\n",
       "               B    1.321638\n",
       "baz    one     A   -0.148791\n",
       "               B   -1.053125\n",
       "       two     A   -0.243865\n",
       "               B    1.984993\n",
       "dtype: float64"
      ]
     },
     "execution_count": 132,
     "metadata": {},
     "output_type": "execute_result"
    }
   ],
   "source": [
    "df2 = df[:4]\n",
    "\n",
    "stacked = df2.stack()\n",
    "\n",
    "stacked"
   ]
  },
  {
   "cell_type": "markdown",
   "metadata": {},
   "source": [
    "可以使用 `unstack()` 将最后一级 `index` 放回 `column`："
   ]
  },
  {
   "cell_type": "code",
   "execution_count": 133,
   "metadata": {
    "pycharm": {
     "name": "#%%\n"
    }
   },
   "outputs": [
    {
     "data": {
      "text/html": [
       "<div>\n",
       "<style scoped>\n",
       "    .dataframe tbody tr th:only-of-type {\n",
       "        vertical-align: middle;\n",
       "    }\n",
       "\n",
       "    .dataframe tbody tr th {\n",
       "        vertical-align: top;\n",
       "    }\n",
       "\n",
       "    .dataframe thead th {\n",
       "        text-align: right;\n",
       "    }\n",
       "</style>\n",
       "<table border=\"1\" class=\"dataframe\">\n",
       "  <thead>\n",
       "    <tr style=\"text-align: right;\">\n",
       "      <th></th>\n",
       "      <th></th>\n",
       "      <th>A</th>\n",
       "      <th>B</th>\n",
       "    </tr>\n",
       "    <tr>\n",
       "      <th>first</th>\n",
       "      <th>second</th>\n",
       "      <th></th>\n",
       "      <th></th>\n",
       "    </tr>\n",
       "  </thead>\n",
       "  <tbody>\n",
       "    <tr>\n",
       "      <th rowspan=\"2\" valign=\"top\">bar</th>\n",
       "      <th>one</th>\n",
       "      <td>0.774864</td>\n",
       "      <td>0.463285</td>\n",
       "    </tr>\n",
       "    <tr>\n",
       "      <th>two</th>\n",
       "      <td>-0.867995</td>\n",
       "      <td>1.321638</td>\n",
       "    </tr>\n",
       "    <tr>\n",
       "      <th rowspan=\"2\" valign=\"top\">baz</th>\n",
       "      <th>one</th>\n",
       "      <td>-0.148791</td>\n",
       "      <td>-1.053125</td>\n",
       "    </tr>\n",
       "    <tr>\n",
       "      <th>two</th>\n",
       "      <td>-0.243865</td>\n",
       "      <td>1.984993</td>\n",
       "    </tr>\n",
       "  </tbody>\n",
       "</table>\n",
       "</div>"
      ],
      "text/plain": [
       "                     A         B\n",
       "first second                    \n",
       "bar   one     0.774864  0.463285\n",
       "      two    -0.867995  1.321638\n",
       "baz   one    -0.148791 -1.053125\n",
       "      two    -0.243865  1.984993"
      ]
     },
     "execution_count": 133,
     "metadata": {},
     "output_type": "execute_result"
    }
   ],
   "source": [
    "stacked.unstack()"
   ]
  },
  {
   "cell_type": "markdown",
   "metadata": {},
   "source": [
    "也可以指定其他的级别："
   ]
  },
  {
   "cell_type": "code",
   "execution_count": 134,
   "metadata": {
    "pycharm": {
     "name": "#%%\n"
    }
   },
   "outputs": [
    {
     "data": {
      "text/html": [
       "<div>\n",
       "<style scoped>\n",
       "    .dataframe tbody tr th:only-of-type {\n",
       "        vertical-align: middle;\n",
       "    }\n",
       "\n",
       "    .dataframe tbody tr th {\n",
       "        vertical-align: top;\n",
       "    }\n",
       "\n",
       "    .dataframe thead th {\n",
       "        text-align: right;\n",
       "    }\n",
       "</style>\n",
       "<table border=\"1\" class=\"dataframe\">\n",
       "  <thead>\n",
       "    <tr style=\"text-align: right;\">\n",
       "      <th></th>\n",
       "      <th>second</th>\n",
       "      <th>one</th>\n",
       "      <th>two</th>\n",
       "    </tr>\n",
       "    <tr>\n",
       "      <th>first</th>\n",
       "      <th></th>\n",
       "      <th></th>\n",
       "      <th></th>\n",
       "    </tr>\n",
       "  </thead>\n",
       "  <tbody>\n",
       "    <tr>\n",
       "      <th rowspan=\"2\" valign=\"top\">bar</th>\n",
       "      <th>A</th>\n",
       "      <td>0.774864</td>\n",
       "      <td>-0.867995</td>\n",
       "    </tr>\n",
       "    <tr>\n",
       "      <th>B</th>\n",
       "      <td>0.463285</td>\n",
       "      <td>1.321638</td>\n",
       "    </tr>\n",
       "    <tr>\n",
       "      <th rowspan=\"2\" valign=\"top\">baz</th>\n",
       "      <th>A</th>\n",
       "      <td>-0.148791</td>\n",
       "      <td>-0.243865</td>\n",
       "    </tr>\n",
       "    <tr>\n",
       "      <th>B</th>\n",
       "      <td>-1.053125</td>\n",
       "      <td>1.984993</td>\n",
       "    </tr>\n",
       "  </tbody>\n",
       "</table>\n",
       "</div>"
      ],
      "text/plain": [
       "second        one       two\n",
       "first                      \n",
       "bar   A  0.774864 -0.867995\n",
       "      B  0.463285  1.321638\n",
       "baz   A -0.148791 -0.243865\n",
       "      B -1.053125  1.984993"
      ]
     },
     "execution_count": 134,
     "metadata": {},
     "output_type": "execute_result"
    }
   ],
   "source": [
    "stacked.unstack(1)"
   ]
  },
  {
   "cell_type": "markdown",
   "metadata": {},
   "source": [
    "## 时间序列"
   ]
  },
  {
   "cell_type": "markdown",
   "metadata": {},
   "source": [
    "金融分析中常用到时间序列数据："
   ]
  },
  {
   "cell_type": "code",
   "execution_count": 135,
   "metadata": {
    "pycharm": {
     "name": "#%%\n"
    }
   },
   "outputs": [
    {
     "data": {
      "text/plain": [
       "2012-03-06    1.185944\n",
       "2012-03-07    0.185575\n",
       "2012-03-08   -0.872285\n",
       "2012-03-09   -0.397521\n",
       "2012-03-10    0.076057\n",
       "Freq: D, dtype: float64"
      ]
     },
     "execution_count": 135,
     "metadata": {},
     "output_type": "execute_result"
    }
   ],
   "source": [
    "rng = pd.date_range('3/6/2012 00:00', periods=5, freq='D')\n",
    "ts = pd.Series(np.random.randn(len(rng)), rng)\n",
    "\n",
    "ts"
   ]
  },
  {
   "cell_type": "markdown",
   "metadata": {},
   "source": [
    "标准时间表示："
   ]
  },
  {
   "cell_type": "code",
   "execution_count": 136,
   "metadata": {
    "pycharm": {
     "name": "#%%\n"
    }
   },
   "outputs": [
    {
     "data": {
      "text/plain": [
       "2012-03-06 00:00:00+00:00    1.185944\n",
       "2012-03-07 00:00:00+00:00    0.185575\n",
       "2012-03-08 00:00:00+00:00   -0.872285\n",
       "2012-03-09 00:00:00+00:00   -0.397521\n",
       "2012-03-10 00:00:00+00:00    0.076057\n",
       "Freq: D, dtype: float64"
      ]
     },
     "execution_count": 136,
     "metadata": {},
     "output_type": "execute_result"
    }
   ],
   "source": [
    "ts_utc = ts.tz_localize('UTC')\n",
    "\n",
    "ts_utc"
   ]
  },
  {
   "cell_type": "markdown",
   "metadata": {},
   "source": [
    "改变时区表示："
   ]
  },
  {
   "cell_type": "code",
   "execution_count": 137,
   "metadata": {
    "pycharm": {
     "name": "#%%\n"
    }
   },
   "outputs": [
    {
     "data": {
      "text/plain": [
       "2012-03-05 19:00:00-05:00    1.185944\n",
       "2012-03-06 19:00:00-05:00    0.185575\n",
       "2012-03-07 19:00:00-05:00   -0.872285\n",
       "2012-03-08 19:00:00-05:00   -0.397521\n",
       "2012-03-09 19:00:00-05:00    0.076057\n",
       "Freq: D, dtype: float64"
      ]
     },
     "execution_count": 137,
     "metadata": {},
     "output_type": "execute_result"
    }
   ],
   "source": [
    "ts_utc.tz_convert('US/Eastern')"
   ]
  },
  {
   "cell_type": "markdown",
   "metadata": {},
   "source": [
    "## Categoricals"
   ]
  },
  {
   "cell_type": "code",
   "execution_count": 138,
   "metadata": {
    "pycharm": {
     "name": "#%%\n"
    }
   },
   "outputs": [
    {
     "data": {
      "text/html": [
       "<div>\n",
       "<style scoped>\n",
       "    .dataframe tbody tr th:only-of-type {\n",
       "        vertical-align: middle;\n",
       "    }\n",
       "\n",
       "    .dataframe tbody tr th {\n",
       "        vertical-align: top;\n",
       "    }\n",
       "\n",
       "    .dataframe thead th {\n",
       "        text-align: right;\n",
       "    }\n",
       "</style>\n",
       "<table border=\"1\" class=\"dataframe\">\n",
       "  <thead>\n",
       "    <tr style=\"text-align: right;\">\n",
       "      <th></th>\n",
       "      <th>id</th>\n",
       "      <th>raw_grade</th>\n",
       "    </tr>\n",
       "  </thead>\n",
       "  <tbody>\n",
       "    <tr>\n",
       "      <th>0</th>\n",
       "      <td>1</td>\n",
       "      <td>a</td>\n",
       "    </tr>\n",
       "    <tr>\n",
       "      <th>1</th>\n",
       "      <td>2</td>\n",
       "      <td>b</td>\n",
       "    </tr>\n",
       "    <tr>\n",
       "      <th>2</th>\n",
       "      <td>3</td>\n",
       "      <td>b</td>\n",
       "    </tr>\n",
       "    <tr>\n",
       "      <th>3</th>\n",
       "      <td>4</td>\n",
       "      <td>a</td>\n",
       "    </tr>\n",
       "    <tr>\n",
       "      <th>4</th>\n",
       "      <td>5</td>\n",
       "      <td>a</td>\n",
       "    </tr>\n",
       "    <tr>\n",
       "      <th>5</th>\n",
       "      <td>6</td>\n",
       "      <td>e</td>\n",
       "    </tr>\n",
       "  </tbody>\n",
       "</table>\n",
       "</div>"
      ],
      "text/plain": [
       "   id raw_grade\n",
       "0   1         a\n",
       "1   2         b\n",
       "2   3         b\n",
       "3   4         a\n",
       "4   5         a\n",
       "5   6         e"
      ]
     },
     "execution_count": 138,
     "metadata": {},
     "output_type": "execute_result"
    }
   ],
   "source": [
    "df = pd.DataFrame({\"id\":[1,2,3,4,5,6], \"raw_grade\":['a', 'b', 'b', 'a', 'a', 'e']})\n",
    "\n",
    "df"
   ]
  },
  {
   "cell_type": "markdown",
   "metadata": {},
   "source": [
    "可以将 `grade` 变成类别："
   ]
  },
  {
   "cell_type": "code",
   "execution_count": 139,
   "metadata": {
    "pycharm": {
     "name": "#%%\n"
    }
   },
   "outputs": [
    {
     "data": {
      "text/plain": [
       "0    a\n",
       "1    b\n",
       "2    b\n",
       "3    a\n",
       "4    a\n",
       "5    e\n",
       "Name: grade, dtype: category\n",
       "Categories (3, object): [a, b, e]"
      ]
     },
     "execution_count": 139,
     "metadata": {},
     "output_type": "execute_result"
    }
   ],
   "source": [
    "df[\"grade\"] = df[\"raw_grade\"].astype(\"category\")\n",
    "\n",
    "df[\"grade\"]"
   ]
  },
  {
   "cell_type": "markdown",
   "metadata": {},
   "source": [
    "将类别的表示转化为有意义的字符："
   ]
  },
  {
   "cell_type": "code",
   "execution_count": 140,
   "metadata": {
    "pycharm": {
     "name": "#%%\n"
    }
   },
   "outputs": [
    {
     "data": {
      "text/plain": [
       "0    very good\n",
       "1         good\n",
       "2         good\n",
       "3    very good\n",
       "4    very good\n",
       "5     very bad\n",
       "Name: grade, dtype: category\n",
       "Categories (3, object): [very good, good, very bad]"
      ]
     },
     "execution_count": 140,
     "metadata": {},
     "output_type": "execute_result"
    }
   ],
   "source": [
    "df[\"grade\"].cat.categories = [\"very good\", \"good\", \"very bad\"]\n",
    "\n",
    "df[\"grade\"]"
   ]
  },
  {
   "cell_type": "markdown",
   "metadata": {},
   "source": [
    "添加缺失的类别："
   ]
  },
  {
   "cell_type": "code",
   "execution_count": 141,
   "metadata": {
    "pycharm": {
     "name": "#%%\n"
    }
   },
   "outputs": [
    {
     "data": {
      "text/plain": [
       "0    very good\n",
       "1         good\n",
       "2         good\n",
       "3    very good\n",
       "4    very good\n",
       "5     very bad\n",
       "Name: grade, dtype: category\n",
       "Categories (5, object): [very bad, bad, medium, good, very good]"
      ]
     },
     "execution_count": 141,
     "metadata": {},
     "output_type": "execute_result"
    }
   ],
   "source": [
    "df[\"grade\"] = df[\"grade\"].cat.set_categories([\"very bad\", \"bad\", \"medium\", \"good\", \"very good\"])\n",
    "df[\"grade\"]"
   ]
  },
  {
   "cell_type": "markdown",
   "metadata": {},
   "source": [
    "使用 `grade` 分组："
   ]
  },
  {
   "cell_type": "code",
   "execution_count": 142,
   "metadata": {
    "pycharm": {
     "name": "#%%\n"
    }
   },
   "outputs": [
    {
     "data": {
      "text/plain": [
       "grade\n",
       "very bad     1\n",
       "bad          0\n",
       "medium       0\n",
       "good         2\n",
       "very good    3\n",
       "dtype: int64"
      ]
     },
     "execution_count": 142,
     "metadata": {},
     "output_type": "execute_result"
    }
   ],
   "source": [
    "df.groupby(\"grade\").size()"
   ]
  },
  {
   "cell_type": "markdown",
   "metadata": {},
   "source": [
    "## 绘图"
   ]
  },
  {
   "cell_type": "markdown",
   "metadata": {},
   "source": [
    "使用 `ggplot` 风格："
   ]
  },
  {
   "cell_type": "code",
   "execution_count": 143,
   "metadata": {
    "pycharm": {
     "name": "#%%\n"
    }
   },
   "outputs": [],
   "source": [
    "plt.style.use('ggplot')"
   ]
  },
  {
   "cell_type": "markdown",
   "metadata": {},
   "source": [
    "`Series` 绘图："
   ]
  },
  {
   "cell_type": "code",
   "execution_count": 144,
   "metadata": {
    "pycharm": {
     "name": "#%%\n"
    }
   },
   "outputs": [
    {
     "data": {
      "image/png": "[encoded data removed]",
      "text/plain": [
       "<Figure size 432x288 with 1 Axes>"
      ]
     },
     "metadata": {},
     "output_type": "display_data"
    }
   ],
   "source": [
    "ts = pd.Series(np.random.randn(1000), index=pd.date_range('1/1/2000', periods=1000))\n",
    "\n",
    "p = ts.cumsum().plot()"
   ]
  },
  {
   "cell_type": "markdown",
   "metadata": {},
   "source": [
    "`DataFrame` 按照 `columns` 绘图："
   ]
  },
  {
   "cell_type": "code",
   "execution_count": 145,
   "metadata": {
    "pycharm": {
     "name": "#%%\n"
    }
   },
   "outputs": [
    {
     "data": {
      "image/png": "[encoded data removed]",
      "text/plain": [
       "<Figure size 432x288 with 1 Axes>"
      ]
     },
     "metadata": {},
     "output_type": "display_data"
    }
   ],
   "source": [
    "df = pd.DataFrame(np.random.randn(1000, 4), index=ts.index,\n",
    "                  columns=['A', 'B', 'C', 'D'])\n",
    "\n",
    "df.cumsum().plot()\n",
    "p = plt.legend(loc=\"best\")"
   ]
  },
  {
   "cell_type": "markdown",
   "metadata": {},
   "source": [
    "## 文件读写"
   ]
  },
  {
   "cell_type": "markdown",
   "metadata": {},
   "source": [
    "### csv"
   ]
  },
  {
   "cell_type": "markdown",
   "metadata": {},
   "source": [
    "写入文件："
   ]
  },
  {
   "cell_type": "code",
   "execution_count": 146,
   "metadata": {
    "pycharm": {
     "name": "#%%\n"
    }
   },
   "outputs": [],
   "source": [
    "df.to_csv('foo.csv')"
   ]
  },
  {
   "cell_type": "markdown",
   "metadata": {},
   "source": [
    "从文件中读取："
   ]
  },
  {
   "cell_type": "code",
   "execution_count": 147,
   "metadata": {
    "pycharm": {
     "name": "#%%\n"
    }
   },
   "outputs": [
    {
     "data": {
      "text/html": [
       "<div>\n",
       "<style scoped>\n",
       "    .dataframe tbody tr th:only-of-type {\n",
       "        vertical-align: middle;\n",
       "    }\n",
       "\n",
       "    .dataframe tbody tr th {\n",
       "        vertical-align: top;\n",
       "    }\n",
       "\n",
       "    .dataframe thead th {\n",
       "        text-align: right;\n",
       "    }\n",
       "</style>\n",
       "<table border=\"1\" class=\"dataframe\">\n",
       "  <thead>\n",
       "    <tr style=\"text-align: right;\">\n",
       "      <th></th>\n",
       "      <th>Unnamed: 0</th>\n",
       "      <th>A</th>\n",
       "      <th>B</th>\n",
       "      <th>C</th>\n",
       "      <th>D</th>\n",
       "    </tr>\n",
       "  </thead>\n",
       "  <tbody>\n",
       "    <tr>\n",
       "      <th>0</th>\n",
       "      <td>2000-01-01</td>\n",
       "      <td>0.357664</td>\n",
       "      <td>-1.510800</td>\n",
       "      <td>-0.081209</td>\n",
       "      <td>0.985303</td>\n",
       "    </tr>\n",
       "    <tr>\n",
       "      <th>1</th>\n",
       "      <td>2000-01-02</td>\n",
       "      <td>1.186070</td>\n",
       "      <td>0.713685</td>\n",
       "      <td>0.658628</td>\n",
       "      <td>1.357909</td>\n",
       "    </tr>\n",
       "    <tr>\n",
       "      <th>2</th>\n",
       "      <td>2000-01-03</td>\n",
       "      <td>-1.850055</td>\n",
       "      <td>1.149238</td>\n",
       "      <td>-0.875208</td>\n",
       "      <td>-0.920585</td>\n",
       "    </tr>\n",
       "    <tr>\n",
       "      <th>3</th>\n",
       "      <td>2000-01-04</td>\n",
       "      <td>-2.002074</td>\n",
       "      <td>1.758719</td>\n",
       "      <td>-0.836658</td>\n",
       "      <td>0.112474</td>\n",
       "    </tr>\n",
       "    <tr>\n",
       "      <th>4</th>\n",
       "      <td>2000-01-05</td>\n",
       "      <td>-1.127084</td>\n",
       "      <td>-2.111435</td>\n",
       "      <td>1.211663</td>\n",
       "      <td>-1.959795</td>\n",
       "    </tr>\n",
       "  </tbody>\n",
       "</table>\n",
       "</div>"
      ],
      "text/plain": [
       "   Unnamed: 0         A         B         C         D\n",
       "0  2000-01-01  0.357664 -1.510800 -0.081209  0.985303\n",
       "1  2000-01-02  1.186070  0.713685  0.658628  1.357909\n",
       "2  2000-01-03 -1.850055  1.149238 -0.875208 -0.920585\n",
       "3  2000-01-04 -2.002074  1.758719 -0.836658  0.112474\n",
       "4  2000-01-05 -1.127084 -2.111435  1.211663 -1.959795"
      ]
     },
     "execution_count": 147,
     "metadata": {},
     "output_type": "execute_result"
    }
   ],
   "source": [
    "pd.read_csv('foo.csv').head()"
   ]
  },
  {
   "cell_type": "markdown",
   "metadata": {},
   "source": [
    "清理生成的临时文件："
   ]
  },
  {
   "cell_type": "code",
   "execution_count": 148,
   "metadata": {
    "pycharm": {
     "name": "#%%\n"
    }
   },
   "outputs": [],
   "source": [
    "import glob\n",
    "import os\n",
    "\n",
    "for f in glob.glob(\"foo*\"):\n",
    "    os.remove(f)\n",
    "\n"
   ]
  },
  {
   "cell_type": "markdown",
   "metadata": {},
   "source": [
    "# 3. TA-Lib"
   ]
  },
  {
   "cell_type": "code",
   "execution_count": 149,
   "metadata": {},
   "outputs": [],
   "source": [
    "import talib as ta\n",
    "import pandas as pd\n",
    "from jqdatasdk import *"
   ]
  },
  {
   "cell_type": "code",
   "execution_count": 151,
   "metadata": {},
   "outputs": [
    {
     "name": "stdout",
     "output_type": "stream",
     "text": [
      "auth success \n"
     ]
    }
   ],
   "source": [
    "# ID是申请时所填写的手机号；Password为聚宽官网登录密码\n",
    "auth('ID','Password') "
   ]
  },
  {
   "cell_type": "code",
   "execution_count": 152,
   "metadata": {
    "scrolled": true
   },
   "outputs": [
    {
     "data": {
      "text/html": [
       "<div>\n",
       "<style scoped>\n",
       "    .dataframe tbody tr th:only-of-type {\n",
       "        vertical-align: middle;\n",
       "    }\n",
       "\n",
       "    .dataframe tbody tr th {\n",
       "        vertical-align: top;\n",
       "    }\n",
       "\n",
       "    .dataframe thead th {\n",
       "        text-align: right;\n",
       "    }\n",
       "</style>\n",
       "<table border=\"1\" class=\"dataframe\">\n",
       "  <thead>\n",
       "    <tr style=\"text-align: right;\">\n",
       "      <th></th>\n",
       "      <th>close</th>\n",
       "      <th>open</th>\n",
       "      <th>high</th>\n",
       "      <th>low</th>\n",
       "    </tr>\n",
       "  </thead>\n",
       "  <tbody>\n",
       "    <tr>\n",
       "      <th>2019-07-01</th>\n",
       "      <td>3935.8100</td>\n",
       "      <td>3899.3300</td>\n",
       "      <td>3936.6700</td>\n",
       "      <td>3886.9100</td>\n",
       "    </tr>\n",
       "    <tr>\n",
       "      <th>2019-07-02</th>\n",
       "      <td>3937.1700</td>\n",
       "      <td>3931.0500</td>\n",
       "      <td>3942.4300</td>\n",
       "      <td>3918.9400</td>\n",
       "    </tr>\n",
       "    <tr>\n",
       "      <th>2019-07-03</th>\n",
       "      <td>3893.5300</td>\n",
       "      <td>3927.4400</td>\n",
       "      <td>3927.4400</td>\n",
       "      <td>3878.8400</td>\n",
       "    </tr>\n",
       "    <tr>\n",
       "      <th>2019-07-04</th>\n",
       "      <td>3873.1000</td>\n",
       "      <td>3895.2000</td>\n",
       "      <td>3906.8900</td>\n",
       "      <td>3854.6900</td>\n",
       "    </tr>\n",
       "    <tr>\n",
       "      <th>2019-07-05</th>\n",
       "      <td>3893.2000</td>\n",
       "      <td>3875.3700</td>\n",
       "      <td>3900.3100</td>\n",
       "      <td>3857.9300</td>\n",
       "    </tr>\n",
       "    <tr>\n",
       "      <th>2019-07-08</th>\n",
       "      <td>3802.7900</td>\n",
       "      <td>3875.7500</td>\n",
       "      <td>3875.7500</td>\n",
       "      <td>3775.0300</td>\n",
       "    </tr>\n",
       "    <tr>\n",
       "      <th>2019-07-09</th>\n",
       "      <td>3793.1300</td>\n",
       "      <td>3798.1000</td>\n",
       "      <td>3811.1000</td>\n",
       "      <td>3774.7600</td>\n",
       "    </tr>\n",
       "    <tr>\n",
       "      <th>2019-07-10</th>\n",
       "      <td>3786.7400</td>\n",
       "      <td>3807.9500</td>\n",
       "      <td>3810.4000</td>\n",
       "      <td>3774.2300</td>\n",
       "    </tr>\n",
       "    <tr>\n",
       "      <th>2019-07-11</th>\n",
       "      <td>3785.2200</td>\n",
       "      <td>3806.1900</td>\n",
       "      <td>3830.7400</td>\n",
       "      <td>3774.4100</td>\n",
       "    </tr>\n",
       "    <tr>\n",
       "      <th>2019-07-12</th>\n",
       "      <td>3808.7300</td>\n",
       "      <td>3783.0700</td>\n",
       "      <td>3820.2400</td>\n",
       "      <td>3774.5200</td>\n",
       "    </tr>\n",
       "    <tr>\n",
       "      <th>2019-07-15</th>\n",
       "      <td>3824.1900</td>\n",
       "      <td>3792.6400</td>\n",
       "      <td>3844.8700</td>\n",
       "      <td>3745.8500</td>\n",
       "    </tr>\n",
       "    <tr>\n",
       "      <th>2019-07-16</th>\n",
       "      <td>3806.8400</td>\n",
       "      <td>3819.2500</td>\n",
       "      <td>3828.3300</td>\n",
       "      <td>3799.8700</td>\n",
       "    </tr>\n",
       "    <tr>\n",
       "      <th>2019-07-17</th>\n",
       "      <td>3804.6400</td>\n",
       "      <td>3800.1100</td>\n",
       "      <td>3820.2700</td>\n",
       "      <td>3787.9000</td>\n",
       "    </tr>\n",
       "    <tr>\n",
       "      <th>2019-07-18</th>\n",
       "      <td>3768.4000</td>\n",
       "      <td>3793.1900</td>\n",
       "      <td>3793.3900</td>\n",
       "      <td>3768.0000</td>\n",
       "    </tr>\n",
       "    <tr>\n",
       "      <th>2019-07-19</th>\n",
       "      <td>3807.9600</td>\n",
       "      <td>3787.5100</td>\n",
       "      <td>3828.1500</td>\n",
       "      <td>3787.5100</td>\n",
       "    </tr>\n",
       "    <tr>\n",
       "      <th>2019-07-22</th>\n",
       "      <td>3781.6800</td>\n",
       "      <td>3813.5000</td>\n",
       "      <td>3816.5400</td>\n",
       "      <td>3765.4400</td>\n",
       "    </tr>\n",
       "    <tr>\n",
       "      <th>2019-07-23</th>\n",
       "      <td>3789.9100</td>\n",
       "      <td>3783.5400</td>\n",
       "      <td>3792.9600</td>\n",
       "      <td>3768.7600</td>\n",
       "    </tr>\n",
       "    <tr>\n",
       "      <th>2019-07-24</th>\n",
       "      <td>3819.8300</td>\n",
       "      <td>3803.5900</td>\n",
       "      <td>3840.0600</td>\n",
       "      <td>3803.5700</td>\n",
       "    </tr>\n",
       "    <tr>\n",
       "      <th>2019-07-25</th>\n",
       "      <td>3851.0700</td>\n",
       "      <td>3821.3900</td>\n",
       "      <td>3851.0700</td>\n",
       "      <td>3812.9500</td>\n",
       "    </tr>\n",
       "    <tr>\n",
       "      <th>2019-07-26</th>\n",
       "      <td>3858.5700</td>\n",
       "      <td>3835.2300</td>\n",
       "      <td>3863.5900</td>\n",
       "      <td>3832.5200</td>\n",
       "    </tr>\n",
       "    <tr>\n",
       "      <th>2019-07-29</th>\n",
       "      <td>3854.2700</td>\n",
       "      <td>3857.9400</td>\n",
       "      <td>3862.7500</td>\n",
       "      <td>3842.4300</td>\n",
       "    </tr>\n",
       "    <tr>\n",
       "      <th>2019-07-30</th>\n",
       "      <td>3870.3200</td>\n",
       "      <td>3861.5700</td>\n",
       "      <td>3890.7300</td>\n",
       "      <td>3861.5700</td>\n",
       "    </tr>\n",
       "    <tr>\n",
       "      <th>2019-07-31</th>\n",
       "      <td>3835.3600</td>\n",
       "      <td>3856.7400</td>\n",
       "      <td>3856.7400</td>\n",
       "      <td>3830.0900</td>\n",
       "    </tr>\n",
       "    <tr>\n",
       "      <th>2019-08-01</th>\n",
       "      <td>3803.4700</td>\n",
       "      <td>3819.3200</td>\n",
       "      <td>3831.2600</td>\n",
       "      <td>3791.5500</td>\n",
       "    </tr>\n",
       "    <tr>\n",
       "      <th>2019-08-02</th>\n",
       "      <td>3747.4400</td>\n",
       "      <td>3729.1300</td>\n",
       "      <td>3754.5300</td>\n",
       "      <td>3720.0600</td>\n",
       "    </tr>\n",
       "    <tr>\n",
       "      <th>2019-08-05</th>\n",
       "      <td>3675.6900</td>\n",
       "      <td>3724.4100</td>\n",
       "      <td>3739.5000</td>\n",
       "      <td>3675.6900</td>\n",
       "    </tr>\n",
       "    <tr>\n",
       "      <th>2019-08-06</th>\n",
       "      <td>3636.3300</td>\n",
       "      <td>3609.1100</td>\n",
       "      <td>3649.9000</td>\n",
       "      <td>3575.8600</td>\n",
       "    </tr>\n",
       "    <tr>\n",
       "      <th>2019-08-07</th>\n",
       "      <td>3621.4300</td>\n",
       "      <td>3654.6300</td>\n",
       "      <td>3659.0800</td>\n",
       "      <td>3621.4300</td>\n",
       "    </tr>\n",
       "    <tr>\n",
       "      <th>2019-08-08</th>\n",
       "      <td>3669.2900</td>\n",
       "      <td>3651.3600</td>\n",
       "      <td>3675.4600</td>\n",
       "      <td>3646.9400</td>\n",
       "    </tr>\n",
       "    <tr>\n",
       "      <th>2019-08-09</th>\n",
       "      <td>3633.5300</td>\n",
       "      <td>3686.7500</td>\n",
       "      <td>3689.1800</td>\n",
       "      <td>3628.1200</td>\n",
       "    </tr>\n",
       "    <tr>\n",
       "      <th>...</th>\n",
       "      <td>...</td>\n",
       "      <td>...</td>\n",
       "      <td>...</td>\n",
       "      <td>...</td>\n",
       "    </tr>\n",
       "    <tr>\n",
       "      <th>2019-08-19</th>\n",
       "      <td>3791.0900</td>\n",
       "      <td>3736.0300</td>\n",
       "      <td>3791.0900</td>\n",
       "      <td>3720.6900</td>\n",
       "    </tr>\n",
       "    <tr>\n",
       "      <th>2019-08-20</th>\n",
       "      <td>3787.7300</td>\n",
       "      <td>3786.0300</td>\n",
       "      <td>3799.9000</td>\n",
       "      <td>3778.7300</td>\n",
       "    </tr>\n",
       "    <tr>\n",
       "      <th>2019-08-21</th>\n",
       "      <td>3781.7600</td>\n",
       "      <td>3778.3100</td>\n",
       "      <td>3792.6000</td>\n",
       "      <td>3775.4500</td>\n",
       "    </tr>\n",
       "    <tr>\n",
       "      <th>2019-08-22</th>\n",
       "      <td>3793.5100</td>\n",
       "      <td>3793.8600</td>\n",
       "      <td>3797.3300</td>\n",
       "      <td>3771.2000</td>\n",
       "    </tr>\n",
       "    <tr>\n",
       "      <th>2019-08-23</th>\n",
       "      <td>3820.8600</td>\n",
       "      <td>3796.8800</td>\n",
       "      <td>3829.3600</td>\n",
       "      <td>3788.0300</td>\n",
       "    </tr>\n",
       "    <tr>\n",
       "      <th>2019-08-26</th>\n",
       "      <td>3765.9100</td>\n",
       "      <td>3756.3600</td>\n",
       "      <td>3778.8700</td>\n",
       "      <td>3753.1600</td>\n",
       "    </tr>\n",
       "    <tr>\n",
       "      <th>2019-08-27</th>\n",
       "      <td>3816.9500</td>\n",
       "      <td>3791.4600</td>\n",
       "      <td>3848.2400</td>\n",
       "      <td>3790.8700</td>\n",
       "    </tr>\n",
       "    <tr>\n",
       "      <th>2019-08-28</th>\n",
       "      <td>3802.5800</td>\n",
       "      <td>3818.8100</td>\n",
       "      <td>3822.5900</td>\n",
       "      <td>3790.1400</td>\n",
       "    </tr>\n",
       "    <tr>\n",
       "      <th>2019-08-29</th>\n",
       "      <td>3790.1900</td>\n",
       "      <td>3805.4900</td>\n",
       "      <td>3808.6000</td>\n",
       "      <td>3774.4000</td>\n",
       "    </tr>\n",
       "    <tr>\n",
       "      <th>2019-08-30</th>\n",
       "      <td>3799.5900</td>\n",
       "      <td>3816.6800</td>\n",
       "      <td>3828.9700</td>\n",
       "      <td>3778.9200</td>\n",
       "    </tr>\n",
       "    <tr>\n",
       "      <th>2019-09-02</th>\n",
       "      <td>3848.3200</td>\n",
       "      <td>3803.6900</td>\n",
       "      <td>3855.7800</td>\n",
       "      <td>3799.8200</td>\n",
       "    </tr>\n",
       "    <tr>\n",
       "      <th>2019-09-03</th>\n",
       "      <td>3853.6100</td>\n",
       "      <td>3852.5800</td>\n",
       "      <td>3856.6800</td>\n",
       "      <td>3833.7600</td>\n",
       "    </tr>\n",
       "    <tr>\n",
       "      <th>2019-09-04</th>\n",
       "      <td>3886.0000</td>\n",
       "      <td>3848.6500</td>\n",
       "      <td>3886.0000</td>\n",
       "      <td>3846.4200</td>\n",
       "    </tr>\n",
       "    <tr>\n",
       "      <th>2019-09-05</th>\n",
       "      <td>3925.3200</td>\n",
       "      <td>3909.2100</td>\n",
       "      <td>3970.0000</td>\n",
       "      <td>3909.2100</td>\n",
       "    </tr>\n",
       "    <tr>\n",
       "      <th>2019-09-06</th>\n",
       "      <td>3948.5100</td>\n",
       "      <td>3946.6900</td>\n",
       "      <td>3948.5400</td>\n",
       "      <td>3922.3400</td>\n",
       "    </tr>\n",
       "    <tr>\n",
       "      <th>2019-09-09</th>\n",
       "      <td>3972.9500</td>\n",
       "      <td>3980.9600</td>\n",
       "      <td>3985.2400</td>\n",
       "      <td>3954.8800</td>\n",
       "    </tr>\n",
       "    <tr>\n",
       "      <th>2019-09-10</th>\n",
       "      <td>3959.2600</td>\n",
       "      <td>3976.8700</td>\n",
       "      <td>3976.9200</td>\n",
       "      <td>3938.7400</td>\n",
       "    </tr>\n",
       "    <tr>\n",
       "      <th>2019-09-11</th>\n",
       "      <td>3930.1000</td>\n",
       "      <td>3969.6800</td>\n",
       "      <td>3971.2200</td>\n",
       "      <td>3922.9500</td>\n",
       "    </tr>\n",
       "    <tr>\n",
       "      <th>2019-09-12</th>\n",
       "      <td>3972.3800</td>\n",
       "      <td>3944.6900</td>\n",
       "      <td>3975.9300</td>\n",
       "      <td>3933.4400</td>\n",
       "    </tr>\n",
       "    <tr>\n",
       "      <th>2019-09-16</th>\n",
       "      <td>3957.7200</td>\n",
       "      <td>3981.3600</td>\n",
       "      <td>3982.2000</td>\n",
       "      <td>3943.3700</td>\n",
       "    </tr>\n",
       "    <tr>\n",
       "      <th>2019-09-17</th>\n",
       "      <td>3891.2200</td>\n",
       "      <td>3947.1600</td>\n",
       "      <td>3947.1600</td>\n",
       "      <td>3879.4900</td>\n",
       "    </tr>\n",
       "    <tr>\n",
       "      <th>2019-09-18</th>\n",
       "      <td>3910.0800</td>\n",
       "      <td>3902.9900</td>\n",
       "      <td>3923.1500</td>\n",
       "      <td>3902.5100</td>\n",
       "    </tr>\n",
       "    <tr>\n",
       "      <th>2019-09-19</th>\n",
       "      <td>3924.3800</td>\n",
       "      <td>3923.9600</td>\n",
       "      <td>3924.3800</td>\n",
       "      <td>3897.0700</td>\n",
       "    </tr>\n",
       "    <tr>\n",
       "      <th>2019-09-20</th>\n",
       "      <td>3935.6500</td>\n",
       "      <td>3933.4600</td>\n",
       "      <td>3942.2200</td>\n",
       "      <td>3921.4100</td>\n",
       "    </tr>\n",
       "    <tr>\n",
       "      <th>2019-09-23</th>\n",
       "      <td>3890.6600</td>\n",
       "      <td>3925.1900</td>\n",
       "      <td>3925.1900</td>\n",
       "      <td>3868.2100</td>\n",
       "    </tr>\n",
       "    <tr>\n",
       "      <th>2019-09-24</th>\n",
       "      <td>3901.0800</td>\n",
       "      <td>3895.8700</td>\n",
       "      <td>3927.0100</td>\n",
       "      <td>3886.1400</td>\n",
       "    </tr>\n",
       "    <tr>\n",
       "      <th>2019-09-25</th>\n",
       "      <td>3870.9837</td>\n",
       "      <td>3887.5548</td>\n",
       "      <td>3889.8390</td>\n",
       "      <td>3867.2277</td>\n",
       "    </tr>\n",
       "    <tr>\n",
       "      <th>2019-09-26</th>\n",
       "      <td>3870.9837</td>\n",
       "      <td>3870.9837</td>\n",
       "      <td>3870.9837</td>\n",
       "      <td>3870.9837</td>\n",
       "    </tr>\n",
       "    <tr>\n",
       "      <th>2019-09-27</th>\n",
       "      <td>3870.9837</td>\n",
       "      <td>3870.9837</td>\n",
       "      <td>3870.9837</td>\n",
       "      <td>3870.9837</td>\n",
       "    </tr>\n",
       "    <tr>\n",
       "      <th>2019-09-30</th>\n",
       "      <td>3870.9837</td>\n",
       "      <td>3870.9837</td>\n",
       "      <td>3870.9837</td>\n",
       "      <td>3870.9837</td>\n",
       "    </tr>\n",
       "  </tbody>\n",
       "</table>\n",
       "<p>65 rows × 4 columns</p>\n",
       "</div>"
      ],
      "text/plain": [
       "                close       open       high        low\n",
       "2019-07-01  3935.8100  3899.3300  3936.6700  3886.9100\n",
       "2019-07-02  3937.1700  3931.0500  3942.4300  3918.9400\n",
       "2019-07-03  3893.5300  3927.4400  3927.4400  3878.8400\n",
       "2019-07-04  3873.1000  3895.2000  3906.8900  3854.6900\n",
       "2019-07-05  3893.2000  3875.3700  3900.3100  3857.9300\n",
       "2019-07-08  3802.7900  3875.7500  3875.7500  3775.0300\n",
       "2019-07-09  3793.1300  3798.1000  3811.1000  3774.7600\n",
       "2019-07-10  3786.7400  3807.9500  3810.4000  3774.2300\n",
       "2019-07-11  3785.2200  3806.1900  3830.7400  3774.4100\n",
       "2019-07-12  3808.7300  3783.0700  3820.2400  3774.5200\n",
       "2019-07-15  3824.1900  3792.6400  3844.8700  3745.8500\n",
       "2019-07-16  3806.8400  3819.2500  3828.3300  3799.8700\n",
       "2019-07-17  3804.6400  3800.1100  3820.2700  3787.9000\n",
       "2019-07-18  3768.4000  3793.1900  3793.3900  3768.0000\n",
       "2019-07-19  3807.9600  3787.5100  3828.1500  3787.5100\n",
       "2019-07-22  3781.6800  3813.5000  3816.5400  3765.4400\n",
       "2019-07-23  3789.9100  3783.5400  3792.9600  3768.7600\n",
       "2019-07-24  3819.8300  3803.5900  3840.0600  3803.5700\n",
       "2019-07-25  3851.0700  3821.3900  3851.0700  3812.9500\n",
       "2019-07-26  3858.5700  3835.2300  3863.5900  3832.5200\n",
       "2019-07-29  3854.2700  3857.9400  3862.7500  3842.4300\n",
       "2019-07-30  3870.3200  3861.5700  3890.7300  3861.5700\n",
       "2019-07-31  3835.3600  3856.7400  3856.7400  3830.0900\n",
       "2019-08-01  3803.4700  3819.3200  3831.2600  3791.5500\n",
       "2019-08-02  3747.4400  3729.1300  3754.5300  3720.0600\n",
       "2019-08-05  3675.6900  3724.4100  3739.5000  3675.6900\n",
       "2019-08-06  3636.3300  3609.1100  3649.9000  3575.8600\n",
       "2019-08-07  3621.4300  3654.6300  3659.0800  3621.4300\n",
       "2019-08-08  3669.2900  3651.3600  3675.4600  3646.9400\n",
       "2019-08-09  3633.5300  3686.7500  3689.1800  3628.1200\n",
       "...               ...        ...        ...        ...\n",
       "2019-08-19  3791.0900  3736.0300  3791.0900  3720.6900\n",
       "2019-08-20  3787.7300  3786.0300  3799.9000  3778.7300\n",
       "2019-08-21  3781.7600  3778.3100  3792.6000  3775.4500\n",
       "2019-08-22  3793.5100  3793.8600  3797.3300  3771.2000\n",
       "2019-08-23  3820.8600  3796.8800  3829.3600  3788.0300\n",
       "2019-08-26  3765.9100  3756.3600  3778.8700  3753.1600\n",
       "2019-08-27  3816.9500  3791.4600  3848.2400  3790.8700\n",
       "2019-08-28  3802.5800  3818.8100  3822.5900  3790.1400\n",
       "2019-08-29  3790.1900  3805.4900  3808.6000  3774.4000\n",
       "2019-08-30  3799.5900  3816.6800  3828.9700  3778.9200\n",
       "2019-09-02  3848.3200  3803.6900  3855.7800  3799.8200\n",
       "2019-09-03  3853.6100  3852.5800  3856.6800  3833.7600\n",
       "2019-09-04  3886.0000  3848.6500  3886.0000  3846.4200\n",
       "2019-09-05  3925.3200  3909.2100  3970.0000  3909.2100\n",
       "2019-09-06  3948.5100  3946.6900  3948.5400  3922.3400\n",
       "2019-09-09  3972.9500  3980.9600  3985.2400  3954.8800\n",
       "2019-09-10  3959.2600  3976.8700  3976.9200  3938.7400\n",
       "2019-09-11  3930.1000  3969.6800  3971.2200  3922.9500\n",
       "2019-09-12  3972.3800  3944.6900  3975.9300  3933.4400\n",
       "2019-09-16  3957.7200  3981.3600  3982.2000  3943.3700\n",
       "2019-09-17  3891.2200  3947.1600  3947.1600  3879.4900\n",
       "2019-09-18  3910.0800  3902.9900  3923.1500  3902.5100\n",
       "2019-09-19  3924.3800  3923.9600  3924.3800  3897.0700\n",
       "2019-09-20  3935.6500  3933.4600  3942.2200  3921.4100\n",
       "2019-09-23  3890.6600  3925.1900  3925.1900  3868.2100\n",
       "2019-09-24  3901.0800  3895.8700  3927.0100  3886.1400\n",
       "2019-09-25  3870.9837  3887.5548  3889.8390  3867.2277\n",
       "2019-09-26  3870.9837  3870.9837  3870.9837  3870.9837\n",
       "2019-09-27  3870.9837  3870.9837  3870.9837  3870.9837\n",
       "2019-09-30  3870.9837  3870.9837  3870.9837  3870.9837\n",
       "\n",
       "[65 rows x 4 columns]"
      ]
     },
     "execution_count": 152,
     "metadata": {},
     "output_type": "execute_result"
    }
   ],
   "source": [
    "# 获取HS300周K收盘价\n",
    "df = get_price('000300.XSHG', start_date='2019-07-01', end_date='2019-09-30', frequency='1d', fields=['close','open','high','low'], skip_paused=False, fq='pre')\n",
    "df"
   ]
  },
  {
   "cell_type": "code",
   "execution_count": 153,
   "metadata": {},
   "outputs": [
    {
     "name": "stdout",
     "output_type": "stream",
     "text": [
      "2019-07-01         NaN\n",
      "2019-07-02         NaN\n",
      "2019-07-03         NaN\n",
      "2019-07-04         NaN\n",
      "2019-07-05         NaN\n",
      "2019-07-08         NaN\n",
      "2019-07-09         NaN\n",
      "2019-07-10         NaN\n",
      "2019-07-11         NaN\n",
      "2019-07-12    3850.942\n",
      "2019-07-15    3839.780\n",
      "2019-07-16    3826.747\n",
      "2019-07-17    3817.858\n",
      "2019-07-18    3807.388\n",
      "2019-07-19    3798.864\n",
      "2019-07-22    3796.753\n",
      "2019-07-23    3796.431\n",
      "2019-07-24    3799.740\n",
      "2019-07-25    3806.325\n",
      "2019-07-26    3811.309\n",
      "Name: close, dtype: float64\n"
     ]
    }
   ],
   "source": [
    "print(df[\"close\"].rolling(window=10).mean().head(20))"
   ]
  },
  {
   "cell_type": "code",
   "execution_count": 154,
   "metadata": {
    "scrolled": true
   },
   "outputs": [
    {
     "data": {
      "text/html": [
       "<div>\n",
       "<style scoped>\n",
       "    .dataframe tbody tr th:only-of-type {\n",
       "        vertical-align: middle;\n",
       "    }\n",
       "\n",
       "    .dataframe tbody tr th {\n",
       "        vertical-align: top;\n",
       "    }\n",
       "\n",
       "    .dataframe thead th {\n",
       "        text-align: right;\n",
       "    }\n",
       "</style>\n",
       "<table border=\"1\" class=\"dataframe\">\n",
       "  <thead>\n",
       "    <tr style=\"text-align: right;\">\n",
       "      <th></th>\n",
       "      <th>close</th>\n",
       "      <th>open</th>\n",
       "      <th>high</th>\n",
       "      <th>low</th>\n",
       "      <th>SMA</th>\n",
       "      <th>EMA</th>\n",
       "    </tr>\n",
       "  </thead>\n",
       "  <tbody>\n",
       "    <tr>\n",
       "      <th>2019-07-01</th>\n",
       "      <td>3935.8100</td>\n",
       "      <td>3899.3300</td>\n",
       "      <td>3936.6700</td>\n",
       "      <td>3886.9100</td>\n",
       "      <td>NaN</td>\n",
       "      <td>NaN</td>\n",
       "    </tr>\n",
       "    <tr>\n",
       "      <th>2019-07-02</th>\n",
       "      <td>3937.1700</td>\n",
       "      <td>3931.0500</td>\n",
       "      <td>3942.4300</td>\n",
       "      <td>3918.9400</td>\n",
       "      <td>NaN</td>\n",
       "      <td>NaN</td>\n",
       "    </tr>\n",
       "    <tr>\n",
       "      <th>2019-07-03</th>\n",
       "      <td>3893.5300</td>\n",
       "      <td>3927.4400</td>\n",
       "      <td>3927.4400</td>\n",
       "      <td>3878.8400</td>\n",
       "      <td>NaN</td>\n",
       "      <td>NaN</td>\n",
       "    </tr>\n",
       "    <tr>\n",
       "      <th>2019-07-04</th>\n",
       "      <td>3873.1000</td>\n",
       "      <td>3895.2000</td>\n",
       "      <td>3906.8900</td>\n",
       "      <td>3854.6900</td>\n",
       "      <td>NaN</td>\n",
       "      <td>NaN</td>\n",
       "    </tr>\n",
       "    <tr>\n",
       "      <th>2019-07-05</th>\n",
       "      <td>3893.2000</td>\n",
       "      <td>3875.3700</td>\n",
       "      <td>3900.3100</td>\n",
       "      <td>3857.9300</td>\n",
       "      <td>NaN</td>\n",
       "      <td>NaN</td>\n",
       "    </tr>\n",
       "    <tr>\n",
       "      <th>2019-07-08</th>\n",
       "      <td>3802.7900</td>\n",
       "      <td>3875.7500</td>\n",
       "      <td>3875.7500</td>\n",
       "      <td>3775.0300</td>\n",
       "      <td>NaN</td>\n",
       "      <td>NaN</td>\n",
       "    </tr>\n",
       "    <tr>\n",
       "      <th>2019-07-09</th>\n",
       "      <td>3793.1300</td>\n",
       "      <td>3798.1000</td>\n",
       "      <td>3811.1000</td>\n",
       "      <td>3774.7600</td>\n",
       "      <td>NaN</td>\n",
       "      <td>NaN</td>\n",
       "    </tr>\n",
       "    <tr>\n",
       "      <th>2019-07-10</th>\n",
       "      <td>3786.7400</td>\n",
       "      <td>3807.9500</td>\n",
       "      <td>3810.4000</td>\n",
       "      <td>3774.2300</td>\n",
       "      <td>NaN</td>\n",
       "      <td>NaN</td>\n",
       "    </tr>\n",
       "    <tr>\n",
       "      <th>2019-07-11</th>\n",
       "      <td>3785.2200</td>\n",
       "      <td>3806.1900</td>\n",
       "      <td>3830.7400</td>\n",
       "      <td>3774.4100</td>\n",
       "      <td>NaN</td>\n",
       "      <td>NaN</td>\n",
       "    </tr>\n",
       "    <tr>\n",
       "      <th>2019-07-12</th>\n",
       "      <td>3808.7300</td>\n",
       "      <td>3783.0700</td>\n",
       "      <td>3820.2400</td>\n",
       "      <td>3774.5200</td>\n",
       "      <td>NaN</td>\n",
       "      <td>NaN</td>\n",
       "    </tr>\n",
       "    <tr>\n",
       "      <th>2019-07-15</th>\n",
       "      <td>3824.1900</td>\n",
       "      <td>3792.6400</td>\n",
       "      <td>3844.8700</td>\n",
       "      <td>3745.8500</td>\n",
       "      <td>NaN</td>\n",
       "      <td>NaN</td>\n",
       "    </tr>\n",
       "    <tr>\n",
       "      <th>2019-07-16</th>\n",
       "      <td>3806.8400</td>\n",
       "      <td>3819.2500</td>\n",
       "      <td>3828.3300</td>\n",
       "      <td>3799.8700</td>\n",
       "      <td>NaN</td>\n",
       "      <td>NaN</td>\n",
       "    </tr>\n",
       "    <tr>\n",
       "      <th>2019-07-17</th>\n",
       "      <td>3804.6400</td>\n",
       "      <td>3800.1100</td>\n",
       "      <td>3820.2700</td>\n",
       "      <td>3787.9000</td>\n",
       "      <td>NaN</td>\n",
       "      <td>NaN</td>\n",
       "    </tr>\n",
       "    <tr>\n",
       "      <th>2019-07-18</th>\n",
       "      <td>3768.4000</td>\n",
       "      <td>3793.1900</td>\n",
       "      <td>3793.3900</td>\n",
       "      <td>3768.0000</td>\n",
       "      <td>NaN</td>\n",
       "      <td>NaN</td>\n",
       "    </tr>\n",
       "    <tr>\n",
       "      <th>2019-07-19</th>\n",
       "      <td>3807.9600</td>\n",
       "      <td>3787.5100</td>\n",
       "      <td>3828.1500</td>\n",
       "      <td>3787.5100</td>\n",
       "      <td>NaN</td>\n",
       "      <td>NaN</td>\n",
       "    </tr>\n",
       "    <tr>\n",
       "      <th>2019-07-22</th>\n",
       "      <td>3781.6800</td>\n",
       "      <td>3813.5000</td>\n",
       "      <td>3816.5400</td>\n",
       "      <td>3765.4400</td>\n",
       "      <td>NaN</td>\n",
       "      <td>NaN</td>\n",
       "    </tr>\n",
       "    <tr>\n",
       "      <th>2019-07-23</th>\n",
       "      <td>3789.9100</td>\n",
       "      <td>3783.5400</td>\n",
       "      <td>3792.9600</td>\n",
       "      <td>3768.7600</td>\n",
       "      <td>NaN</td>\n",
       "      <td>NaN</td>\n",
       "    </tr>\n",
       "    <tr>\n",
       "      <th>2019-07-24</th>\n",
       "      <td>3819.8300</td>\n",
       "      <td>3803.5900</td>\n",
       "      <td>3840.0600</td>\n",
       "      <td>3803.5700</td>\n",
       "      <td>NaN</td>\n",
       "      <td>NaN</td>\n",
       "    </tr>\n",
       "    <tr>\n",
       "      <th>2019-07-25</th>\n",
       "      <td>3851.0700</td>\n",
       "      <td>3821.3900</td>\n",
       "      <td>3851.0700</td>\n",
       "      <td>3812.9500</td>\n",
       "      <td>NaN</td>\n",
       "      <td>NaN</td>\n",
       "    </tr>\n",
       "    <tr>\n",
       "      <th>2019-07-26</th>\n",
       "      <td>3858.5700</td>\n",
       "      <td>3835.2300</td>\n",
       "      <td>3863.5900</td>\n",
       "      <td>3832.5200</td>\n",
       "      <td>3831.125500</td>\n",
       "      <td>3831.125500</td>\n",
       "    </tr>\n",
       "    <tr>\n",
       "      <th>2019-07-29</th>\n",
       "      <td>3854.2700</td>\n",
       "      <td>3857.9400</td>\n",
       "      <td>3862.7500</td>\n",
       "      <td>3842.4300</td>\n",
       "      <td>3827.048500</td>\n",
       "      <td>3833.329738</td>\n",
       "    </tr>\n",
       "    <tr>\n",
       "      <th>2019-07-30</th>\n",
       "      <td>3870.3200</td>\n",
       "      <td>3861.5700</td>\n",
       "      <td>3890.7300</td>\n",
       "      <td>3861.5700</td>\n",
       "      <td>3823.706000</td>\n",
       "      <td>3836.852620</td>\n",
       "    </tr>\n",
       "    <tr>\n",
       "      <th>2019-07-31</th>\n",
       "      <td>3835.3600</td>\n",
       "      <td>3856.7400</td>\n",
       "      <td>3856.7400</td>\n",
       "      <td>3830.0900</td>\n",
       "      <td>3820.797500</td>\n",
       "      <td>3836.710466</td>\n",
       "    </tr>\n",
       "    <tr>\n",
       "      <th>2019-08-01</th>\n",
       "      <td>3803.4700</td>\n",
       "      <td>3819.3200</td>\n",
       "      <td>3831.2600</td>\n",
       "      <td>3791.5500</td>\n",
       "      <td>3817.316000</td>\n",
       "      <td>3833.544707</td>\n",
       "    </tr>\n",
       "    <tr>\n",
       "      <th>2019-08-02</th>\n",
       "      <td>3747.4400</td>\n",
       "      <td>3729.1300</td>\n",
       "      <td>3754.5300</td>\n",
       "      <td>3720.0600</td>\n",
       "      <td>3810.028000</td>\n",
       "      <td>3825.344259</td>\n",
       "    </tr>\n",
       "    <tr>\n",
       "      <th>2019-08-05</th>\n",
       "      <td>3675.6900</td>\n",
       "      <td>3724.4100</td>\n",
       "      <td>3739.5000</td>\n",
       "      <td>3675.6900</td>\n",
       "      <td>3803.673000</td>\n",
       "      <td>3811.091472</td>\n",
       "    </tr>\n",
       "    <tr>\n",
       "      <th>2019-08-06</th>\n",
       "      <td>3636.3300</td>\n",
       "      <td>3609.1100</td>\n",
       "      <td>3649.9000</td>\n",
       "      <td>3575.8600</td>\n",
       "      <td>3795.833000</td>\n",
       "      <td>3794.447523</td>\n",
       "    </tr>\n",
       "    <tr>\n",
       "      <th>2019-08-07</th>\n",
       "      <td>3621.4300</td>\n",
       "      <td>3654.6300</td>\n",
       "      <td>3659.0800</td>\n",
       "      <td>3621.4300</td>\n",
       "      <td>3787.567500</td>\n",
       "      <td>3777.969663</td>\n",
       "    </tr>\n",
       "    <tr>\n",
       "      <th>2019-08-08</th>\n",
       "      <td>3669.2900</td>\n",
       "      <td>3651.3600</td>\n",
       "      <td>3675.4600</td>\n",
       "      <td>3646.9400</td>\n",
       "      <td>3781.771000</td>\n",
       "      <td>3767.619219</td>\n",
       "    </tr>\n",
       "    <tr>\n",
       "      <th>2019-08-09</th>\n",
       "      <td>3633.5300</td>\n",
       "      <td>3686.7500</td>\n",
       "      <td>3689.1800</td>\n",
       "      <td>3628.1200</td>\n",
       "      <td>3773.011000</td>\n",
       "      <td>3754.848817</td>\n",
       "    </tr>\n",
       "    <tr>\n",
       "      <th>...</th>\n",
       "      <td>...</td>\n",
       "      <td>...</td>\n",
       "      <td>...</td>\n",
       "      <td>...</td>\n",
       "      <td>...</td>\n",
       "      <td>...</td>\n",
       "    </tr>\n",
       "    <tr>\n",
       "      <th>2019-08-19</th>\n",
       "      <td>3791.0900</td>\n",
       "      <td>3736.0300</td>\n",
       "      <td>3791.0900</td>\n",
       "      <td>3720.6900</td>\n",
       "      <td>3745.469500</td>\n",
       "      <td>3735.723080</td>\n",
       "    </tr>\n",
       "    <tr>\n",
       "      <th>2019-08-20</th>\n",
       "      <td>3787.7300</td>\n",
       "      <td>3786.0300</td>\n",
       "      <td>3799.9000</td>\n",
       "      <td>3778.7300</td>\n",
       "      <td>3745.360500</td>\n",
       "      <td>3740.676120</td>\n",
       "    </tr>\n",
       "    <tr>\n",
       "      <th>2019-08-21</th>\n",
       "      <td>3781.7600</td>\n",
       "      <td>3778.3100</td>\n",
       "      <td>3792.6000</td>\n",
       "      <td>3775.4500</td>\n",
       "      <td>3743.457000</td>\n",
       "      <td>3744.588870</td>\n",
       "    </tr>\n",
       "    <tr>\n",
       "      <th>2019-08-22</th>\n",
       "      <td>3793.5100</td>\n",
       "      <td>3793.8600</td>\n",
       "      <td>3797.3300</td>\n",
       "      <td>3771.2000</td>\n",
       "      <td>3740.579000</td>\n",
       "      <td>3749.248025</td>\n",
       "    </tr>\n",
       "    <tr>\n",
       "      <th>2019-08-23</th>\n",
       "      <td>3820.8600</td>\n",
       "      <td>3796.8800</td>\n",
       "      <td>3829.3600</td>\n",
       "      <td>3788.0300</td>\n",
       "      <td>3738.693500</td>\n",
       "      <td>3756.068213</td>\n",
       "    </tr>\n",
       "    <tr>\n",
       "      <th>2019-08-26</th>\n",
       "      <td>3765.9100</td>\n",
       "      <td>3756.3600</td>\n",
       "      <td>3778.8700</td>\n",
       "      <td>3753.1600</td>\n",
       "      <td>3734.275500</td>\n",
       "      <td>3757.005526</td>\n",
       "    </tr>\n",
       "    <tr>\n",
       "      <th>2019-08-27</th>\n",
       "      <td>3816.9500</td>\n",
       "      <td>3791.4600</td>\n",
       "      <td>3848.2400</td>\n",
       "      <td>3790.8700</td>\n",
       "      <td>3731.607000</td>\n",
       "      <td>3762.714524</td>\n",
       "    </tr>\n",
       "    <tr>\n",
       "      <th>2019-08-28</th>\n",
       "      <td>3802.5800</td>\n",
       "      <td>3818.8100</td>\n",
       "      <td>3822.5900</td>\n",
       "      <td>3790.1400</td>\n",
       "      <td>3729.968000</td>\n",
       "      <td>3766.511236</td>\n",
       "    </tr>\n",
       "    <tr>\n",
       "      <th>2019-08-29</th>\n",
       "      <td>3790.1900</td>\n",
       "      <td>3805.4900</td>\n",
       "      <td>3808.6000</td>\n",
       "      <td>3774.4000</td>\n",
       "      <td>3729.304000</td>\n",
       "      <td>3768.766356</td>\n",
       "    </tr>\n",
       "    <tr>\n",
       "      <th>2019-08-30</th>\n",
       "      <td>3799.5900</td>\n",
       "      <td>3816.6800</td>\n",
       "      <td>3828.9700</td>\n",
       "      <td>3778.9200</td>\n",
       "      <td>3731.911500</td>\n",
       "      <td>3771.701941</td>\n",
       "    </tr>\n",
       "    <tr>\n",
       "      <th>2019-09-02</th>\n",
       "      <td>3848.3200</td>\n",
       "      <td>3803.6900</td>\n",
       "      <td>3855.7800</td>\n",
       "      <td>3799.8200</td>\n",
       "      <td>3740.543000</td>\n",
       "      <td>3778.998899</td>\n",
       "    </tr>\n",
       "    <tr>\n",
       "      <th>2019-09-03</th>\n",
       "      <td>3853.6100</td>\n",
       "      <td>3852.5800</td>\n",
       "      <td>3856.6800</td>\n",
       "      <td>3833.7600</td>\n",
       "      <td>3751.407000</td>\n",
       "      <td>3786.104718</td>\n",
       "    </tr>\n",
       "    <tr>\n",
       "      <th>2019-09-04</th>\n",
       "      <td>3886.0000</td>\n",
       "      <td>3848.6500</td>\n",
       "      <td>3886.0000</td>\n",
       "      <td>3846.4200</td>\n",
       "      <td>3764.635500</td>\n",
       "      <td>3795.618555</td>\n",
       "    </tr>\n",
       "    <tr>\n",
       "      <th>2019-09-05</th>\n",
       "      <td>3925.3200</td>\n",
       "      <td>3909.2100</td>\n",
       "      <td>3970.0000</td>\n",
       "      <td>3909.2100</td>\n",
       "      <td>3777.437000</td>\n",
       "      <td>3807.971073</td>\n",
       "    </tr>\n",
       "    <tr>\n",
       "      <th>2019-09-06</th>\n",
       "      <td>3948.5100</td>\n",
       "      <td>3946.6900</td>\n",
       "      <td>3948.5400</td>\n",
       "      <td>3922.3400</td>\n",
       "      <td>3793.186000</td>\n",
       "      <td>3821.355733</td>\n",
       "    </tr>\n",
       "    <tr>\n",
       "      <th>2019-09-09</th>\n",
       "      <td>3972.9500</td>\n",
       "      <td>3980.9600</td>\n",
       "      <td>3985.2400</td>\n",
       "      <td>3954.8800</td>\n",
       "      <td>3806.878500</td>\n",
       "      <td>3835.793282</td>\n",
       "    </tr>\n",
       "    <tr>\n",
       "      <th>2019-09-10</th>\n",
       "      <td>3959.2600</td>\n",
       "      <td>3976.8700</td>\n",
       "      <td>3976.9200</td>\n",
       "      <td>3938.7400</td>\n",
       "      <td>3821.554000</td>\n",
       "      <td>3847.552017</td>\n",
       "    </tr>\n",
       "    <tr>\n",
       "      <th>2019-09-11</th>\n",
       "      <td>3930.1000</td>\n",
       "      <td>3969.6800</td>\n",
       "      <td>3971.2200</td>\n",
       "      <td>3922.9500</td>\n",
       "      <td>3833.939000</td>\n",
       "      <td>3855.413730</td>\n",
       "    </tr>\n",
       "    <tr>\n",
       "      <th>2019-09-12</th>\n",
       "      <td>3972.3800</td>\n",
       "      <td>3944.6900</td>\n",
       "      <td>3975.9300</td>\n",
       "      <td>3933.4400</td>\n",
       "      <td>3847.858000</td>\n",
       "      <td>3866.553375</td>\n",
       "    </tr>\n",
       "    <tr>\n",
       "      <th>2019-09-16</th>\n",
       "      <td>3957.7200</td>\n",
       "      <td>3981.3600</td>\n",
       "      <td>3982.2000</td>\n",
       "      <td>3943.3700</td>\n",
       "      <td>3860.217000</td>\n",
       "      <td>3875.235910</td>\n",
       "    </tr>\n",
       "    <tr>\n",
       "      <th>2019-09-17</th>\n",
       "      <td>3891.2200</td>\n",
       "      <td>3947.1600</td>\n",
       "      <td>3947.1600</td>\n",
       "      <td>3879.4900</td>\n",
       "      <td>3865.223500</td>\n",
       "      <td>3876.758205</td>\n",
       "    </tr>\n",
       "    <tr>\n",
       "      <th>2019-09-18</th>\n",
       "      <td>3910.0800</td>\n",
       "      <td>3902.9900</td>\n",
       "      <td>3923.1500</td>\n",
       "      <td>3902.5100</td>\n",
       "      <td>3871.341000</td>\n",
       "      <td>3879.931709</td>\n",
       "    </tr>\n",
       "    <tr>\n",
       "      <th>2019-09-19</th>\n",
       "      <td>3924.3800</td>\n",
       "      <td>3923.9600</td>\n",
       "      <td>3924.3800</td>\n",
       "      <td>3897.0700</td>\n",
       "      <td>3878.472000</td>\n",
       "      <td>3884.164880</td>\n",
       "    </tr>\n",
       "    <tr>\n",
       "      <th>2019-09-20</th>\n",
       "      <td>3935.6500</td>\n",
       "      <td>3933.4600</td>\n",
       "      <td>3942.2200</td>\n",
       "      <td>3921.4100</td>\n",
       "      <td>3885.579000</td>\n",
       "      <td>3889.068224</td>\n",
       "    </tr>\n",
       "    <tr>\n",
       "      <th>2019-09-23</th>\n",
       "      <td>3890.6600</td>\n",
       "      <td>3925.1900</td>\n",
       "      <td>3925.1900</td>\n",
       "      <td>3868.2100</td>\n",
       "      <td>3889.069000</td>\n",
       "      <td>3889.219822</td>\n",
       "    </tr>\n",
       "    <tr>\n",
       "      <th>2019-09-24</th>\n",
       "      <td>3901.0800</td>\n",
       "      <td>3895.8700</td>\n",
       "      <td>3927.0100</td>\n",
       "      <td>3886.1400</td>\n",
       "      <td>3895.827500</td>\n",
       "      <td>3890.349363</td>\n",
       "    </tr>\n",
       "    <tr>\n",
       "      <th>2019-09-25</th>\n",
       "      <td>3870.9837</td>\n",
       "      <td>3887.5548</td>\n",
       "      <td>3889.8390</td>\n",
       "      <td>3867.2277</td>\n",
       "      <td>3898.529185</td>\n",
       "      <td>3888.505014</td>\n",
       "    </tr>\n",
       "    <tr>\n",
       "      <th>2019-09-26</th>\n",
       "      <td>3870.9837</td>\n",
       "      <td>3870.9837</td>\n",
       "      <td>3870.9837</td>\n",
       "      <td>3870.9837</td>\n",
       "      <td>3901.949370</td>\n",
       "      <td>3886.836317</td>\n",
       "    </tr>\n",
       "    <tr>\n",
       "      <th>2019-09-27</th>\n",
       "      <td>3870.9837</td>\n",
       "      <td>3870.9837</td>\n",
       "      <td>3870.9837</td>\n",
       "      <td>3870.9837</td>\n",
       "      <td>3905.989055</td>\n",
       "      <td>3885.326544</td>\n",
       "    </tr>\n",
       "    <tr>\n",
       "      <th>2019-09-30</th>\n",
       "      <td>3870.9837</td>\n",
       "      <td>3870.9837</td>\n",
       "      <td>3870.9837</td>\n",
       "      <td>3870.9837</td>\n",
       "      <td>3909.558740</td>\n",
       "      <td>3883.960559</td>\n",
       "    </tr>\n",
       "  </tbody>\n",
       "</table>\n",
       "<p>65 rows × 6 columns</p>\n",
       "</div>"
      ],
      "text/plain": [
       "                close       open       high        low          SMA  \\\n",
       "2019-07-01  3935.8100  3899.3300  3936.6700  3886.9100          NaN   \n",
       "2019-07-02  3937.1700  3931.0500  3942.4300  3918.9400          NaN   \n",
       "2019-07-03  3893.5300  3927.4400  3927.4400  3878.8400          NaN   \n",
       "2019-07-04  3873.1000  3895.2000  3906.8900  3854.6900          NaN   \n",
       "2019-07-05  3893.2000  3875.3700  3900.3100  3857.9300          NaN   \n",
       "2019-07-08  3802.7900  3875.7500  3875.7500  3775.0300          NaN   \n",
       "2019-07-09  3793.1300  3798.1000  3811.1000  3774.7600          NaN   \n",
       "2019-07-10  3786.7400  3807.9500  3810.4000  3774.2300          NaN   \n",
       "2019-07-11  3785.2200  3806.1900  3830.7400  3774.4100          NaN   \n",
       "2019-07-12  3808.7300  3783.0700  3820.2400  3774.5200          NaN   \n",
       "2019-07-15  3824.1900  3792.6400  3844.8700  3745.8500          NaN   \n",
       "2019-07-16  3806.8400  3819.2500  3828.3300  3799.8700          NaN   \n",
       "2019-07-17  3804.6400  3800.1100  3820.2700  3787.9000          NaN   \n",
       "2019-07-18  3768.4000  3793.1900  3793.3900  3768.0000          NaN   \n",
       "2019-07-19  3807.9600  3787.5100  3828.1500  3787.5100          NaN   \n",
       "2019-07-22  3781.6800  3813.5000  3816.5400  3765.4400          NaN   \n",
       "2019-07-23  3789.9100  3783.5400  3792.9600  3768.7600          NaN   \n",
       "2019-07-24  3819.8300  3803.5900  3840.0600  3803.5700          NaN   \n",
       "2019-07-25  3851.0700  3821.3900  3851.0700  3812.9500          NaN   \n",
       "2019-07-26  3858.5700  3835.2300  3863.5900  3832.5200  3831.125500   \n",
       "2019-07-29  3854.2700  3857.9400  3862.7500  3842.4300  3827.048500   \n",
       "2019-07-30  3870.3200  3861.5700  3890.7300  3861.5700  3823.706000   \n",
       "2019-07-31  3835.3600  3856.7400  3856.7400  3830.0900  3820.797500   \n",
       "2019-08-01  3803.4700  3819.3200  3831.2600  3791.5500  3817.316000   \n",
       "2019-08-02  3747.4400  3729.1300  3754.5300  3720.0600  3810.028000   \n",
       "2019-08-05  3675.6900  3724.4100  3739.5000  3675.6900  3803.673000   \n",
       "2019-08-06  3636.3300  3609.1100  3649.9000  3575.8600  3795.833000   \n",
       "2019-08-07  3621.4300  3654.6300  3659.0800  3621.4300  3787.567500   \n",
       "2019-08-08  3669.2900  3651.3600  3675.4600  3646.9400  3781.771000   \n",
       "2019-08-09  3633.5300  3686.7500  3689.1800  3628.1200  3773.011000   \n",
       "...               ...        ...        ...        ...          ...   \n",
       "2019-08-19  3791.0900  3736.0300  3791.0900  3720.6900  3745.469500   \n",
       "2019-08-20  3787.7300  3786.0300  3799.9000  3778.7300  3745.360500   \n",
       "2019-08-21  3781.7600  3778.3100  3792.6000  3775.4500  3743.457000   \n",
       "2019-08-22  3793.5100  3793.8600  3797.3300  3771.2000  3740.579000   \n",
       "2019-08-23  3820.8600  3796.8800  3829.3600  3788.0300  3738.693500   \n",
       "2019-08-26  3765.9100  3756.3600  3778.8700  3753.1600  3734.275500   \n",
       "2019-08-27  3816.9500  3791.4600  3848.2400  3790.8700  3731.607000   \n",
       "2019-08-28  3802.5800  3818.8100  3822.5900  3790.1400  3729.968000   \n",
       "2019-08-29  3790.1900  3805.4900  3808.6000  3774.4000  3729.304000   \n",
       "2019-08-30  3799.5900  3816.6800  3828.9700  3778.9200  3731.911500   \n",
       "2019-09-02  3848.3200  3803.6900  3855.7800  3799.8200  3740.543000   \n",
       "2019-09-03  3853.6100  3852.5800  3856.6800  3833.7600  3751.407000   \n",
       "2019-09-04  3886.0000  3848.6500  3886.0000  3846.4200  3764.635500   \n",
       "2019-09-05  3925.3200  3909.2100  3970.0000  3909.2100  3777.437000   \n",
       "2019-09-06  3948.5100  3946.6900  3948.5400  3922.3400  3793.186000   \n",
       "2019-09-09  3972.9500  3980.9600  3985.2400  3954.8800  3806.878500   \n",
       "2019-09-10  3959.2600  3976.8700  3976.9200  3938.7400  3821.554000   \n",
       "2019-09-11  3930.1000  3969.6800  3971.2200  3922.9500  3833.939000   \n",
       "2019-09-12  3972.3800  3944.6900  3975.9300  3933.4400  3847.858000   \n",
       "2019-09-16  3957.7200  3981.3600  3982.2000  3943.3700  3860.217000   \n",
       "2019-09-17  3891.2200  3947.1600  3947.1600  3879.4900  3865.223500   \n",
       "2019-09-18  3910.0800  3902.9900  3923.1500  3902.5100  3871.341000   \n",
       "2019-09-19  3924.3800  3923.9600  3924.3800  3897.0700  3878.472000   \n",
       "2019-09-20  3935.6500  3933.4600  3942.2200  3921.4100  3885.579000   \n",
       "2019-09-23  3890.6600  3925.1900  3925.1900  3868.2100  3889.069000   \n",
       "2019-09-24  3901.0800  3895.8700  3927.0100  3886.1400  3895.827500   \n",
       "2019-09-25  3870.9837  3887.5548  3889.8390  3867.2277  3898.529185   \n",
       "2019-09-26  3870.9837  3870.9837  3870.9837  3870.9837  3901.949370   \n",
       "2019-09-27  3870.9837  3870.9837  3870.9837  3870.9837  3905.989055   \n",
       "2019-09-30  3870.9837  3870.9837  3870.9837  3870.9837  3909.558740   \n",
       "\n",
       "                    EMA  \n",
       "2019-07-01          NaN  \n",
       "2019-07-02          NaN  \n",
       "2019-07-03          NaN  \n",
       "2019-07-04          NaN  \n",
       "2019-07-05          NaN  \n",
       "2019-07-08          NaN  \n",
       "2019-07-09          NaN  \n",
       "2019-07-10          NaN  \n",
       "2019-07-11          NaN  \n",
       "2019-07-12          NaN  \n",
       "2019-07-15          NaN  \n",
       "2019-07-16          NaN  \n",
       "2019-07-17          NaN  \n",
       "2019-07-18          NaN  \n",
       "2019-07-19          NaN  \n",
       "2019-07-22          NaN  \n",
       "2019-07-23          NaN  \n",
       "2019-07-24          NaN  \n",
       "2019-07-25          NaN  \n",
       "2019-07-26  3831.125500  \n",
       "2019-07-29  3833.329738  \n",
       "2019-07-30  3836.852620  \n",
       "2019-07-31  3836.710466  \n",
       "2019-08-01  3833.544707  \n",
       "2019-08-02  3825.344259  \n",
       "2019-08-05  3811.091472  \n",
       "2019-08-06  3794.447523  \n",
       "2019-08-07  3777.969663  \n",
       "2019-08-08  3767.619219  \n",
       "2019-08-09  3754.848817  \n",
       "...                 ...  \n",
       "2019-08-19  3735.723080  \n",
       "2019-08-20  3740.676120  \n",
       "2019-08-21  3744.588870  \n",
       "2019-08-22  3749.248025  \n",
       "2019-08-23  3756.068213  \n",
       "2019-08-26  3757.005526  \n",
       "2019-08-27  3762.714524  \n",
       "2019-08-28  3766.511236  \n",
       "2019-08-29  3768.766356  \n",
       "2019-08-30  3771.701941  \n",
       "2019-09-02  3778.998899  \n",
       "2019-09-03  3786.104718  \n",
       "2019-09-04  3795.618555  \n",
       "2019-09-05  3807.971073  \n",
       "2019-09-06  3821.355733  \n",
       "2019-09-09  3835.793282  \n",
       "2019-09-10  3847.552017  \n",
       "2019-09-11  3855.413730  \n",
       "2019-09-12  3866.553375  \n",
       "2019-09-16  3875.235910  \n",
       "2019-09-17  3876.758205  \n",
       "2019-09-18  3879.931709  \n",
       "2019-09-19  3884.164880  \n",
       "2019-09-20  3889.068224  \n",
       "2019-09-23  3889.219822  \n",
       "2019-09-24  3890.349363  \n",
       "2019-09-25  3888.505014  \n",
       "2019-09-26  3886.836317  \n",
       "2019-09-27  3885.326544  \n",
       "2019-09-30  3883.960559  \n",
       "\n",
       "[65 rows x 6 columns]"
      ]
     },
     "execution_count": 154,
     "metadata": {},
     "output_type": "execute_result"
    }
   ],
   "source": [
    "df['SMA'] = ta.MA(df['close'], 20)\n",
    "df['EMA']  = ta.EMA(df['close'], 20)\n",
    "df"
   ]
  },
  {
   "cell_type": "code",
   "execution_count": 155,
   "metadata": {},
   "outputs": [
    {
     "data": {
      "image/png": "[encoded data removed]",
      "text/plain": [
       "<Figure size 1080x360 with 1 Axes>"
      ]
     },
     "metadata": {},
     "output_type": "display_data"
    }
   ],
   "source": [
    "import matplotlib.pyplot as plt\n",
    "fig = plt.figure(figsize=(15, 5))\n",
    "plt.plot(df['close'], label='close')\n",
    "plt.plot(df['SMA'], alpha=0.5, label='SMA')\n",
    "plt.plot(df['EMA'], alpha=0.5, label='EMA')\n",
    "plt.legend(loc='lower right')\n",
    "plt.show()"
   ]
  },
  {
   "cell_type": "code",
   "execution_count": 156,
   "metadata": {},
   "outputs": [
    {
     "data": {
      "text/html": [
       "<div>\n",
       "<style scoped>\n",
       "    .dataframe tbody tr th:only-of-type {\n",
       "        vertical-align: middle;\n",
       "    }\n",
       "\n",
       "    .dataframe tbody tr th {\n",
       "        vertical-align: top;\n",
       "    }\n",
       "\n",
       "    .dataframe thead th {\n",
       "        text-align: right;\n",
       "    }\n",
       "</style>\n",
       "<table border=\"1\" class=\"dataframe\">\n",
       "  <thead>\n",
       "    <tr style=\"text-align: right;\">\n",
       "      <th></th>\n",
       "      <th>close</th>\n",
       "      <th>open</th>\n",
       "      <th>high</th>\n",
       "      <th>low</th>\n",
       "      <th>SMA</th>\n",
       "      <th>EMA</th>\n",
       "      <th>diff</th>\n",
       "      <th>dea</th>\n",
       "      <th>macd</th>\n",
       "    </tr>\n",
       "  </thead>\n",
       "  <tbody>\n",
       "    <tr>\n",
       "      <th>2019-07-01</th>\n",
       "      <td>3935.8100</td>\n",
       "      <td>3899.3300</td>\n",
       "      <td>3936.6700</td>\n",
       "      <td>3886.9100</td>\n",
       "      <td>NaN</td>\n",
       "      <td>NaN</td>\n",
       "      <td>NaN</td>\n",
       "      <td>NaN</td>\n",
       "      <td>NaN</td>\n",
       "    </tr>\n",
       "    <tr>\n",
       "      <th>2019-07-02</th>\n",
       "      <td>3937.1700</td>\n",
       "      <td>3931.0500</td>\n",
       "      <td>3942.4300</td>\n",
       "      <td>3918.9400</td>\n",
       "      <td>NaN</td>\n",
       "      <td>NaN</td>\n",
       "      <td>NaN</td>\n",
       "      <td>NaN</td>\n",
       "      <td>NaN</td>\n",
       "    </tr>\n",
       "    <tr>\n",
       "      <th>2019-07-03</th>\n",
       "      <td>3893.5300</td>\n",
       "      <td>3927.4400</td>\n",
       "      <td>3927.4400</td>\n",
       "      <td>3878.8400</td>\n",
       "      <td>NaN</td>\n",
       "      <td>NaN</td>\n",
       "      <td>NaN</td>\n",
       "      <td>NaN</td>\n",
       "      <td>NaN</td>\n",
       "    </tr>\n",
       "    <tr>\n",
       "      <th>2019-07-04</th>\n",
       "      <td>3873.1000</td>\n",
       "      <td>3895.2000</td>\n",
       "      <td>3906.8900</td>\n",
       "      <td>3854.6900</td>\n",
       "      <td>NaN</td>\n",
       "      <td>NaN</td>\n",
       "      <td>NaN</td>\n",
       "      <td>NaN</td>\n",
       "      <td>NaN</td>\n",
       "    </tr>\n",
       "    <tr>\n",
       "      <th>2019-07-05</th>\n",
       "      <td>3893.2000</td>\n",
       "      <td>3875.3700</td>\n",
       "      <td>3900.3100</td>\n",
       "      <td>3857.9300</td>\n",
       "      <td>NaN</td>\n",
       "      <td>NaN</td>\n",
       "      <td>NaN</td>\n",
       "      <td>NaN</td>\n",
       "      <td>NaN</td>\n",
       "    </tr>\n",
       "    <tr>\n",
       "      <th>2019-07-08</th>\n",
       "      <td>3802.7900</td>\n",
       "      <td>3875.7500</td>\n",
       "      <td>3875.7500</td>\n",
       "      <td>3775.0300</td>\n",
       "      <td>NaN</td>\n",
       "      <td>NaN</td>\n",
       "      <td>NaN</td>\n",
       "      <td>NaN</td>\n",
       "      <td>NaN</td>\n",
       "    </tr>\n",
       "    <tr>\n",
       "      <th>2019-07-09</th>\n",
       "      <td>3793.1300</td>\n",
       "      <td>3798.1000</td>\n",
       "      <td>3811.1000</td>\n",
       "      <td>3774.7600</td>\n",
       "      <td>NaN</td>\n",
       "      <td>NaN</td>\n",
       "      <td>NaN</td>\n",
       "      <td>NaN</td>\n",
       "      <td>NaN</td>\n",
       "    </tr>\n",
       "    <tr>\n",
       "      <th>2019-07-10</th>\n",
       "      <td>3786.7400</td>\n",
       "      <td>3807.9500</td>\n",
       "      <td>3810.4000</td>\n",
       "      <td>3774.2300</td>\n",
       "      <td>NaN</td>\n",
       "      <td>NaN</td>\n",
       "      <td>NaN</td>\n",
       "      <td>NaN</td>\n",
       "      <td>NaN</td>\n",
       "    </tr>\n",
       "    <tr>\n",
       "      <th>2019-07-11</th>\n",
       "      <td>3785.2200</td>\n",
       "      <td>3806.1900</td>\n",
       "      <td>3830.7400</td>\n",
       "      <td>3774.4100</td>\n",
       "      <td>NaN</td>\n",
       "      <td>NaN</td>\n",
       "      <td>NaN</td>\n",
       "      <td>NaN</td>\n",
       "      <td>NaN</td>\n",
       "    </tr>\n",
       "    <tr>\n",
       "      <th>2019-07-12</th>\n",
       "      <td>3808.7300</td>\n",
       "      <td>3783.0700</td>\n",
       "      <td>3820.2400</td>\n",
       "      <td>3774.5200</td>\n",
       "      <td>NaN</td>\n",
       "      <td>NaN</td>\n",
       "      <td>NaN</td>\n",
       "      <td>NaN</td>\n",
       "      <td>NaN</td>\n",
       "    </tr>\n",
       "    <tr>\n",
       "      <th>2019-07-15</th>\n",
       "      <td>3824.1900</td>\n",
       "      <td>3792.6400</td>\n",
       "      <td>3844.8700</td>\n",
       "      <td>3745.8500</td>\n",
       "      <td>NaN</td>\n",
       "      <td>NaN</td>\n",
       "      <td>NaN</td>\n",
       "      <td>NaN</td>\n",
       "      <td>NaN</td>\n",
       "    </tr>\n",
       "    <tr>\n",
       "      <th>2019-07-16</th>\n",
       "      <td>3806.8400</td>\n",
       "      <td>3819.2500</td>\n",
       "      <td>3828.3300</td>\n",
       "      <td>3799.8700</td>\n",
       "      <td>NaN</td>\n",
       "      <td>NaN</td>\n",
       "      <td>NaN</td>\n",
       "      <td>NaN</td>\n",
       "      <td>NaN</td>\n",
       "    </tr>\n",
       "    <tr>\n",
       "      <th>2019-07-17</th>\n",
       "      <td>3804.6400</td>\n",
       "      <td>3800.1100</td>\n",
       "      <td>3820.2700</td>\n",
       "      <td>3787.9000</td>\n",
       "      <td>NaN</td>\n",
       "      <td>NaN</td>\n",
       "      <td>NaN</td>\n",
       "      <td>NaN</td>\n",
       "      <td>NaN</td>\n",
       "    </tr>\n",
       "    <tr>\n",
       "      <th>2019-07-18</th>\n",
       "      <td>3768.4000</td>\n",
       "      <td>3793.1900</td>\n",
       "      <td>3793.3900</td>\n",
       "      <td>3768.0000</td>\n",
       "      <td>NaN</td>\n",
       "      <td>NaN</td>\n",
       "      <td>NaN</td>\n",
       "      <td>NaN</td>\n",
       "      <td>NaN</td>\n",
       "    </tr>\n",
       "    <tr>\n",
       "      <th>2019-07-19</th>\n",
       "      <td>3807.9600</td>\n",
       "      <td>3787.5100</td>\n",
       "      <td>3828.1500</td>\n",
       "      <td>3787.5100</td>\n",
       "      <td>NaN</td>\n",
       "      <td>NaN</td>\n",
       "      <td>NaN</td>\n",
       "      <td>NaN</td>\n",
       "      <td>NaN</td>\n",
       "    </tr>\n",
       "    <tr>\n",
       "      <th>2019-07-22</th>\n",
       "      <td>3781.6800</td>\n",
       "      <td>3813.5000</td>\n",
       "      <td>3816.5400</td>\n",
       "      <td>3765.4400</td>\n",
       "      <td>NaN</td>\n",
       "      <td>NaN</td>\n",
       "      <td>NaN</td>\n",
       "      <td>NaN</td>\n",
       "      <td>NaN</td>\n",
       "    </tr>\n",
       "    <tr>\n",
       "      <th>2019-07-23</th>\n",
       "      <td>3789.9100</td>\n",
       "      <td>3783.5400</td>\n",
       "      <td>3792.9600</td>\n",
       "      <td>3768.7600</td>\n",
       "      <td>NaN</td>\n",
       "      <td>NaN</td>\n",
       "      <td>NaN</td>\n",
       "      <td>NaN</td>\n",
       "      <td>NaN</td>\n",
       "    </tr>\n",
       "    <tr>\n",
       "      <th>2019-07-24</th>\n",
       "      <td>3819.8300</td>\n",
       "      <td>3803.5900</td>\n",
       "      <td>3840.0600</td>\n",
       "      <td>3803.5700</td>\n",
       "      <td>NaN</td>\n",
       "      <td>NaN</td>\n",
       "      <td>NaN</td>\n",
       "      <td>NaN</td>\n",
       "      <td>NaN</td>\n",
       "    </tr>\n",
       "    <tr>\n",
       "      <th>2019-07-25</th>\n",
       "      <td>3851.0700</td>\n",
       "      <td>3821.3900</td>\n",
       "      <td>3851.0700</td>\n",
       "      <td>3812.9500</td>\n",
       "      <td>NaN</td>\n",
       "      <td>NaN</td>\n",
       "      <td>NaN</td>\n",
       "      <td>NaN</td>\n",
       "      <td>NaN</td>\n",
       "    </tr>\n",
       "    <tr>\n",
       "      <th>2019-07-26</th>\n",
       "      <td>3858.5700</td>\n",
       "      <td>3835.2300</td>\n",
       "      <td>3863.5900</td>\n",
       "      <td>3832.5200</td>\n",
       "      <td>3831.125500</td>\n",
       "      <td>3831.125500</td>\n",
       "      <td>NaN</td>\n",
       "      <td>NaN</td>\n",
       "      <td>NaN</td>\n",
       "    </tr>\n",
       "    <tr>\n",
       "      <th>2019-07-29</th>\n",
       "      <td>3854.2700</td>\n",
       "      <td>3857.9400</td>\n",
       "      <td>3862.7500</td>\n",
       "      <td>3842.4300</td>\n",
       "      <td>3827.048500</td>\n",
       "      <td>3833.329738</td>\n",
       "      <td>NaN</td>\n",
       "      <td>NaN</td>\n",
       "      <td>NaN</td>\n",
       "    </tr>\n",
       "    <tr>\n",
       "      <th>2019-07-30</th>\n",
       "      <td>3870.3200</td>\n",
       "      <td>3861.5700</td>\n",
       "      <td>3890.7300</td>\n",
       "      <td>3861.5700</td>\n",
       "      <td>3823.706000</td>\n",
       "      <td>3836.852620</td>\n",
       "      <td>NaN</td>\n",
       "      <td>NaN</td>\n",
       "      <td>NaN</td>\n",
       "    </tr>\n",
       "    <tr>\n",
       "      <th>2019-07-31</th>\n",
       "      <td>3835.3600</td>\n",
       "      <td>3856.7400</td>\n",
       "      <td>3856.7400</td>\n",
       "      <td>3830.0900</td>\n",
       "      <td>3820.797500</td>\n",
       "      <td>3836.710466</td>\n",
       "      <td>NaN</td>\n",
       "      <td>NaN</td>\n",
       "      <td>NaN</td>\n",
       "    </tr>\n",
       "    <tr>\n",
       "      <th>2019-08-01</th>\n",
       "      <td>3803.4700</td>\n",
       "      <td>3819.3200</td>\n",
       "      <td>3831.2600</td>\n",
       "      <td>3791.5500</td>\n",
       "      <td>3817.316000</td>\n",
       "      <td>3833.544707</td>\n",
       "      <td>NaN</td>\n",
       "      <td>NaN</td>\n",
       "      <td>NaN</td>\n",
       "    </tr>\n",
       "    <tr>\n",
       "      <th>2019-08-02</th>\n",
       "      <td>3747.4400</td>\n",
       "      <td>3729.1300</td>\n",
       "      <td>3754.5300</td>\n",
       "      <td>3720.0600</td>\n",
       "      <td>3810.028000</td>\n",
       "      <td>3825.344259</td>\n",
       "      <td>NaN</td>\n",
       "      <td>NaN</td>\n",
       "      <td>NaN</td>\n",
       "    </tr>\n",
       "    <tr>\n",
       "      <th>2019-08-05</th>\n",
       "      <td>3675.6900</td>\n",
       "      <td>3724.4100</td>\n",
       "      <td>3739.5000</td>\n",
       "      <td>3675.6900</td>\n",
       "      <td>3803.673000</td>\n",
       "      <td>3811.091472</td>\n",
       "      <td>NaN</td>\n",
       "      <td>NaN</td>\n",
       "      <td>NaN</td>\n",
       "    </tr>\n",
       "    <tr>\n",
       "      <th>2019-08-06</th>\n",
       "      <td>3636.3300</td>\n",
       "      <td>3609.1100</td>\n",
       "      <td>3649.9000</td>\n",
       "      <td>3575.8600</td>\n",
       "      <td>3795.833000</td>\n",
       "      <td>3794.447523</td>\n",
       "      <td>NaN</td>\n",
       "      <td>NaN</td>\n",
       "      <td>NaN</td>\n",
       "    </tr>\n",
       "    <tr>\n",
       "      <th>2019-08-07</th>\n",
       "      <td>3621.4300</td>\n",
       "      <td>3654.6300</td>\n",
       "      <td>3659.0800</td>\n",
       "      <td>3621.4300</td>\n",
       "      <td>3787.567500</td>\n",
       "      <td>3777.969663</td>\n",
       "      <td>NaN</td>\n",
       "      <td>NaN</td>\n",
       "      <td>NaN</td>\n",
       "    </tr>\n",
       "    <tr>\n",
       "      <th>2019-08-08</th>\n",
       "      <td>3669.2900</td>\n",
       "      <td>3651.3600</td>\n",
       "      <td>3675.4600</td>\n",
       "      <td>3646.9400</td>\n",
       "      <td>3781.771000</td>\n",
       "      <td>3767.619219</td>\n",
       "      <td>NaN</td>\n",
       "      <td>NaN</td>\n",
       "      <td>NaN</td>\n",
       "    </tr>\n",
       "    <tr>\n",
       "      <th>2019-08-09</th>\n",
       "      <td>3633.5300</td>\n",
       "      <td>3686.7500</td>\n",
       "      <td>3689.1800</td>\n",
       "      <td>3628.1200</td>\n",
       "      <td>3773.011000</td>\n",
       "      <td>3754.848817</td>\n",
       "      <td>NaN</td>\n",
       "      <td>NaN</td>\n",
       "      <td>NaN</td>\n",
       "    </tr>\n",
       "    <tr>\n",
       "      <th>...</th>\n",
       "      <td>...</td>\n",
       "      <td>...</td>\n",
       "      <td>...</td>\n",
       "      <td>...</td>\n",
       "      <td>...</td>\n",
       "      <td>...</td>\n",
       "      <td>...</td>\n",
       "      <td>...</td>\n",
       "      <td>...</td>\n",
       "    </tr>\n",
       "    <tr>\n",
       "      <th>2019-08-19</th>\n",
       "      <td>3791.0900</td>\n",
       "      <td>3736.0300</td>\n",
       "      <td>3791.0900</td>\n",
       "      <td>3720.6900</td>\n",
       "      <td>3745.469500</td>\n",
       "      <td>3735.723080</td>\n",
       "      <td>-31.318831</td>\n",
       "      <td>-38.445955</td>\n",
       "      <td>7.127123</td>\n",
       "    </tr>\n",
       "    <tr>\n",
       "      <th>2019-08-20</th>\n",
       "      <td>3787.7300</td>\n",
       "      <td>3786.0300</td>\n",
       "      <td>3799.9000</td>\n",
       "      <td>3778.7300</td>\n",
       "      <td>3745.360500</td>\n",
       "      <td>3740.676120</td>\n",
       "      <td>-23.600853</td>\n",
       "      <td>-35.476934</td>\n",
       "      <td>11.876081</td>\n",
       "    </tr>\n",
       "    <tr>\n",
       "      <th>2019-08-21</th>\n",
       "      <td>3781.7600</td>\n",
       "      <td>3778.3100</td>\n",
       "      <td>3792.6000</td>\n",
       "      <td>3775.4500</td>\n",
       "      <td>3743.457000</td>\n",
       "      <td>3744.588870</td>\n",
       "      <td>-17.761287</td>\n",
       "      <td>-31.933805</td>\n",
       "      <td>14.172517</td>\n",
       "    </tr>\n",
       "    <tr>\n",
       "      <th>2019-08-22</th>\n",
       "      <td>3793.5100</td>\n",
       "      <td>3793.8600</td>\n",
       "      <td>3797.3300</td>\n",
       "      <td>3771.2000</td>\n",
       "      <td>3740.579000</td>\n",
       "      <td>3749.248025</td>\n",
       "      <td>-12.046399</td>\n",
       "      <td>-27.956324</td>\n",
       "      <td>15.909924</td>\n",
       "    </tr>\n",
       "    <tr>\n",
       "      <th>2019-08-23</th>\n",
       "      <td>3820.8600</td>\n",
       "      <td>3796.8800</td>\n",
       "      <td>3829.3600</td>\n",
       "      <td>3788.0300</td>\n",
       "      <td>3738.693500</td>\n",
       "      <td>3756.068213</td>\n",
       "      <td>-5.249876</td>\n",
       "      <td>-23.415034</td>\n",
       "      <td>18.165158</td>\n",
       "    </tr>\n",
       "    <tr>\n",
       "      <th>2019-08-26</th>\n",
       "      <td>3765.9100</td>\n",
       "      <td>3756.3600</td>\n",
       "      <td>3778.8700</td>\n",
       "      <td>3753.1600</td>\n",
       "      <td>3734.275500</td>\n",
       "      <td>3757.005526</td>\n",
       "      <td>-4.248612</td>\n",
       "      <td>-19.581750</td>\n",
       "      <td>15.333138</td>\n",
       "    </tr>\n",
       "    <tr>\n",
       "      <th>2019-08-27</th>\n",
       "      <td>3816.9500</td>\n",
       "      <td>3791.4600</td>\n",
       "      <td>3848.2400</td>\n",
       "      <td>3790.8700</td>\n",
       "      <td>3731.607000</td>\n",
       "      <td>3762.714524</td>\n",
       "      <td>0.655838</td>\n",
       "      <td>-15.534232</td>\n",
       "      <td>16.190070</td>\n",
       "    </tr>\n",
       "    <tr>\n",
       "      <th>2019-08-28</th>\n",
       "      <td>3802.5800</td>\n",
       "      <td>3818.8100</td>\n",
       "      <td>3822.5900</td>\n",
       "      <td>3790.1400</td>\n",
       "      <td>3729.968000</td>\n",
       "      <td>3766.511236</td>\n",
       "      <td>3.344557</td>\n",
       "      <td>-11.758474</td>\n",
       "      <td>15.103031</td>\n",
       "    </tr>\n",
       "    <tr>\n",
       "      <th>2019-08-29</th>\n",
       "      <td>3790.1900</td>\n",
       "      <td>3805.4900</td>\n",
       "      <td>3808.6000</td>\n",
       "      <td>3774.4000</td>\n",
       "      <td>3729.304000</td>\n",
       "      <td>3768.766356</td>\n",
       "      <td>4.424612</td>\n",
       "      <td>-8.521857</td>\n",
       "      <td>12.946469</td>\n",
       "    </tr>\n",
       "    <tr>\n",
       "      <th>2019-08-30</th>\n",
       "      <td>3799.5900</td>\n",
       "      <td>3816.6800</td>\n",
       "      <td>3828.9700</td>\n",
       "      <td>3778.9200</td>\n",
       "      <td>3731.911500</td>\n",
       "      <td>3771.701941</td>\n",
       "      <td>5.970244</td>\n",
       "      <td>-5.623437</td>\n",
       "      <td>11.593681</td>\n",
       "    </tr>\n",
       "    <tr>\n",
       "      <th>2019-09-02</th>\n",
       "      <td>3848.3200</td>\n",
       "      <td>3803.6900</td>\n",
       "      <td>3855.7800</td>\n",
       "      <td>3799.8200</td>\n",
       "      <td>3740.543000</td>\n",
       "      <td>3778.998899</td>\n",
       "      <td>11.000466</td>\n",
       "      <td>-2.298656</td>\n",
       "      <td>13.299122</td>\n",
       "    </tr>\n",
       "    <tr>\n",
       "      <th>2019-09-03</th>\n",
       "      <td>3853.6100</td>\n",
       "      <td>3852.5800</td>\n",
       "      <td>3856.6800</td>\n",
       "      <td>3833.7600</td>\n",
       "      <td>3751.407000</td>\n",
       "      <td>3786.104718</td>\n",
       "      <td>15.238156</td>\n",
       "      <td>1.208706</td>\n",
       "      <td>14.029450</td>\n",
       "    </tr>\n",
       "    <tr>\n",
       "      <th>2019-09-04</th>\n",
       "      <td>3886.0000</td>\n",
       "      <td>3848.6500</td>\n",
       "      <td>3886.0000</td>\n",
       "      <td>3846.4200</td>\n",
       "      <td>3764.635500</td>\n",
       "      <td>3795.618555</td>\n",
       "      <td>20.968446</td>\n",
       "      <td>5.160654</td>\n",
       "      <td>15.807792</td>\n",
       "    </tr>\n",
       "    <tr>\n",
       "      <th>2019-09-05</th>\n",
       "      <td>3925.3200</td>\n",
       "      <td>3909.2100</td>\n",
       "      <td>3970.0000</td>\n",
       "      <td>3909.2100</td>\n",
       "      <td>3777.437000</td>\n",
       "      <td>3807.971073</td>\n",
       "      <td>28.355672</td>\n",
       "      <td>9.799658</td>\n",
       "      <td>18.556014</td>\n",
       "    </tr>\n",
       "    <tr>\n",
       "      <th>2019-09-06</th>\n",
       "      <td>3948.5100</td>\n",
       "      <td>3946.6900</td>\n",
       "      <td>3948.5400</td>\n",
       "      <td>3922.3400</td>\n",
       "      <td>3793.186000</td>\n",
       "      <td>3821.355733</td>\n",
       "      <td>35.670157</td>\n",
       "      <td>14.973758</td>\n",
       "      <td>20.696400</td>\n",
       "    </tr>\n",
       "    <tr>\n",
       "      <th>2019-09-09</th>\n",
       "      <td>3972.9500</td>\n",
       "      <td>3980.9600</td>\n",
       "      <td>3985.2400</td>\n",
       "      <td>3954.8800</td>\n",
       "      <td>3806.878500</td>\n",
       "      <td>3835.793282</td>\n",
       "      <td>42.944012</td>\n",
       "      <td>20.567808</td>\n",
       "      <td>22.376203</td>\n",
       "    </tr>\n",
       "    <tr>\n",
       "      <th>2019-09-10</th>\n",
       "      <td>3959.2600</td>\n",
       "      <td>3976.8700</td>\n",
       "      <td>3976.9200</td>\n",
       "      <td>3938.7400</td>\n",
       "      <td>3821.554000</td>\n",
       "      <td>3847.552017</td>\n",
       "      <td>47.061430</td>\n",
       "      <td>25.866533</td>\n",
       "      <td>21.194897</td>\n",
       "    </tr>\n",
       "    <tr>\n",
       "      <th>2019-09-11</th>\n",
       "      <td>3930.1000</td>\n",
       "      <td>3969.6800</td>\n",
       "      <td>3971.2200</td>\n",
       "      <td>3922.9500</td>\n",
       "      <td>3833.939000</td>\n",
       "      <td>3855.413730</td>\n",
       "      <td>47.424861</td>\n",
       "      <td>30.178198</td>\n",
       "      <td>17.246663</td>\n",
       "    </tr>\n",
       "    <tr>\n",
       "      <th>2019-09-12</th>\n",
       "      <td>3972.3800</td>\n",
       "      <td>3944.6900</td>\n",
       "      <td>3975.9300</td>\n",
       "      <td>3933.4400</td>\n",
       "      <td>3847.858000</td>\n",
       "      <td>3866.553375</td>\n",
       "      <td>50.541910</td>\n",
       "      <td>34.250941</td>\n",
       "      <td>16.290969</td>\n",
       "    </tr>\n",
       "    <tr>\n",
       "      <th>2019-09-16</th>\n",
       "      <td>3957.7200</td>\n",
       "      <td>3981.3600</td>\n",
       "      <td>3982.2000</td>\n",
       "      <td>3943.3700</td>\n",
       "      <td>3860.217000</td>\n",
       "      <td>3875.235910</td>\n",
       "      <td>51.238607</td>\n",
       "      <td>37.648474</td>\n",
       "      <td>13.590133</td>\n",
       "    </tr>\n",
       "    <tr>\n",
       "      <th>2019-09-17</th>\n",
       "      <td>3891.2200</td>\n",
       "      <td>3947.1600</td>\n",
       "      <td>3947.1600</td>\n",
       "      <td>3879.4900</td>\n",
       "      <td>3865.223500</td>\n",
       "      <td>3876.758205</td>\n",
       "      <td>45.895694</td>\n",
       "      <td>39.297918</td>\n",
       "      <td>6.597776</td>\n",
       "    </tr>\n",
       "    <tr>\n",
       "      <th>2019-09-18</th>\n",
       "      <td>3910.0800</td>\n",
       "      <td>3902.9900</td>\n",
       "      <td>3923.1500</td>\n",
       "      <td>3902.5100</td>\n",
       "      <td>3871.341000</td>\n",
       "      <td>3879.931709</td>\n",
       "      <td>42.691124</td>\n",
       "      <td>39.976559</td>\n",
       "      <td>2.714565</td>\n",
       "    </tr>\n",
       "    <tr>\n",
       "      <th>2019-09-19</th>\n",
       "      <td>3924.3800</td>\n",
       "      <td>3923.9600</td>\n",
       "      <td>3924.3800</td>\n",
       "      <td>3897.0700</td>\n",
       "      <td>3878.472000</td>\n",
       "      <td>3884.164880</td>\n",
       "      <td>40.834653</td>\n",
       "      <td>40.148178</td>\n",
       "      <td>0.686475</td>\n",
       "    </tr>\n",
       "    <tr>\n",
       "      <th>2019-09-20</th>\n",
       "      <td>3935.6500</td>\n",
       "      <td>3933.4600</td>\n",
       "      <td>3942.2200</td>\n",
       "      <td>3921.4100</td>\n",
       "      <td>3885.579000</td>\n",
       "      <td>3889.068224</td>\n",
       "      <td>39.813833</td>\n",
       "      <td>40.081309</td>\n",
       "      <td>-0.267476</td>\n",
       "    </tr>\n",
       "    <tr>\n",
       "      <th>2019-09-23</th>\n",
       "      <td>3890.6600</td>\n",
       "      <td>3925.1900</td>\n",
       "      <td>3925.1900</td>\n",
       "      <td>3868.2100</td>\n",
       "      <td>3889.069000</td>\n",
       "      <td>3889.219822</td>\n",
       "      <td>34.971380</td>\n",
       "      <td>39.059323</td>\n",
       "      <td>-4.087943</td>\n",
       "    </tr>\n",
       "    <tr>\n",
       "      <th>2019-09-24</th>\n",
       "      <td>3901.0800</td>\n",
       "      <td>3895.8700</td>\n",
       "      <td>3927.0100</td>\n",
       "      <td>3886.1400</td>\n",
       "      <td>3895.827500</td>\n",
       "      <td>3890.349363</td>\n",
       "      <td>31.610126</td>\n",
       "      <td>37.569484</td>\n",
       "      <td>-5.959358</td>\n",
       "    </tr>\n",
       "    <tr>\n",
       "      <th>2019-09-25</th>\n",
       "      <td>3870.9837</td>\n",
       "      <td>3887.5548</td>\n",
       "      <td>3889.8390</td>\n",
       "      <td>3867.2277</td>\n",
       "      <td>3898.529185</td>\n",
       "      <td>3888.505014</td>\n",
       "      <td>26.215591</td>\n",
       "      <td>35.298705</td>\n",
       "      <td>-9.083114</td>\n",
       "    </tr>\n",
       "    <tr>\n",
       "      <th>2019-09-26</th>\n",
       "      <td>3870.9837</td>\n",
       "      <td>3870.9837</td>\n",
       "      <td>3870.9837</td>\n",
       "      <td>3870.9837</td>\n",
       "      <td>3901.949370</td>\n",
       "      <td>3886.836317</td>\n",
       "      <td>21.690351</td>\n",
       "      <td>32.577034</td>\n",
       "      <td>-10.886684</td>\n",
       "    </tr>\n",
       "    <tr>\n",
       "      <th>2019-09-27</th>\n",
       "      <td>3870.9837</td>\n",
       "      <td>3870.9837</td>\n",
       "      <td>3870.9837</td>\n",
       "      <td>3870.9837</td>\n",
       "      <td>3905.989055</td>\n",
       "      <td>3885.326544</td>\n",
       "      <td>17.897751</td>\n",
       "      <td>29.641178</td>\n",
       "      <td>-11.743427</td>\n",
       "    </tr>\n",
       "    <tr>\n",
       "      <th>2019-09-30</th>\n",
       "      <td>3870.9837</td>\n",
       "      <td>3870.9837</td>\n",
       "      <td>3870.9837</td>\n",
       "      <td>3870.9837</td>\n",
       "      <td>3909.558740</td>\n",
       "      <td>3883.960559</td>\n",
       "      <td>14.722378</td>\n",
       "      <td>26.657418</td>\n",
       "      <td>-11.935040</td>\n",
       "    </tr>\n",
       "  </tbody>\n",
       "</table>\n",
       "<p>65 rows × 9 columns</p>\n",
       "</div>"
      ],
      "text/plain": [
       "                close       open       high        low          SMA  \\\n",
       "2019-07-01  3935.8100  3899.3300  3936.6700  3886.9100          NaN   \n",
       "2019-07-02  3937.1700  3931.0500  3942.4300  3918.9400          NaN   \n",
       "2019-07-03  3893.5300  3927.4400  3927.4400  3878.8400          NaN   \n",
       "2019-07-04  3873.1000  3895.2000  3906.8900  3854.6900          NaN   \n",
       "2019-07-05  3893.2000  3875.3700  3900.3100  3857.9300          NaN   \n",
       "2019-07-08  3802.7900  3875.7500  3875.7500  3775.0300          NaN   \n",
       "2019-07-09  3793.1300  3798.1000  3811.1000  3774.7600          NaN   \n",
       "2019-07-10  3786.7400  3807.9500  3810.4000  3774.2300          NaN   \n",
       "2019-07-11  3785.2200  3806.1900  3830.7400  3774.4100          NaN   \n",
       "2019-07-12  3808.7300  3783.0700  3820.2400  3774.5200          NaN   \n",
       "2019-07-15  3824.1900  3792.6400  3844.8700  3745.8500          NaN   \n",
       "2019-07-16  3806.8400  3819.2500  3828.3300  3799.8700          NaN   \n",
       "2019-07-17  3804.6400  3800.1100  3820.2700  3787.9000          NaN   \n",
       "2019-07-18  3768.4000  3793.1900  3793.3900  3768.0000          NaN   \n",
       "2019-07-19  3807.9600  3787.5100  3828.1500  3787.5100          NaN   \n",
       "2019-07-22  3781.6800  3813.5000  3816.5400  3765.4400          NaN   \n",
       "2019-07-23  3789.9100  3783.5400  3792.9600  3768.7600          NaN   \n",
       "2019-07-24  3819.8300  3803.5900  3840.0600  3803.5700          NaN   \n",
       "2019-07-25  3851.0700  3821.3900  3851.0700  3812.9500          NaN   \n",
       "2019-07-26  3858.5700  3835.2300  3863.5900  3832.5200  3831.125500   \n",
       "2019-07-29  3854.2700  3857.9400  3862.7500  3842.4300  3827.048500   \n",
       "2019-07-30  3870.3200  3861.5700  3890.7300  3861.5700  3823.706000   \n",
       "2019-07-31  3835.3600  3856.7400  3856.7400  3830.0900  3820.797500   \n",
       "2019-08-01  3803.4700  3819.3200  3831.2600  3791.5500  3817.316000   \n",
       "2019-08-02  3747.4400  3729.1300  3754.5300  3720.0600  3810.028000   \n",
       "2019-08-05  3675.6900  3724.4100  3739.5000  3675.6900  3803.673000   \n",
       "2019-08-06  3636.3300  3609.1100  3649.9000  3575.8600  3795.833000   \n",
       "2019-08-07  3621.4300  3654.6300  3659.0800  3621.4300  3787.567500   \n",
       "2019-08-08  3669.2900  3651.3600  3675.4600  3646.9400  3781.771000   \n",
       "2019-08-09  3633.5300  3686.7500  3689.1800  3628.1200  3773.011000   \n",
       "...               ...        ...        ...        ...          ...   \n",
       "2019-08-19  3791.0900  3736.0300  3791.0900  3720.6900  3745.469500   \n",
       "2019-08-20  3787.7300  3786.0300  3799.9000  3778.7300  3745.360500   \n",
       "2019-08-21  3781.7600  3778.3100  3792.6000  3775.4500  3743.457000   \n",
       "2019-08-22  3793.5100  3793.8600  3797.3300  3771.2000  3740.579000   \n",
       "2019-08-23  3820.8600  3796.8800  3829.3600  3788.0300  3738.693500   \n",
       "2019-08-26  3765.9100  3756.3600  3778.8700  3753.1600  3734.275500   \n",
       "2019-08-27  3816.9500  3791.4600  3848.2400  3790.8700  3731.607000   \n",
       "2019-08-28  3802.5800  3818.8100  3822.5900  3790.1400  3729.968000   \n",
       "2019-08-29  3790.1900  3805.4900  3808.6000  3774.4000  3729.304000   \n",
       "2019-08-30  3799.5900  3816.6800  3828.9700  3778.9200  3731.911500   \n",
       "2019-09-02  3848.3200  3803.6900  3855.7800  3799.8200  3740.543000   \n",
       "2019-09-03  3853.6100  3852.5800  3856.6800  3833.7600  3751.407000   \n",
       "2019-09-04  3886.0000  3848.6500  3886.0000  3846.4200  3764.635500   \n",
       "2019-09-05  3925.3200  3909.2100  3970.0000  3909.2100  3777.437000   \n",
       "2019-09-06  3948.5100  3946.6900  3948.5400  3922.3400  3793.186000   \n",
       "2019-09-09  3972.9500  3980.9600  3985.2400  3954.8800  3806.878500   \n",
       "2019-09-10  3959.2600  3976.8700  3976.9200  3938.7400  3821.554000   \n",
       "2019-09-11  3930.1000  3969.6800  3971.2200  3922.9500  3833.939000   \n",
       "2019-09-12  3972.3800  3944.6900  3975.9300  3933.4400  3847.858000   \n",
       "2019-09-16  3957.7200  3981.3600  3982.2000  3943.3700  3860.217000   \n",
       "2019-09-17  3891.2200  3947.1600  3947.1600  3879.4900  3865.223500   \n",
       "2019-09-18  3910.0800  3902.9900  3923.1500  3902.5100  3871.341000   \n",
       "2019-09-19  3924.3800  3923.9600  3924.3800  3897.0700  3878.472000   \n",
       "2019-09-20  3935.6500  3933.4600  3942.2200  3921.4100  3885.579000   \n",
       "2019-09-23  3890.6600  3925.1900  3925.1900  3868.2100  3889.069000   \n",
       "2019-09-24  3901.0800  3895.8700  3927.0100  3886.1400  3895.827500   \n",
       "2019-09-25  3870.9837  3887.5548  3889.8390  3867.2277  3898.529185   \n",
       "2019-09-26  3870.9837  3870.9837  3870.9837  3870.9837  3901.949370   \n",
       "2019-09-27  3870.9837  3870.9837  3870.9837  3870.9837  3905.989055   \n",
       "2019-09-30  3870.9837  3870.9837  3870.9837  3870.9837  3909.558740   \n",
       "\n",
       "                    EMA       diff        dea       macd  \n",
       "2019-07-01          NaN        NaN        NaN        NaN  \n",
       "2019-07-02          NaN        NaN        NaN        NaN  \n",
       "2019-07-03          NaN        NaN        NaN        NaN  \n",
       "2019-07-04          NaN        NaN        NaN        NaN  \n",
       "2019-07-05          NaN        NaN        NaN        NaN  \n",
       "2019-07-08          NaN        NaN        NaN        NaN  \n",
       "2019-07-09          NaN        NaN        NaN        NaN  \n",
       "2019-07-10          NaN        NaN        NaN        NaN  \n",
       "2019-07-11          NaN        NaN        NaN        NaN  \n",
       "2019-07-12          NaN        NaN        NaN        NaN  \n",
       "2019-07-15          NaN        NaN        NaN        NaN  \n",
       "2019-07-16          NaN        NaN        NaN        NaN  \n",
       "2019-07-17          NaN        NaN        NaN        NaN  \n",
       "2019-07-18          NaN        NaN        NaN        NaN  \n",
       "2019-07-19          NaN        NaN        NaN        NaN  \n",
       "2019-07-22          NaN        NaN        NaN        NaN  \n",
       "2019-07-23          NaN        NaN        NaN        NaN  \n",
       "2019-07-24          NaN        NaN        NaN        NaN  \n",
       "2019-07-25          NaN        NaN        NaN        NaN  \n",
       "2019-07-26  3831.125500        NaN        NaN        NaN  \n",
       "2019-07-29  3833.329738        NaN        NaN        NaN  \n",
       "2019-07-30  3836.852620        NaN        NaN        NaN  \n",
       "2019-07-31  3836.710466        NaN        NaN        NaN  \n",
       "2019-08-01  3833.544707        NaN        NaN        NaN  \n",
       "2019-08-02  3825.344259        NaN        NaN        NaN  \n",
       "2019-08-05  3811.091472        NaN        NaN        NaN  \n",
       "2019-08-06  3794.447523        NaN        NaN        NaN  \n",
       "2019-08-07  3777.969663        NaN        NaN        NaN  \n",
       "2019-08-08  3767.619219        NaN        NaN        NaN  \n",
       "2019-08-09  3754.848817        NaN        NaN        NaN  \n",
       "...                 ...        ...        ...        ...  \n",
       "2019-08-19  3735.723080 -31.318831 -38.445955   7.127123  \n",
       "2019-08-20  3740.676120 -23.600853 -35.476934  11.876081  \n",
       "2019-08-21  3744.588870 -17.761287 -31.933805  14.172517  \n",
       "2019-08-22  3749.248025 -12.046399 -27.956324  15.909924  \n",
       "2019-08-23  3756.068213  -5.249876 -23.415034  18.165158  \n",
       "2019-08-26  3757.005526  -4.248612 -19.581750  15.333138  \n",
       "2019-08-27  3762.714524   0.655838 -15.534232  16.190070  \n",
       "2019-08-28  3766.511236   3.344557 -11.758474  15.103031  \n",
       "2019-08-29  3768.766356   4.424612  -8.521857  12.946469  \n",
       "2019-08-30  3771.701941   5.970244  -5.623437  11.593681  \n",
       "2019-09-02  3778.998899  11.000466  -2.298656  13.299122  \n",
       "2019-09-03  3786.104718  15.238156   1.208706  14.029450  \n",
       "2019-09-04  3795.618555  20.968446   5.160654  15.807792  \n",
       "2019-09-05  3807.971073  28.355672   9.799658  18.556014  \n",
       "2019-09-06  3821.355733  35.670157  14.973758  20.696400  \n",
       "2019-09-09  3835.793282  42.944012  20.567808  22.376203  \n",
       "2019-09-10  3847.552017  47.061430  25.866533  21.194897  \n",
       "2019-09-11  3855.413730  47.424861  30.178198  17.246663  \n",
       "2019-09-12  3866.553375  50.541910  34.250941  16.290969  \n",
       "2019-09-16  3875.235910  51.238607  37.648474  13.590133  \n",
       "2019-09-17  3876.758205  45.895694  39.297918   6.597776  \n",
       "2019-09-18  3879.931709  42.691124  39.976559   2.714565  \n",
       "2019-09-19  3884.164880  40.834653  40.148178   0.686475  \n",
       "2019-09-20  3889.068224  39.813833  40.081309  -0.267476  \n",
       "2019-09-23  3889.219822  34.971380  39.059323  -4.087943  \n",
       "2019-09-24  3890.349363  31.610126  37.569484  -5.959358  \n",
       "2019-09-25  3888.505014  26.215591  35.298705  -9.083114  \n",
       "2019-09-26  3886.836317  21.690351  32.577034 -10.886684  \n",
       "2019-09-27  3885.326544  17.897751  29.641178 -11.743427  \n",
       "2019-09-30  3883.960559  14.722378  26.657418 -11.935040  \n",
       "\n",
       "[65 rows x 9 columns]"
      ]
     },
     "execution_count": 156,
     "metadata": {},
     "output_type": "execute_result"
    }
   ],
   "source": [
    "df['diff'], df['dea'], df['macd'] = ta.MACD(df['close'], fastperiod=12, slowperiod=26, signalperiod=9)\n",
    "df"
   ]
  },
  {
   "cell_type": "code",
   "execution_count": 157,
   "metadata": {},
   "outputs": [
    {
     "data": {
      "text/plain": [
       "<matplotlib.axes._subplots.AxesSubplot at 0x1459a9cfe48>"
      ]
     },
     "execution_count": 157,
     "metadata": {},
     "output_type": "execute_result"
    },
    {
     "data": {
      "image/png": "[encoded data removed]",
      "text/plain": [
       "<Figure size 432x288 with 1 Axes>"
      ]
     },
     "metadata": {},
     "output_type": "display_data"
    }
   ],
   "source": [
    "df[['diff','dea','macd']].plot()"
   ]
  },
  {
   "cell_type": "code",
   "execution_count": null,
   "metadata": {},
   "outputs": [],
   "source": []
  }
 ],
 "metadata": {
  "kernelspec": {
   "display_name": "Python 3",
   "language": "python",
   "name": "python3"
  },
  "language_info": {
   "codemirror_mode": {
    "name": "ipython",
    "version": 3
   },
   "file_extension": ".py",
   "mimetype": "text/x-python",
   "name": "python",
   "nbconvert_exporter": "python",
   "pygments_lexer": "ipython3",
   "version": "3.7.0"
  },
  "pycharm": {
   "stem_cell": {
    "cell_type": "raw",
    "metadata": {
     "collapsed": false
    },
    "source": []
   }
  }
 },
 "nbformat": 4,
 "nbformat_minor": 2
}
